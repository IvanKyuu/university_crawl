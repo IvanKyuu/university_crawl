{
 "cells": [
  {
   "cell_type": "markdown",
   "metadata": {},
   "source": [
    "# Set up env"
   ]
  },
  {
   "cell_type": "code",
   "execution_count": 1,
   "metadata": {
    "vscode": {
     "languageId": "shellscript"
    }
   },
   "outputs": [
    {
     "name": "stdout",
     "output_type": "stream",
     "text": [
      "/home/ivan/Uforse/university_crawl\n",
      "Found build in PROJECT_HOME. Sourcing now...\n",
      "Obtaining file:///home/ivan/Uforse/university_crawl/university_info_generator\n",
      "  Preparing metadata (setup.py): started\n",
      "  Preparing metadata (setup.py): finished with status 'done'\n",
      "Requirement already satisfied: pandas in /home/ivan/anaconda3/envs/gpu/lib/python3.9/site-packages (from university-info-generator==0.0.3) (2.2.2)\n",
      "Requirement already satisfied: numpy in /home/ivan/anaconda3/envs/gpu/lib/python3.9/site-packages (from university-info-generator==0.0.3) (1.26.4)\n",
      "Requirement already satisfied: gspread in /home/ivan/anaconda3/envs/gpu/lib/python3.9/site-packages (from university-info-generator==0.0.3) (6.1.0)\n",
      "Requirement already satisfied: oauth2client in /home/ivan/anaconda3/envs/gpu/lib/python3.9/site-packages (from university-info-generator==0.0.3) (4.1.3)\n",
      "Requirement already satisfied: openai in /home/ivan/anaconda3/envs/gpu/lib/python3.9/site-packages (from university-info-generator==0.0.3) (1.28.0)\n",
      "Requirement already satisfied: python-dotenv in /home/ivan/anaconda3/envs/gpu/lib/python3.9/site-packages (from university-info-generator==0.0.3) (0.21.0)\n",
      "Requirement already satisfied: gspread_dataframe in /home/ivan/anaconda3/envs/gpu/lib/python3.9/site-packages (from university-info-generator==0.0.3) (3.3.1)\n",
      "Requirement already satisfied: bs4 in /home/ivan/anaconda3/envs/gpu/lib/python3.9/site-packages (from university-info-generator==0.0.3) (0.0.2)\n",
      "Requirement already satisfied: tenacity in /home/ivan/anaconda3/envs/gpu/lib/python3.9/site-packages (from university-info-generator==0.0.3) (8.2.3)\n",
      "Requirement already satisfied: langchain in /home/ivan/anaconda3/envs/gpu/lib/python3.9/site-packages (from university-info-generator==0.0.3) (0.1.16)\n",
      "Requirement already satisfied: langchain-openai in /home/ivan/anaconda3/envs/gpu/lib/python3.9/site-packages (from university-info-generator==0.0.3) (0.1.3)\n",
      "Requirement already satisfied: google-api-python-client in /home/ivan/anaconda3/envs/gpu/lib/python3.9/site-packages (from university-info-generator==0.0.3) (2.127.0)\n",
      "Requirement already satisfied: langchain-chroma in /home/ivan/anaconda3/envs/gpu/lib/python3.9/site-packages (from university-info-generator==0.0.3) (0.1.0)\n",
      "Requirement already satisfied: tavily-python in /home/ivan/anaconda3/envs/gpu/lib/python3.9/site-packages (from university-info-generator==0.0.3) (0.3.3)\n",
      "Requirement already satisfied: selenium in /home/ivan/anaconda3/envs/gpu/lib/python3.9/site-packages (from university-info-generator==0.0.3) (4.21.0)\n",
      "Requirement already satisfied: beautifulsoup4 in /home/ivan/anaconda3/envs/gpu/lib/python3.9/site-packages (from bs4->university-info-generator==0.0.3) (4.11.1)\n",
      "Requirement already satisfied: httplib2<1.dev0,>=0.19.0 in /home/ivan/anaconda3/envs/gpu/lib/python3.9/site-packages (from google-api-python-client->university-info-generator==0.0.3) (0.22.0)\n",
      "Requirement already satisfied: google-auth!=2.24.0,!=2.25.0,<3.0.0.dev0,>=1.32.0 in /home/ivan/anaconda3/envs/gpu/lib/python3.9/site-packages (from google-api-python-client->university-info-generator==0.0.3) (2.27.0)\n",
      "Requirement already satisfied: google-auth-httplib2<1.0.0,>=0.2.0 in /home/ivan/anaconda3/envs/gpu/lib/python3.9/site-packages (from google-api-python-client->university-info-generator==0.0.3) (0.2.0)\n",
      "Requirement already satisfied: google-api-core!=2.0.*,!=2.1.*,!=2.2.*,!=2.3.0,<3.0.0.dev0,>=1.31.5 in /home/ivan/anaconda3/envs/gpu/lib/python3.9/site-packages (from google-api-python-client->university-info-generator==0.0.3) (2.18.0)\n",
      "Requirement already satisfied: uritemplate<5,>=3.0.1 in /home/ivan/anaconda3/envs/gpu/lib/python3.9/site-packages (from google-api-python-client->university-info-generator==0.0.3) (4.1.1)\n",
      "Requirement already satisfied: google-auth-oauthlib>=0.4.1 in /home/ivan/anaconda3/envs/gpu/lib/python3.9/site-packages (from gspread->university-info-generator==0.0.3) (1.2.0)\n",
      "Requirement already satisfied: StrEnum==0.4.15 in /home/ivan/anaconda3/envs/gpu/lib/python3.9/site-packages (from gspread->university-info-generator==0.0.3) (0.4.15)\n",
      "Requirement already satisfied: six>=1.12.0 in /home/ivan/anaconda3/envs/gpu/lib/python3.9/site-packages (from gspread_dataframe->university-info-generator==0.0.3) (1.16.0)\n",
      "Requirement already satisfied: python-dateutil>=2.8.2 in /home/ivan/anaconda3/envs/gpu/lib/python3.9/site-packages (from pandas->university-info-generator==0.0.3) (2.8.2)\n",
      "Requirement already satisfied: pytz>=2020.1 in /home/ivan/anaconda3/envs/gpu/lib/python3.9/site-packages (from pandas->university-info-generator==0.0.3) (2022.7)\n",
      "Requirement already satisfied: tzdata>=2022.7 in /home/ivan/anaconda3/envs/gpu/lib/python3.9/site-packages (from pandas->university-info-generator==0.0.3) (2024.1)\n",
      "Requirement already satisfied: PyYAML>=5.3 in /home/ivan/anaconda3/envs/gpu/lib/python3.9/site-packages (from langchain->university-info-generator==0.0.3) (6.0)\n",
      "Requirement already satisfied: SQLAlchemy<3,>=1.4 in /home/ivan/anaconda3/envs/gpu/lib/python3.9/site-packages (from langchain->university-info-generator==0.0.3) (2.0.29)\n",
      "Requirement already satisfied: aiohttp<4.0.0,>=3.8.3 in /home/ivan/anaconda3/envs/gpu/lib/python3.9/site-packages (from langchain->university-info-generator==0.0.3) (3.8.3)\n",
      "Requirement already satisfied: async-timeout<5.0.0,>=4.0.0 in /home/ivan/anaconda3/envs/gpu/lib/python3.9/site-packages (from langchain->university-info-generator==0.0.3) (4.0.2)\n",
      "Requirement already satisfied: dataclasses-json<0.7,>=0.5.7 in /home/ivan/anaconda3/envs/gpu/lib/python3.9/site-packages (from langchain->university-info-generator==0.0.3) (0.6.4)\n",
      "Requirement already satisfied: jsonpatch<2.0,>=1.33 in /home/ivan/anaconda3/envs/gpu/lib/python3.9/site-packages (from langchain->university-info-generator==0.0.3) (1.33)\n",
      "Requirement already satisfied: langchain-community<0.1,>=0.0.32 in /home/ivan/anaconda3/envs/gpu/lib/python3.9/site-packages (from langchain->university-info-generator==0.0.3) (0.0.36)\n",
      "Requirement already satisfied: langchain-core<0.2.0,>=0.1.42 in /home/ivan/anaconda3/envs/gpu/lib/python3.9/site-packages (from langchain->university-info-generator==0.0.3) (0.1.48)\n",
      "Requirement already satisfied: langchain-text-splitters<0.1,>=0.0.1 in /home/ivan/anaconda3/envs/gpu/lib/python3.9/site-packages (from langchain->university-info-generator==0.0.3) (0.0.1)\n",
      "Requirement already satisfied: langsmith<0.2.0,>=0.1.17 in /home/ivan/anaconda3/envs/gpu/lib/python3.9/site-packages (from langchain->university-info-generator==0.0.3) (0.1.50)\n",
      "Requirement already satisfied: pydantic<3,>=1 in /home/ivan/anaconda3/envs/gpu/lib/python3.9/site-packages (from langchain->university-info-generator==0.0.3) (1.10.11)\n",
      "Requirement already satisfied: requests<3,>=2 in /home/ivan/anaconda3/envs/gpu/lib/python3.9/site-packages (from langchain->university-info-generator==0.0.3) (2.28.1)\n",
      "Requirement already satisfied: chromadb<0.5.0,>=0.4.0 in /home/ivan/anaconda3/envs/gpu/lib/python3.9/site-packages (from langchain-chroma->university-info-generator==0.0.3) (0.4.24)\n",
      "Requirement already satisfied: fastapi<1,>=0.95.2 in /home/ivan/anaconda3/envs/gpu/lib/python3.9/site-packages (from langchain-chroma->university-info-generator==0.0.3) (0.110.2)\n",
      "Requirement already satisfied: tiktoken<1,>=0.5.2 in /home/ivan/anaconda3/envs/gpu/lib/python3.9/site-packages (from langchain-openai->university-info-generator==0.0.3) (0.6.0)\n",
      "Requirement already satisfied: anyio<5,>=3.5.0 in /home/ivan/anaconda3/envs/gpu/lib/python3.9/site-packages (from openai->university-info-generator==0.0.3) (3.5.0)\n",
      "Requirement already satisfied: distro<2,>=1.7.0 in /home/ivan/anaconda3/envs/gpu/lib/python3.9/site-packages (from openai->university-info-generator==0.0.3) (1.9.0)\n",
      "Requirement already satisfied: httpx<1,>=0.23.0 in /home/ivan/anaconda3/envs/gpu/lib/python3.9/site-packages (from openai->university-info-generator==0.0.3) (0.27.0)\n",
      "Requirement already satisfied: sniffio in /home/ivan/anaconda3/envs/gpu/lib/python3.9/site-packages (from openai->university-info-generator==0.0.3) (1.2.0)\n",
      "Requirement already satisfied: tqdm>4 in /home/ivan/anaconda3/envs/gpu/lib/python3.9/site-packages (from openai->university-info-generator==0.0.3) (4.66.2)\n",
      "Requirement already satisfied: typing-extensions<5,>=4.7 in /home/ivan/anaconda3/envs/gpu/lib/python3.9/site-packages (from openai->university-info-generator==0.0.3) (4.11.0)\n",
      "Requirement already satisfied: pyasn1>=0.1.7 in /home/ivan/anaconda3/envs/gpu/lib/python3.9/site-packages (from oauth2client->university-info-generator==0.0.3) (0.4.8)\n",
      "Requirement already satisfied: pyasn1-modules>=0.0.5 in /home/ivan/anaconda3/envs/gpu/lib/python3.9/site-packages (from oauth2client->university-info-generator==0.0.3) (0.2.8)\n",
      "Requirement already satisfied: rsa>=3.1.4 in /home/ivan/anaconda3/envs/gpu/lib/python3.9/site-packages (from oauth2client->university-info-generator==0.0.3) (4.9)\n",
      "Requirement already satisfied: urllib3<3,>=1.26 in /home/ivan/anaconda3/envs/gpu/lib/python3.9/site-packages (from urllib3[socks]<3,>=1.26->selenium->university-info-generator==0.0.3) (1.26.14)\n",
      "Requirement already satisfied: trio~=0.17 in /home/ivan/anaconda3/envs/gpu/lib/python3.9/site-packages (from selenium->university-info-generator==0.0.3) (0.22.2)\n",
      "Requirement already satisfied: trio-websocket~=0.9 in /home/ivan/anaconda3/envs/gpu/lib/python3.9/site-packages (from selenium->university-info-generator==0.0.3) (0.11.1)\n",
      "Requirement already satisfied: certifi>=2021.10.8 in /home/ivan/anaconda3/envs/gpu/lib/python3.9/site-packages (from selenium->university-info-generator==0.0.3) (2023.7.22)\n",
      "Requirement already satisfied: attrs>=17.3.0 in /home/ivan/anaconda3/envs/gpu/lib/python3.9/site-packages (from aiohttp<4.0.0,>=3.8.3->langchain->university-info-generator==0.0.3) (22.1.0)\n",
      "Requirement already satisfied: charset-normalizer<3.0,>=2.0 in /home/ivan/anaconda3/envs/gpu/lib/python3.9/site-packages (from aiohttp<4.0.0,>=3.8.3->langchain->university-info-generator==0.0.3) (2.0.4)\n",
      "Requirement already satisfied: multidict<7.0,>=4.5 in /home/ivan/anaconda3/envs/gpu/lib/python3.9/site-packages (from aiohttp<4.0.0,>=3.8.3->langchain->university-info-generator==0.0.3) (6.0.2)\n",
      "Requirement already satisfied: yarl<2.0,>=1.0 in /home/ivan/anaconda3/envs/gpu/lib/python3.9/site-packages (from aiohttp<4.0.0,>=3.8.3->langchain->university-info-generator==0.0.3) (1.8.1)\n",
      "Requirement already satisfied: frozenlist>=1.1.1 in /home/ivan/anaconda3/envs/gpu/lib/python3.9/site-packages (from aiohttp<4.0.0,>=3.8.3->langchain->university-info-generator==0.0.3) (1.3.3)\n",
      "Requirement already satisfied: aiosignal>=1.1.2 in /home/ivan/anaconda3/envs/gpu/lib/python3.9/site-packages (from aiohttp<4.0.0,>=3.8.3->langchain->university-info-generator==0.0.3) (1.2.0)\n",
      "Requirement already satisfied: idna>=2.8 in /home/ivan/anaconda3/envs/gpu/lib/python3.9/site-packages (from anyio<5,>=3.5.0->openai->university-info-generator==0.0.3) (3.4)\n",
      "Requirement already satisfied: build>=1.0.3 in /home/ivan/anaconda3/envs/gpu/lib/python3.9/site-packages (from chromadb<0.5.0,>=0.4.0->langchain-chroma->university-info-generator==0.0.3) (1.2.1)\n",
      "Requirement already satisfied: chroma-hnswlib==0.7.3 in /home/ivan/anaconda3/envs/gpu/lib/python3.9/site-packages (from chromadb<0.5.0,>=0.4.0->langchain-chroma->university-info-generator==0.0.3) (0.7.3)\n",
      "Requirement already satisfied: uvicorn>=0.18.3 in /home/ivan/anaconda3/envs/gpu/lib/python3.9/site-packages (from uvicorn[standard]>=0.18.3->chromadb<0.5.0,>=0.4.0->langchain-chroma->university-info-generator==0.0.3) (0.29.0)\n",
      "Requirement already satisfied: posthog>=2.4.0 in /home/ivan/anaconda3/envs/gpu/lib/python3.9/site-packages (from chromadb<0.5.0,>=0.4.0->langchain-chroma->university-info-generator==0.0.3) (3.5.0)\n",
      "Requirement already satisfied: pulsar-client>=3.1.0 in /home/ivan/anaconda3/envs/gpu/lib/python3.9/site-packages (from chromadb<0.5.0,>=0.4.0->langchain-chroma->university-info-generator==0.0.3) (3.5.0)\n",
      "Requirement already satisfied: onnxruntime>=1.14.1 in /home/ivan/anaconda3/envs/gpu/lib/python3.9/site-packages (from chromadb<0.5.0,>=0.4.0->langchain-chroma->university-info-generator==0.0.3) (1.17.3)\n",
      "Requirement already satisfied: opentelemetry-api>=1.2.0 in /home/ivan/anaconda3/envs/gpu/lib/python3.9/site-packages (from chromadb<0.5.0,>=0.4.0->langchain-chroma->university-info-generator==0.0.3) (1.24.0)\n",
      "Requirement already satisfied: opentelemetry-exporter-otlp-proto-grpc>=1.2.0 in /home/ivan/anaconda3/envs/gpu/lib/python3.9/site-packages (from chromadb<0.5.0,>=0.4.0->langchain-chroma->university-info-generator==0.0.3) (1.24.0)\n",
      "Requirement already satisfied: opentelemetry-instrumentation-fastapi>=0.41b0 in /home/ivan/anaconda3/envs/gpu/lib/python3.9/site-packages (from chromadb<0.5.0,>=0.4.0->langchain-chroma->university-info-generator==0.0.3) (0.45b0)\n",
      "Requirement already satisfied: opentelemetry-sdk>=1.2.0 in /home/ivan/anaconda3/envs/gpu/lib/python3.9/site-packages (from chromadb<0.5.0,>=0.4.0->langchain-chroma->university-info-generator==0.0.3) (1.24.0)\n",
      "Requirement already satisfied: tokenizers>=0.13.2 in /home/ivan/anaconda3/envs/gpu/lib/python3.9/site-packages (from chromadb<0.5.0,>=0.4.0->langchain-chroma->university-info-generator==0.0.3) (0.19.1)\n",
      "Requirement already satisfied: pypika>=0.48.9 in /home/ivan/anaconda3/envs/gpu/lib/python3.9/site-packages (from chromadb<0.5.0,>=0.4.0->langchain-chroma->university-info-generator==0.0.3) (0.48.9)\n",
      "Requirement already satisfied: overrides>=7.3.1 in /home/ivan/anaconda3/envs/gpu/lib/python3.9/site-packages (from chromadb<0.5.0,>=0.4.0->langchain-chroma->university-info-generator==0.0.3) (7.7.0)\n",
      "Requirement already satisfied: importlib-resources in /home/ivan/anaconda3/envs/gpu/lib/python3.9/site-packages (from chromadb<0.5.0,>=0.4.0->langchain-chroma->university-info-generator==0.0.3) (6.4.0)\n",
      "Requirement already satisfied: grpcio>=1.58.0 in /home/ivan/anaconda3/envs/gpu/lib/python3.9/site-packages (from chromadb<0.5.0,>=0.4.0->langchain-chroma->university-info-generator==0.0.3) (1.62.2)\n",
      "Requirement already satisfied: bcrypt>=4.0.1 in /home/ivan/anaconda3/envs/gpu/lib/python3.9/site-packages (from chromadb<0.5.0,>=0.4.0->langchain-chroma->university-info-generator==0.0.3) (4.1.2)\n",
      "Requirement already satisfied: typer>=0.9.0 in /home/ivan/anaconda3/envs/gpu/lib/python3.9/site-packages (from chromadb<0.5.0,>=0.4.0->langchain-chroma->university-info-generator==0.0.3) (0.12.3)\n",
      "Requirement already satisfied: kubernetes>=28.1.0 in /home/ivan/anaconda3/envs/gpu/lib/python3.9/site-packages (from chromadb<0.5.0,>=0.4.0->langchain-chroma->university-info-generator==0.0.3) (29.0.0)\n",
      "Requirement already satisfied: mmh3>=4.0.1 in /home/ivan/anaconda3/envs/gpu/lib/python3.9/site-packages (from chromadb<0.5.0,>=0.4.0->langchain-chroma->university-info-generator==0.0.3) (4.1.0)\n",
      "Requirement already satisfied: orjson>=3.9.12 in /home/ivan/anaconda3/envs/gpu/lib/python3.9/site-packages (from chromadb<0.5.0,>=0.4.0->langchain-chroma->university-info-generator==0.0.3) (3.10.1)\n",
      "Requirement already satisfied: marshmallow<4.0.0,>=3.18.0 in /home/ivan/anaconda3/envs/gpu/lib/python3.9/site-packages (from dataclasses-json<0.7,>=0.5.7->langchain->university-info-generator==0.0.3) (3.21.1)\n",
      "Requirement already satisfied: typing-inspect<1,>=0.4.0 in /home/ivan/anaconda3/envs/gpu/lib/python3.9/site-packages (from dataclasses-json<0.7,>=0.5.7->langchain->university-info-generator==0.0.3) (0.8.0)\n",
      "Requirement already satisfied: starlette<0.38.0,>=0.37.2 in /home/ivan/anaconda3/envs/gpu/lib/python3.9/site-packages (from fastapi<1,>=0.95.2->langchain-chroma->university-info-generator==0.0.3) (0.37.2)\n",
      "Requirement already satisfied: googleapis-common-protos<2.0.dev0,>=1.56.2 in /home/ivan/anaconda3/envs/gpu/lib/python3.9/site-packages (from google-api-core!=2.0.*,!=2.1.*,!=2.2.*,!=2.3.0,<3.0.0.dev0,>=1.31.5->google-api-python-client->university-info-generator==0.0.3) (1.63.0)\n",
      "Requirement already satisfied: protobuf!=3.20.0,!=3.20.1,!=4.21.0,!=4.21.1,!=4.21.2,!=4.21.3,!=4.21.4,!=4.21.5,<5.0.0.dev0,>=3.19.5 in /home/ivan/anaconda3/envs/gpu/lib/python3.9/site-packages (from google-api-core!=2.0.*,!=2.1.*,!=2.2.*,!=2.3.0,<3.0.0.dev0,>=1.31.5->google-api-python-client->university-info-generator==0.0.3) (4.21.12)\n",
      "Requirement already satisfied: proto-plus<2.0.0dev,>=1.22.3 in /home/ivan/anaconda3/envs/gpu/lib/python3.9/site-packages (from google-api-core!=2.0.*,!=2.1.*,!=2.2.*,!=2.3.0,<3.0.0.dev0,>=1.31.5->google-api-python-client->university-info-generator==0.0.3) (1.23.0)\n",
      "Requirement already satisfied: cachetools<6.0,>=2.0.0 in /home/ivan/anaconda3/envs/gpu/lib/python3.9/site-packages (from google-auth!=2.24.0,!=2.25.0,<3.0.0.dev0,>=1.32.0->google-api-python-client->university-info-generator==0.0.3) (5.3.2)\n",
      "Requirement already satisfied: requests-oauthlib>=0.7.0 in /home/ivan/anaconda3/envs/gpu/lib/python3.9/site-packages (from google-auth-oauthlib>=0.4.1->gspread->university-info-generator==0.0.3) (1.3.1)\n",
      "Requirement already satisfied: pyparsing!=3.0.0,!=3.0.1,!=3.0.2,!=3.0.3,<4,>=2.4.2 in /home/ivan/anaconda3/envs/gpu/lib/python3.9/site-packages (from httplib2<1.dev0,>=0.19.0->google-api-python-client->university-info-generator==0.0.3) (3.0.9)\n",
      "Requirement already satisfied: httpcore==1.* in /home/ivan/anaconda3/envs/gpu/lib/python3.9/site-packages (from httpx<1,>=0.23.0->openai->university-info-generator==0.0.3) (1.0.4)\n",
      "Requirement already satisfied: h11<0.15,>=0.13 in /home/ivan/anaconda3/envs/gpu/lib/python3.9/site-packages (from httpcore==1.*->httpx<1,>=0.23.0->openai->university-info-generator==0.0.3) (0.14.0)\n",
      "Requirement already satisfied: jsonpointer>=1.9 in /home/ivan/anaconda3/envs/gpu/lib/python3.9/site-packages (from jsonpatch<2.0,>=1.33->langchain->university-info-generator==0.0.3) (2.4)\n",
      "Requirement already satisfied: packaging<24.0,>=23.2 in /home/ivan/anaconda3/envs/gpu/lib/python3.9/site-packages (from langchain-core<0.2.0,>=0.1.42->langchain->university-info-generator==0.0.3) (23.2)\n",
      "Requirement already satisfied: greenlet!=0.4.17 in /home/ivan/anaconda3/envs/gpu/lib/python3.9/site-packages (from SQLAlchemy<3,>=1.4->langchain->university-info-generator==0.0.3) (3.0.3)\n",
      "Requirement already satisfied: regex>=2022.1.18 in /home/ivan/anaconda3/envs/gpu/lib/python3.9/site-packages (from tiktoken<1,>=0.5.2->langchain-openai->university-info-generator==0.0.3) (2022.7.9)\n",
      "Requirement already satisfied: sortedcontainers in /home/ivan/anaconda3/envs/gpu/lib/python3.9/site-packages (from trio~=0.17->selenium->university-info-generator==0.0.3) (2.4.0)\n",
      "Requirement already satisfied: outcome in /home/ivan/anaconda3/envs/gpu/lib/python3.9/site-packages (from trio~=0.17->selenium->university-info-generator==0.0.3) (1.2.0)\n",
      "Requirement already satisfied: exceptiongroup>=1.0.0rc9 in /home/ivan/anaconda3/envs/gpu/lib/python3.9/site-packages (from trio~=0.17->selenium->university-info-generator==0.0.3) (1.1.3)\n",
      "Requirement already satisfied: wsproto>=0.14 in /home/ivan/anaconda3/envs/gpu/lib/python3.9/site-packages (from trio-websocket~=0.9->selenium->university-info-generator==0.0.3) (1.2.0)\n",
      "Requirement already satisfied: PySocks!=1.5.7,<2.0,>=1.5.6 in /home/ivan/anaconda3/envs/gpu/lib/python3.9/site-packages (from urllib3[socks]<3,>=1.26->selenium->university-info-generator==0.0.3) (1.7.1)\n",
      "Requirement already satisfied: soupsieve>1.2 in /home/ivan/anaconda3/envs/gpu/lib/python3.9/site-packages (from beautifulsoup4->bs4->university-info-generator==0.0.3) (2.3.2.post1)\n",
      "Requirement already satisfied: pyproject_hooks in /home/ivan/anaconda3/envs/gpu/lib/python3.9/site-packages (from build>=1.0.3->chromadb<0.5.0,>=0.4.0->langchain-chroma->university-info-generator==0.0.3) (1.0.0)\n",
      "Requirement already satisfied: importlib-metadata>=4.6 in /home/ivan/anaconda3/envs/gpu/lib/python3.9/site-packages (from build>=1.0.3->chromadb<0.5.0,>=0.4.0->langchain-chroma->university-info-generator==0.0.3) (7.0.0)\n",
      "Requirement already satisfied: tomli>=1.1.0 in /home/ivan/anaconda3/envs/gpu/lib/python3.9/site-packages (from build>=1.0.3->chromadb<0.5.0,>=0.4.0->langchain-chroma->university-info-generator==0.0.3) (2.0.1)\n",
      "Requirement already satisfied: websocket-client!=0.40.0,!=0.41.*,!=0.42.*,>=0.32.0 in /home/ivan/anaconda3/envs/gpu/lib/python3.9/site-packages (from kubernetes>=28.1.0->chromadb<0.5.0,>=0.4.0->langchain-chroma->university-info-generator==0.0.3) (0.58.0)\n",
      "Requirement already satisfied: oauthlib>=3.2.2 in /home/ivan/anaconda3/envs/gpu/lib/python3.9/site-packages (from kubernetes>=28.1.0->chromadb<0.5.0,>=0.4.0->langchain-chroma->university-info-generator==0.0.3) (3.2.2)\n",
      "Requirement already satisfied: coloredlogs in /home/ivan/anaconda3/envs/gpu/lib/python3.9/site-packages (from onnxruntime>=1.14.1->chromadb<0.5.0,>=0.4.0->langchain-chroma->university-info-generator==0.0.3) (15.0.1)\n",
      "Requirement already satisfied: flatbuffers in /home/ivan/anaconda3/envs/gpu/lib/python3.9/site-packages (from onnxruntime>=1.14.1->chromadb<0.5.0,>=0.4.0->langchain-chroma->university-info-generator==0.0.3) (23.5.26)\n",
      "Requirement already satisfied: sympy in /home/ivan/anaconda3/envs/gpu/lib/python3.9/site-packages (from onnxruntime>=1.14.1->chromadb<0.5.0,>=0.4.0->langchain-chroma->university-info-generator==0.0.3) (1.11.1)\n",
      "Requirement already satisfied: deprecated>=1.2.6 in /home/ivan/anaconda3/envs/gpu/lib/python3.9/site-packages (from opentelemetry-api>=1.2.0->chromadb<0.5.0,>=0.4.0->langchain-chroma->university-info-generator==0.0.3) (1.2.14)\n",
      "Requirement already satisfied: opentelemetry-exporter-otlp-proto-common==1.24.0 in /home/ivan/anaconda3/envs/gpu/lib/python3.9/site-packages (from opentelemetry-exporter-otlp-proto-grpc>=1.2.0->chromadb<0.5.0,>=0.4.0->langchain-chroma->university-info-generator==0.0.3) (1.24.0)\n",
      "Requirement already satisfied: opentelemetry-proto==1.24.0 in /home/ivan/anaconda3/envs/gpu/lib/python3.9/site-packages (from opentelemetry-exporter-otlp-proto-grpc>=1.2.0->chromadb<0.5.0,>=0.4.0->langchain-chroma->university-info-generator==0.0.3) (1.24.0)\n",
      "Requirement already satisfied: opentelemetry-instrumentation-asgi==0.45b0 in /home/ivan/anaconda3/envs/gpu/lib/python3.9/site-packages (from opentelemetry-instrumentation-fastapi>=0.41b0->chromadb<0.5.0,>=0.4.0->langchain-chroma->university-info-generator==0.0.3) (0.45b0)\n",
      "Requirement already satisfied: opentelemetry-instrumentation==0.45b0 in /home/ivan/anaconda3/envs/gpu/lib/python3.9/site-packages (from opentelemetry-instrumentation-fastapi>=0.41b0->chromadb<0.5.0,>=0.4.0->langchain-chroma->university-info-generator==0.0.3) (0.45b0)\n",
      "Requirement already satisfied: opentelemetry-semantic-conventions==0.45b0 in /home/ivan/anaconda3/envs/gpu/lib/python3.9/site-packages (from opentelemetry-instrumentation-fastapi>=0.41b0->chromadb<0.5.0,>=0.4.0->langchain-chroma->university-info-generator==0.0.3) (0.45b0)\n",
      "Requirement already satisfied: opentelemetry-util-http==0.45b0 in /home/ivan/anaconda3/envs/gpu/lib/python3.9/site-packages (from opentelemetry-instrumentation-fastapi>=0.41b0->chromadb<0.5.0,>=0.4.0->langchain-chroma->university-info-generator==0.0.3) (0.45b0)\n",
      "Requirement already satisfied: setuptools>=16.0 in /home/ivan/anaconda3/envs/gpu/lib/python3.9/site-packages (from opentelemetry-instrumentation==0.45b0->opentelemetry-instrumentation-fastapi>=0.41b0->chromadb<0.5.0,>=0.4.0->langchain-chroma->university-info-generator==0.0.3) (65.6.3)\n",
      "Requirement already satisfied: wrapt<2.0.0,>=1.0.0 in /home/ivan/anaconda3/envs/gpu/lib/python3.9/site-packages (from opentelemetry-instrumentation==0.45b0->opentelemetry-instrumentation-fastapi>=0.41b0->chromadb<0.5.0,>=0.4.0->langchain-chroma->university-info-generator==0.0.3) (1.14.1)\n",
      "Requirement already satisfied: asgiref~=3.0 in /home/ivan/anaconda3/envs/gpu/lib/python3.9/site-packages (from opentelemetry-instrumentation-asgi==0.45b0->opentelemetry-instrumentation-fastapi>=0.41b0->chromadb<0.5.0,>=0.4.0->langchain-chroma->university-info-generator==0.0.3) (3.8.1)\n",
      "Requirement already satisfied: monotonic>=1.5 in /home/ivan/anaconda3/envs/gpu/lib/python3.9/site-packages (from posthog>=2.4.0->chromadb<0.5.0,>=0.4.0->langchain-chroma->university-info-generator==0.0.3) (1.6)\n",
      "Requirement already satisfied: backoff>=1.10.0 in /home/ivan/anaconda3/envs/gpu/lib/python3.9/site-packages (from posthog>=2.4.0->chromadb<0.5.0,>=0.4.0->langchain-chroma->university-info-generator==0.0.3) (2.2.1)\n",
      "Requirement already satisfied: huggingface-hub<1.0,>=0.16.4 in /home/ivan/anaconda3/envs/gpu/lib/python3.9/site-packages (from tokenizers>=0.13.2->chromadb<0.5.0,>=0.4.0->langchain-chroma->university-info-generator==0.0.3) (0.22.2)\n",
      "Requirement already satisfied: click>=8.0.0 in /home/ivan/anaconda3/envs/gpu/lib/python3.9/site-packages (from typer>=0.9.0->chromadb<0.5.0,>=0.4.0->langchain-chroma->university-info-generator==0.0.3) (8.1.7)\n",
      "Requirement already satisfied: shellingham>=1.3.0 in /home/ivan/anaconda3/envs/gpu/lib/python3.9/site-packages (from typer>=0.9.0->chromadb<0.5.0,>=0.4.0->langchain-chroma->university-info-generator==0.0.3) (1.5.4)\n",
      "Requirement already satisfied: rich>=10.11.0 in /home/ivan/anaconda3/envs/gpu/lib/python3.9/site-packages (from typer>=0.9.0->chromadb<0.5.0,>=0.4.0->langchain-chroma->university-info-generator==0.0.3) (13.7.1)\n",
      "Requirement already satisfied: mypy-extensions>=0.3.0 in /home/ivan/anaconda3/envs/gpu/lib/python3.9/site-packages (from typing-inspect<1,>=0.4.0->dataclasses-json<0.7,>=0.5.7->langchain->university-info-generator==0.0.3) (0.4.3)\n",
      "Requirement already satisfied: httptools>=0.5.0 in /home/ivan/anaconda3/envs/gpu/lib/python3.9/site-packages (from uvicorn[standard]>=0.18.3->chromadb<0.5.0,>=0.4.0->langchain-chroma->university-info-generator==0.0.3) (0.6.1)\n",
      "Requirement already satisfied: uvloop!=0.15.0,!=0.15.1,>=0.14.0 in /home/ivan/anaconda3/envs/gpu/lib/python3.9/site-packages (from uvicorn[standard]>=0.18.3->chromadb<0.5.0,>=0.4.0->langchain-chroma->university-info-generator==0.0.3) (0.19.0)\n",
      "Requirement already satisfied: watchfiles>=0.13 in /home/ivan/anaconda3/envs/gpu/lib/python3.9/site-packages (from uvicorn[standard]>=0.18.3->chromadb<0.5.0,>=0.4.0->langchain-chroma->university-info-generator==0.0.3) (0.21.0)\n",
      "Requirement already satisfied: websockets>=10.4 in /home/ivan/anaconda3/envs/gpu/lib/python3.9/site-packages (from uvicorn[standard]>=0.18.3->chromadb<0.5.0,>=0.4.0->langchain-chroma->university-info-generator==0.0.3) (12.0)\n",
      "Requirement already satisfied: zipp>=3.1.0 in /home/ivan/anaconda3/envs/gpu/lib/python3.9/site-packages (from importlib-resources->chromadb<0.5.0,>=0.4.0->langchain-chroma->university-info-generator==0.0.3) (3.11.0)\n",
      "Requirement already satisfied: filelock in /home/ivan/anaconda3/envs/gpu/lib/python3.9/site-packages (from huggingface-hub<1.0,>=0.16.4->tokenizers>=0.13.2->chromadb<0.5.0,>=0.4.0->langchain-chroma->university-info-generator==0.0.3) (3.9.0)\n",
      "Requirement already satisfied: fsspec>=2023.5.0 in /home/ivan/anaconda3/envs/gpu/lib/python3.9/site-packages (from huggingface-hub<1.0,>=0.16.4->tokenizers>=0.13.2->chromadb<0.5.0,>=0.4.0->langchain-chroma->university-info-generator==0.0.3) (2024.3.1)\n",
      "Requirement already satisfied: markdown-it-py>=2.2.0 in /home/ivan/anaconda3/envs/gpu/lib/python3.9/site-packages (from rich>=10.11.0->typer>=0.9.0->chromadb<0.5.0,>=0.4.0->langchain-chroma->university-info-generator==0.0.3) (3.0.0)\n",
      "Requirement already satisfied: pygments<3.0.0,>=2.13.0 in /home/ivan/anaconda3/envs/gpu/lib/python3.9/site-packages (from rich>=10.11.0->typer>=0.9.0->chromadb<0.5.0,>=0.4.0->langchain-chroma->university-info-generator==0.0.3) (2.17.2)\n",
      "Requirement already satisfied: humanfriendly>=9.1 in /home/ivan/anaconda3/envs/gpu/lib/python3.9/site-packages (from coloredlogs->onnxruntime>=1.14.1->chromadb<0.5.0,>=0.4.0->langchain-chroma->university-info-generator==0.0.3) (10.0)\n",
      "Requirement already satisfied: mpmath>=0.19 in /home/ivan/anaconda3/envs/gpu/lib/python3.9/site-packages (from sympy->onnxruntime>=1.14.1->chromadb<0.5.0,>=0.4.0->langchain-chroma->university-info-generator==0.0.3) (1.2.1)\n",
      "Requirement already satisfied: mdurl~=0.1 in /home/ivan/anaconda3/envs/gpu/lib/python3.9/site-packages (from markdown-it-py>=2.2.0->rich>=10.11.0->typer>=0.9.0->chromadb<0.5.0,>=0.4.0->langchain-chroma->university-info-generator==0.0.3) (0.1.2)\n",
      "Installing collected packages: university-info-generator\n",
      "  Attempting uninstall: university-info-generator\n",
      "    Found existing installation: university-info-generator 0.0.3\n",
      "    Uninstalling university-info-generator-0.0.3:\n",
      "      Successfully uninstalled university-info-generator-0.0.3\n",
      "  Running setup.py develop for university-info-generator\n",
      "Successfully installed university-info-generator-0.0.3\n",
      "Directory already exists: /home/ivan/Uforse/university_crawl/cache_repo\n",
      "Environment variables set:\n",
      "PROJECT_HOME=/home/ivan/Uforse/university_crawl\n",
      "PYTHONPATH=/home/ivan/Uforse/university_crawl:\n",
      "API_KEY_PATH=/home/ivan/Uforse/university_crawl\n",
      "CACHE_REPO_PATH=/home/ivan/Uforse/university_crawl/cache_repo\n",
      "LANGCHAIN_API_KEY=ls__3780df60c0ef4fd2b2414f032feb31ce\n",
      "Environment set up for uni_info_generator\n",
      "build executed successfully.\n"
     ]
    }
   ],
   "source": [
    "%%sh\n",
    "# current_path=$(pwd)\n",
    "# parent_dir=$(dirname \"$current_dir\")\n",
    "export PROJECT_HOME=\"/home/ivan/Uforse/university_crawl\"\n",
    "echo $PROJECT_HOME\n",
    "if [ -f \"${PROJECT_HOME}/build\" ]; then\n",
    "    echo \"Found build in PROJECT_HOME. Sourcing now...\"\n",
    "    . \"${PROJECT_HOME}/build\"\n",
    "    echo \"build executed successfully.\"\n",
    "else\n",
    "    echo \"Error: build not found in PROJECT_HOME.\"\n",
    "fi"
   ]
  },
  {
   "cell_type": "code",
   "execution_count": 2,
   "metadata": {},
   "outputs": [
    {
     "name": "stdout",
     "output_type": "stream",
     "text": [
      "/home/ivan/anaconda3/envs/gpu/bin/python\n"
     ]
    }
   ],
   "source": [
    "import os\n",
    "import sys\n",
    "from pprint import pprint\n",
    "\n",
    "#'/home/ivan/Uforse/university_crawl/fetch_logic'\n",
    "current_path = os.path.abspath('./')\n",
    "\n",
    "#'/home/ivan/Uforse/university_crawl'\n",
    "parent_path = os.path.dirname(current_path)\n",
    "sys.path.append(parent_path)\n",
    "import sys\n",
    "print(sys.executable)\n",
    "sys.path.append('/home/ivan/Uforse/university_crawl')"
   ]
  },
  {
   "cell_type": "markdown",
   "metadata": {},
   "source": [
    "# Import"
   ]
  },
  {
   "cell_type": "code",
   "execution_count": 3,
   "metadata": {},
   "outputs": [],
   "source": [
    "import pandas as pd\n",
    "from pprint import pprint\n",
    "from typing import Dict\n",
    "from tqdm import tqdm\n",
    "from collections import defaultdict\n",
    "import numpy as np\n",
    "import concurrent.futures\n",
    "\n",
    "from university_info_generator import config\n",
    "from university_info_generator import UniversityInfoGenerator\n",
    "from university_info_generator import UniversityProgramScraper\n",
    "from university_info_generator import Program\n"
   ]
  },
  {
   "cell_type": "markdown",
   "metadata": {},
   "source": [
    "# Logic"
   ]
  },
  {
   "cell_type": "code",
   "execution_count": 4,
   "metadata": {},
   "outputs": [],
   "source": [
    "scraper = UniversityProgramScraper()\n",
    "canada_df = pd.read_csv(f\"{scraper.data_repo_path}/canada_dataset/all_universities_canada.csv\")\n",
    "qs_df = pd.read_csv(f\"{scraper.data_repo_path}/qs_ranking_2024.csv\")"
   ]
  },
  {
   "cell_type": "code",
   "execution_count": 5,
   "metadata": {},
   "outputs": [],
   "source": [
    "# # set unique id\n",
    "# lst = []\n",
    "# Program.set_program_id(0)\n",
    "# for i in range(10):\n",
    "#     lst.append(Program())\n",
    "# for pro in lst:\n",
    "#     print(pro.to_dict_en())"
   ]
  },
  {
   "cell_type": "markdown",
   "metadata": {},
   "source": [
    "## canada"
   ]
  },
  {
   "cell_type": "code",
   "execution_count": 6,
   "metadata": {},
   "outputs": [],
   "source": [
    "matched_df = UniversityProgramScraper.join_df(canada_df, qs_df)"
   ]
  },
  {
   "cell_type": "code",
   "execution_count": 7,
   "metadata": {},
   "outputs": [],
   "source": [
    "scraper = UniversityProgramScraper(need_selenium = False)\n"
   ]
  },
  {
   "cell_type": "code",
   "execution_count": 8,
   "metadata": {},
   "outputs": [],
   "source": [
    "canada_info_df = pd.read_csv(f\"{scraper.data_repo_path}/canada_dataset/canada_info.csv\", index_col=\"id_\")\n"
   ]
  },
  {
   "cell_type": "markdown",
   "metadata": {},
   "source": [
    "## scarp on one link"
   ]
  },
  {
   "cell_type": "code",
   "execution_count": 9,
   "metadata": {},
   "outputs": [
    {
     "name": "stdout",
     "output_type": "stream",
     "text": [
      "{'bachelor': {'Arts and Humanities': {'Architectural Engineering (BAS)': 'https://www.topuniversities.com/universities/university-waterloo/undergrad/architectural-engineering-bas', 'Architecture': 'https://www.topuniversities.com/universities/university-waterloo/undergrad/architecture', 'Classical Studies': 'https://www.topuniversities.com/universities/university-waterloo/undergrad/classical-studies', 'English': 'https://www.topuniversities.com/universities/university-waterloo/undergrad/english', 'Fine Arts': 'https://www.topuniversities.com/universities/university-waterloo/undergrad/fine-arts', 'French': 'https://www.topuniversities.com/universities/university-waterloo/undergrad/french', 'Geography and Aviation': 'https://www.topuniversities.com/universities/university-waterloo/undergrad/geography-aviation', 'Geography and Environmental Management': 'https://www.topuniversities.com/universities/university-waterloo/undergrad/geography-environmental-management', 'Geological Engineering (BAS)': 'https://www.topuniversities.com/universities/university-waterloo/undergrad/geological-engineering-bas', 'Geomatics': 'https://www.topuniversities.com/universities/university-waterloo/undergrad/geomatics', 'German': 'https://www.topuniversities.com/universities/university-waterloo/undergrad/german', 'History': 'https://www.topuniversities.com/universities/university-waterloo/undergrad/history', 'Knowledge Integration (BKI)': 'https://www.topuniversities.com/universities/university-waterloo/undergrad/knowledge-integration-bki', 'Liberal Studies': 'https://www.topuniversities.com/universities/university-waterloo/undergrad/liberal-studies', 'Medieval Studies': 'https://www.topuniversities.com/universities/university-waterloo/undergrad/medieval-studies', 'Music': 'https://www.topuniversities.com/universities/university-waterloo/undergrad/music', 'Philosophy': 'https://www.topuniversities.com/universities/university-waterloo/undergrad/philosophy', 'Planning': 'https://www.topuniversities.com/universities/university-waterloo/undergrad/planning', 'Spanish': 'https://www.topuniversities.com/universities/university-waterloo/undergrad/spanish', 'Theatre and Performance': 'https://www.topuniversities.com/universities/university-waterloo/undergrad/theatre-performance'}, 'Business and Management': {'Bachelor of Accounting and Financial Management': 'https://www.topuniversities.com/universities/university-waterloo/undergrad/bachelor-accounting-financial-management', 'Bachelor of Computing and Financial Management': 'https://www.topuniversities.com/universities/university-waterloo/undergrad/bachelor-computing-financial-management', 'Bachelor of Global Business and Digital Arts': 'https://www.topuniversities.com/universities/university-waterloo/undergrad/bachelor-global-business-digital-arts', 'Bachelor of Sustainability and Financial Management': 'https://www.topuniversities.com/universities/university-waterloo/undergrad/bachelor-sustainability-financial-management', 'Business Administration (Laurier) and Computer Science (Waterloo) Double Degree': 'https://www.topuniversities.com/universities/university-waterloo/undergrad/business-administration-laurier-computer-science-waterloo-double-degree', 'Business Administration (Laurier) and Mathematics (Waterloo) Double Degree': 'https://www.topuniversities.com/universities/university-waterloo/undergrad/business-administration-laurier-mathematics-waterloo-double-degree', 'Science and Business': 'https://www.topuniversities.com/universities/university-waterloo/undergrad/science-business'}, 'Engineering and Technology': {'Chemical Engineering (BAS)': 'https://www.topuniversities.com/universities/university-waterloo/undergrad/chemical-engineering-bas', 'Civil Engineering (BAS)': 'https://www.topuniversities.com/universities/university-waterloo/undergrad/civil-engineering-bas', 'Computer Engineering (BAS)': 'https://www.topuniversities.com/universities/university-waterloo/undergrad/computer-engineering-bas', 'Computer Science (Data Science) (BCS)': 'https://www.topuniversities.com/universities/university-waterloo/undergrad/computer-science-data-science-bcs', 'Electrical Engineering (BAS)': 'https://www.topuniversities.com/universities/university-waterloo/undergrad/electrical-engineering-bas', 'Management Engineering (BAS)': 'https://www.topuniversities.com/universities/university-waterloo/undergrad/management-engineering-bas', 'Mechanical Engineering (BAS)': 'https://www.topuniversities.com/universities/university-waterloo/undergrad/mechanical-engineering-bas', 'Mechatronics Engineering (BAS)': 'https://www.topuniversities.com/universities/university-waterloo/undergrad/mechatronics-engineering-bas', 'Nanotechnology Engineering (BAS)': 'https://www.topuniversities.com/universities/university-waterloo/undergrad/nanotechnology-engineering-bas', 'Software Engineering (BAS)': 'https://www.topuniversities.com/universities/university-waterloo/undergrad/software-engineering-bas', 'Systems Design Engineering (BAS)': 'https://www.topuniversities.com/universities/university-waterloo/undergrad/systems-design-engineering-bas'}, 'Life Sciences and Medicine': {'Anthropology': 'https://www.topuniversities.com/universities/university-waterloo/undergrad/anthropology', 'Biomedical Engineering (BAS)': 'https://www.topuniversities.com/universities/university-waterloo/undergrad/biomedical-engineering-bas', 'Biotechnology / Chartered Professional Accountancy': 'https://www.topuniversities.com/universities/university-waterloo/undergrad/biotechnology-chartered-professional-accountancy', 'Biotechnology / Economics': 'https://www.topuniversities.com/universities/university-waterloo/undergrad/biotechnology-economics', 'Kinesiology': 'https://www.topuniversities.com/universities/university-waterloo/undergrad/kinesiology', 'Life Sciences (Biochemistry)': 'https://www.topuniversities.com/universities/university-waterloo/undergrad/life-sciences-biochemistry', 'Life Sciences (Biology)': 'https://www.topuniversities.com/universities/university-waterloo/undergrad/life-sciences-biology', 'Life Sciences (Biomedical Sciences)': 'https://www.topuniversities.com/universities/university-waterloo/undergrad/life-sciences-biomedical-sciences', 'Life Sciences (Psychology)': 'https://www.topuniversities.com/universities/university-waterloo/undergrad/life-sciences-psychology', 'Physical Sciences (Medicinal Chemistry) (co-op only)': 'https://www.topuniversities.com/universities/university-waterloo/undergrad/physical-sciences-medicinal-chemistry-co-op-only', 'Psychology (Bachelor of Arts)': 'https://www.topuniversities.com/universities/university-waterloo/undergrad/psychology-bachelor-arts', 'Therapeutic Recreation': 'https://www.topuniversities.com/universities/university-waterloo/undergrad/therapeutic-recreation'}, 'Natural Sciences': {'Environment and Business': 'https://www.topuniversities.com/universities/university-waterloo/undergrad/environment-business', 'Environment, Resources and Sustainability': 'https://www.topuniversities.com/universities/university-waterloo/undergrad/environment-resources-sustainability', 'Environmental Engineering (BAS)': 'https://www.topuniversities.com/universities/university-waterloo/undergrad/environmental-engineering-bas', 'Environmental Science': 'https://www.topuniversities.com/universities/university-waterloo/undergrad/environmental-science', 'Mathematics (Actuarial Science)': 'https://www.topuniversities.com/universities/university-waterloo/undergrad/mathematics-actuarial-science', 'Mathematics (Applied Mathematics)': 'https://www.topuniversities.com/universities/university-waterloo/undergrad/mathematics-applied-mathematics', 'Mathematics (Biostatistics)': 'https://www.topuniversities.com/universities/university-waterloo/undergrad/mathematics-biostatistics', 'Mathematics (Combinatorics and Optimization)': 'https://www.topuniversities.com/universities/university-waterloo/undergrad/mathematics-combinatorics-optimization', 'Mathematics (Computational Mathematics)': 'https://www.topuniversities.com/universities/university-waterloo/undergrad/mathematics-computational-mathematics', 'Mathematics (Data Science)': 'https://www.topuniversities.com/universities/university-waterloo/undergrad/mathematics-data-science', 'Mathematics (Mathematical Economics)': 'https://www.topuniversities.com/universities/university-waterloo/undergrad/mathematics-mathematical-economics', 'Mathematics (Mathematical Finance)': 'https://www.topuniversities.com/universities/university-waterloo/undergrad/mathematics-mathematical-finance', 'Mathematics (Mathematical Optimization)': 'https://www.topuniversities.com/universities/university-waterloo/undergrad/mathematics-mathematical-optimization', 'Mathematics (Mathematical Physics)': 'https://www.topuniversities.com/universities/university-waterloo/undergrad/mathematics-mathematical-physics', 'Mathematics (Mathematical Studies)': 'https://www.topuniversities.com/universities/university-waterloo/undergrad/mathematics-mathematical-studies', 'Mathematics (Mathematics Teaching)': 'https://www.topuniversities.com/universities/university-waterloo/undergrad/mathematics-mathematics-teaching', 'Mathematics (Pure Mathematics)': 'https://www.topuniversities.com/universities/university-waterloo/undergrad/mathematics-pure-mathematics', 'Mathematics (Statistics)': 'https://www.topuniversities.com/universities/university-waterloo/undergrad/mathematics-statistics', 'Mathematics / Business Administration (Information Technology Management)': 'https://www.topuniversities.com/universities/university-waterloo/undergrad/mathematics-business-administration-information-technology-management', 'Mathematics / Chartered Professional Accountancy': 'https://www.topuniversities.com/universities/university-waterloo/undergrad/mathematics-chartered-professional-accountancy', 'Mathematics / Financial Analysis and Risk Management': 'https://www.topuniversities.com/universities/university-waterloo/undergrad/mathematics-financial-analysis-risk-management', 'Physical Sciences (Chemistry)': 'https://www.topuniversities.com/universities/university-waterloo/undergrad/physical-sciences-chemistry', 'Physical Sciences (Earth Sciences)': 'https://www.topuniversities.com/universities/university-waterloo/undergrad/physical-sciences-earth-sciences', 'Physical Sciences (Life Physics)': 'https://www.topuniversities.com/universities/university-waterloo/undergrad/physical-sciences-life-physics', 'Physical Sciences (Materials and Nanosciences)': 'https://www.topuniversities.com/universities/university-waterloo/undergrad/physical-sciences-materials-nanosciences', 'Physical Sciences (Mathematical Physics)': 'https://www.topuniversities.com/universities/university-waterloo/undergrad/physical-sciences-mathematical-physics', 'Physical Sciences (Physics and Astronomy)': 'https://www.topuniversities.com/universities/university-waterloo/undergrad/physical-sciences-physics-astronomy', 'Physical Sciences (Physics)': 'https://www.topuniversities.com/universities/university-waterloo/undergrad/physical-sciences-physics', 'Science and Aviation': 'https://www.topuniversities.com/universities/university-waterloo/undergrad/science-aviation'}, 'Social Sciences and Management': {'Economics': 'https://www.topuniversities.com/universities/university-waterloo/undergrad/economics', 'Gender and Social Justice': 'https://www.topuniversities.com/universities/university-waterloo/undergrad/gender-social-justice', 'Health Studies': 'https://www.topuniversities.com/universities/university-waterloo/undergrad/health-studies', 'International Development': 'https://www.topuniversities.com/universities/university-waterloo/undergrad/international-development', 'Legal Studies': 'https://www.topuniversities.com/universities/university-waterloo/undergrad/legal-studies', 'Peace and Conflict Studies': 'https://www.topuniversities.com/universities/university-waterloo/undergrad/peace-conflict-studies', 'Political Science': 'https://www.topuniversities.com/universities/university-waterloo/undergrad/political-science', 'Public Health': 'https://www.topuniversities.com/universities/university-waterloo/undergrad/public-health', 'Recreation and Leisure Studies': 'https://www.topuniversities.com/universities/university-waterloo/undergrad/recreation-leisure-studies', 'Recreation and Sport Business': 'https://www.topuniversities.com/universities/university-waterloo/undergrad/recreation-sport-business', 'Religious Studies': 'https://www.topuniversities.com/universities/university-waterloo/undergrad/religious-studies', 'Sexuality, Marriage and Family Studies': 'https://www.topuniversities.com/universities/university-waterloo/undergrad/sexuality-marriage-family-studies', 'Social Development Studies': 'https://www.topuniversities.com/universities/university-waterloo/undergrad/social-development-studies', 'Sociology': 'https://www.topuniversities.com/universities/university-waterloo/undergrad/sociology', 'Speech Communication': 'https://www.topuniversities.com/universities/university-waterloo/undergrad/speech-communication', 'Tourism Development': 'https://www.topuniversities.com/universities/university-waterloo/undergrad/tourism-development'}}, 'master': {'Arts and Humanities': {'Architecture (Taught)': 'https://www.topuniversities.com/universities/university-waterloo/postgrad/architecture-taught', 'Architecture (Water) (Taught)': 'https://www.topuniversities.com/universities/university-waterloo/postgrad/architecture-water-taught', 'Classical Studies (Taught)': 'https://www.topuniversities.com/universities/university-waterloo/postgrad/classical-studies-taught', 'Climate Change (MCC) (Taught)': 'https://www.topuniversities.com/universities/university-waterloo/postgrad/climate-change-mcc-taught', 'Earth Sciences (Taught)': 'https://www.topuniversities.com/universities/university-waterloo/postgrad/earth-sciences-taught', 'Earth Sciences (Water) (Taught)': 'https://www.topuniversities.com/universities/university-waterloo/postgrad/earth-sciences-water-taught', 'English (Experimental Digital Media) (Co-op) (Taught)': 'https://www.topuniversities.com/universities/university-waterloo/postgrad/english-experimental-digital-media-co-op-taught', 'English (Experimental Digital Media) (Taught)': 'https://www.topuniversities.com/universities/university-waterloo/postgrad/english-experimental-digital-media-taught', 'English (Literary Studies) (Co-op) (Taught)': 'https://www.topuniversities.com/universities/university-waterloo/postgrad/english-literary-studies-co-op-taught', 'English (Literary Studies) (Taught)': 'https://www.topuniversities.com/universities/university-waterloo/postgrad/english-literary-studies-taught', 'English (Rhetoric and Communication Design) (Co-op) (Taught)': 'https://www.topuniversities.com/universities/university-waterloo/postgrad/english-rhetoric-communication-design-co-op-taught', 'English (Rhetoric and Communication Design) (Taught)': 'https://www.topuniversities.com/universities/university-waterloo/postgrad/english-rhetoric-communication-design-taught', 'Fine Arts (Studio Art) (Taught)': 'https://www.topuniversities.com/universities/university-waterloo/postgrad/fine-arts-studio-art-taught', 'French Studies (Taught)': 'https://www.topuniversities.com/universities/university-waterloo/postgrad/french-studies-taught', 'Geography (MES) (Taught)': 'https://www.topuniversities.com/universities/university-waterloo/postgrad/geography-mes-taught', 'Geography (Taught)': 'https://www.topuniversities.com/universities/university-waterloo/postgrad/geography-taught-0', 'Geography (Water) (MES) (Taught)': 'https://www.topuniversities.com/universities/university-waterloo/postgrad/geography-water-mes-taught', 'Geography (Water) (Taught)': 'https://www.topuniversities.com/universities/university-waterloo/postgrad/geography-water-taught-0', 'German (Intercultural German Studies) (Taught)': 'https://www.topuniversities.com/universities/university-waterloo/postgrad/german-intercultural-german-studies-taught', 'German (Taught)': 'https://www.topuniversities.com/universities/university-waterloo/postgrad/german-taught', 'History (Taught)': 'https://www.topuniversities.com/universities/university-waterloo/postgrad/history-taught', 'Philosophy (Taught)': 'https://www.topuniversities.com/universities/university-waterloo/postgrad/philosophy-taught', 'Planning (MA) (Taught)': 'https://www.topuniversities.com/universities/university-waterloo/postgrad/planning-ma-taught', 'Planning (MES) (Taught)': 'https://www.topuniversities.com/universities/university-waterloo/postgrad/planning-mes-taught', 'Planning (MPlan) (Taught)': 'https://www.topuniversities.com/universities/university-waterloo/postgrad/planning-mplan-taught'}, 'Business and Management': {'Business, Entrepreneurship and Technology (MBET) (Taught)': 'https://www.topuniversities.com/universities/university-waterloo/postgrad/business-entrepreneurship-technology-mbet-taught', 'Master of Accounting (MAcc) (Taught)': 'https://www.topuniversities.com/universities/university-waterloo/postgrad/master-accounting-macc-taught', 'Quantitative Finance (MQF) (Taught)': 'https://www.topuniversities.com/universities/university-waterloo/postgrad/quantitative-finance-mqf-taught', 'Taxation (MTax) (Taught)': 'https://www.topuniversities.com/universities/university-waterloo/postgrad/taxation-mtax-taught'}, 'Engineering and Technology': {'Chemical Engineering (MASc) (Taught)': 'https://www.topuniversities.com/universities/university-waterloo/postgrad/chemical-engineering-masc-taught', 'Chemical Engineering (Nanotechnology) (MASc) (Taught)': 'https://www.topuniversities.com/universities/university-waterloo/postgrad/chemical-engineering-nanotechnology-masc-taught', 'Chemical Engineering (Taught)': 'https://www.topuniversities.com/universities/university-waterloo/postgrad/chemical-engineering-taught', 'Chemical Engineering (Water) (MASc) (Taught)': 'https://www.topuniversities.com/universities/university-waterloo/postgrad/chemical-engineering-water-masc-taught', 'Civil Engineering (MASc) (Taught)': 'https://www.topuniversities.com/universities/university-waterloo/postgrad/civil-engineering-masc-taught', 'Civil Engineering (Nuclear Engineering) (Taught)': 'https://www.topuniversities.com/universities/university-waterloo/postgrad/civil-engineering-nuclear-engineering-taught', 'Civil Engineering (Taught)': 'https://www.topuniversities.com/universities/university-waterloo/postgrad/civil-engineering-taught', 'Civil Engineering (Water) (MASc) (Taught)': 'https://www.topuniversities.com/universities/university-waterloo/postgrad/civil-engineering-water-masc-taught', 'Computer Science (MMath) (Taught)': 'https://www.topuniversities.com/universities/university-waterloo/postgrad/computer-science-mmath-taught', 'Computer Science (Quantum Information) (MMath) (Taught)': 'https://www.topuniversities.com/universities/university-waterloo/postgrad/computer-science-quantum-information-mmath-taught', 'Electrical and Computer Engineering (Electric Power Engineering) (Taught)': 'https://www.topuniversities.com/universities/university-waterloo/postgrad/electrical-computer-engineering-electric-power-engineering-taught', 'Electrical and Computer Engineering (MASc) (Taught)': 'https://www.topuniversities.com/universities/university-waterloo/postgrad/electrical-computer-engineering-masc-taught', 'Electrical and Computer Engineering (Nanotechnology) (MASc) (Taught)': 'https://www.topuniversities.com/universities/university-waterloo/postgrad/electrical-computer-engineering-nanotechnology-masc-taught', 'Electrical and Computer Engineering (Quantum Information) (MASc) (Taught)': 'https://www.topuniversities.com/universities/university-waterloo/postgrad/electrical-computer-engineering-quantum-information-masc-taught', 'Electrical and Computer Engineering (Taught)': 'https://www.topuniversities.com/universities/university-waterloo/postgrad/electrical-computer-engineering-taught', 'Mechanical and Mechatronics Engineering (MASc) (Taught)': 'https://www.topuniversities.com/universities/university-waterloo/postgrad/mechanical-mechatronics-engineering-masc-taught', 'Mechanical and Mechatronics Engineering (Nanotechnology) (MASc) (Taught)': 'https://www.topuniversities.com/universities/university-waterloo/postgrad/mechanical-mechatronics-engineering-nanotechnology-masc-taught', 'Mechanical and Mechatronics Engineering (Taught)': 'https://www.topuniversities.com/universities/university-waterloo/postgrad/mechanical-mechatronics-engineering-taught', 'Systems Design Engineering (MASc) (Taught)': 'https://www.topuniversities.com/universities/university-waterloo/postgrad/systems-design-engineering-masc-taught', 'Systems Design Engineering (Nanotechnology) (MASc) (Taught)': 'https://www.topuniversities.com/universities/university-waterloo/postgrad/systems-design-engineering-nanotechnology-masc-taught', 'Systems Design Engineering (Taught)': 'https://www.topuniversities.com/universities/university-waterloo/postgrad/systems-design-engineering-taught'}, 'Life Sciences and Medicine': {'Anthropology (Public Issues) (Taught)': 'https://www.topuniversities.com/universities/university-waterloo/postgrad/anthropology-public-issues-taught', 'Biology (Taught)': 'https://www.topuniversities.com/universities/university-waterloo/postgrad/biology-taught', 'Biology (Water) (Taught)': 'https://www.topuniversities.com/universities/university-waterloo/postgrad/biology-water-taught', 'Biostatistics (MMath) (Taught)': 'https://www.topuniversities.com/universities/university-waterloo/postgrad/biostatistics-mmath-taught', 'Kinesiology (Coursework) (Taught)': 'https://www.topuniversities.com/universities/university-waterloo/postgrad/kinesiology-coursework-taught', 'Kinesiology (Taught)': 'https://www.topuniversities.com/universities/university-waterloo/postgrad/kinesiology-taught', 'Pharmacy (Taught)': 'https://www.topuniversities.com/universities/university-waterloo/postgrad/pharmacy-taught', 'Psychology (Applied Psychology) (MASc) (Taught)': 'https://www.topuniversities.com/universities/university-waterloo/postgrad/psychology-applied-psychology-masc-taught', 'Psychology (Developmental and Communication Science) (MASc) (Taught)': 'https://www.topuniversities.com/universities/university-waterloo/postgrad/psychology-developmental-communication-science-masc-taught', 'Psychology (Taught)': 'https://www.topuniversities.com/universities/university-waterloo/postgrad/psychology-taught', 'Vision Science (Taught)': 'https://www.topuniversities.com/universities/university-waterloo/postgrad/vision-science-taught'}, 'Natural Sciences': {'Actuarial Science (MActSc) (Taught)': 'https://www.topuniversities.com/universities/university-waterloo/postgrad/actuarial-science-mactsc-taught', 'Actuarial Science (MMath) (Taught)': 'https://www.topuniversities.com/universities/university-waterloo/postgrad/actuarial-science-mmath-taught', 'Applied Mathematics (MMath) (Taught)': 'https://www.topuniversities.com/universities/university-waterloo/postgrad/applied-mathematics-mmath-taught', 'Applied Mathematics (Quantum Information) (MMath) (Taught)': 'https://www.topuniversities.com/universities/university-waterloo/postgrad/applied-mathematics-quantum-information-mmath-taught', 'Applied Mathematics (Water) (MMath) (Taught)': 'https://www.topuniversities.com/universities/university-waterloo/postgrad/applied-mathematics-water-mmath-taught', 'Chemistry (Co-op) (Taught)': 'https://www.topuniversities.com/universities/university-waterloo/postgrad/chemistry-co-op-taught', 'Chemistry (Nanotechnology) (Taught)': 'https://www.topuniversities.com/universities/university-waterloo/postgrad/chemistry-nanotechnology-taught', 'Chemistry (Quantum Information) (Taught)': 'https://www.topuniversities.com/universities/university-waterloo/postgrad/chemistry-quantum-information-taught', 'Chemistry (Taught)': 'https://www.topuniversities.com/universities/university-waterloo/postgrad/chemistry-taught', 'Combinatorics and Optimization (Co-op) (MMath) (Taught)': 'https://www.topuniversities.com/universities/university-waterloo/postgrad/combinatorics-optimization-co-op-mmath-taught', 'Combinatorics and Optimization (MMath) (Taught)': 'https://www.topuniversities.com/universities/university-waterloo/postgrad/combinatorics-optimization-mmath-taught', 'Combinatorics and Optimization (Quantum Information) (MMath) (Taught)': 'https://www.topuniversities.com/universities/university-waterloo/postgrad/combinatorics-optimization-quantum-information-mmath-taught', 'Computational Mathematics (MMath) (Taught)': 'https://www.topuniversities.com/universities/university-waterloo/postgrad/computational-mathematics-mmath-taught', 'Environment and Business (MEB) (Taught)': 'https://www.topuniversities.com/universities/university-waterloo/postgrad/environment-business-meb-taught', 'Mathematics for Teachers (MMT) (Taught)': 'https://www.topuniversities.com/universities/university-waterloo/postgrad/mathematics-teachers-mmt-taught', 'Physics (Nanotechnology) (Taught)': 'https://www.topuniversities.com/universities/university-waterloo/postgrad/physics-nanotechnology-taught', 'Physics (Quantum Information) (Taught)': 'https://www.topuniversities.com/universities/university-waterloo/postgrad/physics-quantum-information-taught', 'Physics (Taught)': 'https://www.topuniversities.com/universities/university-waterloo/postgrad/physics-taught', 'Pure Mathematics (MMath) (Taught)': 'https://www.topuniversities.com/universities/university-waterloo/postgrad/pure-mathematics-mmath-taught', 'Social and Ecological Sustainability (MES) (Taught)': 'https://www.topuniversities.com/universities/university-waterloo/postgrad/social-ecological-sustainability-mes-taught', 'Social and Ecological Sustainability (Water) (MES) (Taught)': 'https://www.topuniversities.com/universities/university-waterloo/postgrad/social-ecological-sustainability-water-mes-taught', 'Sustainability Management (MES) (Taught)': 'https://www.topuniversities.com/universities/university-waterloo/postgrad/sustainability-management-mes-taught', 'Sustainability Management (Water) (MES) (Taught)': 'https://www.topuniversities.com/universities/university-waterloo/postgrad/sustainability-management-water-mes-taught'}, 'Social Sciences and Management': {'Data Science (MMath) (Taught)': 'https://www.topuniversities.com/universities/university-waterloo/postgrad/data-science-mmath-taught', 'Data Science and Artificial Intelligence (Co-op) (MDSAI) (Taught)': 'https://www.topuniversities.com/universities/university-waterloo/postgrad/data-science-artificial-intelligence-co-op-mdsai-taught', 'Development Practice (MDP) (Taught)': 'https://www.topuniversities.com/universities/university-waterloo/postgrad/development-practice-mdp-taught', 'Digital Experience Innovation (MDEI) (Taught)': 'https://www.topuniversities.com/universities/university-waterloo/postgrad/digital-experience-innovation-mdei-taught', 'Economic Development and Innovation (MEDI) (Taught)': 'https://www.topuniversities.com/universities/university-waterloo/postgrad/economic-development-innovation-medi-taught', 'Economics (Co-op) (Taught)': 'https://www.topuniversities.com/universities/university-waterloo/postgrad/economics-co-op-taught', 'Economics (Taught)': 'https://www.topuniversities.com/universities/university-waterloo/postgrad/economics-taught', 'Economics (Water) (Co-op) (Taught)': 'https://www.topuniversities.com/universities/university-waterloo/postgrad/economics-water-co-op-taught', 'Economics (Water) (Taught)': 'https://www.topuniversities.com/universities/university-waterloo/postgrad/economics-water-taught', 'Global Governance (Taught)': 'https://www.topuniversities.com/universities/university-waterloo/postgrad/global-governance-taught', 'Health Evaluation (MHE) (Taught)': 'https://www.topuniversities.com/universities/university-waterloo/postgrad/health-evaluation-mhe-taught', 'Health Informatics (Public Health and Health Systems) (MHI) (Taught)': 'https://www.topuniversities.com/universities/university-waterloo/postgrad/health-informatics-public-health-health-systems-mhi-taught', 'Management Sciences (MASc) (Taught)': 'https://www.topuniversities.com/universities/university-waterloo/postgrad/management-sciences-masc-taught', 'Management Sciences (MMSc) (Taught)': 'https://www.topuniversities.com/universities/university-waterloo/postgrad/management-sciences-mmsc-taught', 'Management Sciences (Management of Technology) (MMSc) (Taught)': 'https://www.topuniversities.com/universities/university-waterloo/postgrad/management-sciences-management-technology-mmsc-taught', 'Peace and Conflict Studies (MPACS) (Taught)': 'https://www.topuniversities.com/universities/university-waterloo/postgrad/peace-conflict-studies-mpacs-taught', 'Political Science (Taught)': 'https://www.topuniversities.com/universities/university-waterloo/postgrad/political-science-taught', 'Public Health (Taught)': 'https://www.topuniversities.com/universities/university-waterloo/postgrad/public-health-taught', 'Public Health and Health Systems (Taught)': 'https://www.topuniversities.com/universities/university-waterloo/postgrad/public-health-health-systems-taught', 'Public Health and Health Systems (Water) (Taught)': 'https://www.topuniversities.com/universities/university-waterloo/postgrad/public-health-health-systems-water-taught', 'Public Service (Co-op) (MPS) (Taught)': 'https://www.topuniversities.com/universities/university-waterloo/postgrad/public-service-co-op-mps-taught', 'Public Service (MPS) (Taught)': 'https://www.topuniversities.com/universities/university-waterloo/postgrad/public-service-mps-taught', 'Recreation and Leisure Studies (Taught)': 'https://www.topuniversities.com/universities/university-waterloo/postgrad/recreation-leisure-studies-taught', 'Social Work (Taught)': 'https://www.topuniversities.com/universities/university-waterloo/postgrad/social-work-taught', 'Social and Legal Studies (Co-op) (Taught)': 'https://www.topuniversities.com/universities/university-waterloo/postgrad/social-legal-studies-co-op-taught', 'Social and Legal Studies (Taught)': 'https://www.topuniversities.com/universities/university-waterloo/postgrad/social-legal-studies-taught', 'Sociology (Co-op) (Taught)': 'https://www.topuniversities.com/universities/university-waterloo/postgrad/sociology-co-op-taught', 'Sociology (Taught)': 'https://www.topuniversities.com/universities/university-waterloo/postgrad/sociology-taught', 'Statistics (MMath) (Taught)': 'https://www.topuniversities.com/universities/university-waterloo/postgrad/statistics-mmath-taught'}}}\n"
     ]
    }
   ],
   "source": [
    "uwaterloo_program_lst = scraper.get_program_link_lst(link = \"https://www.topuniversities.com/universities/university-waterloo\")\n",
    "print(uwaterloo_program_lst)"
   ]
  },
  {
   "cell_type": "code",
   "execution_count": 10,
   "metadata": {},
   "outputs": [],
   "source": [
    "import requests\n",
    "from bs4 import BeautifulSoup, ResultSet, Tag"
   ]
  },
  {
   "cell_type": "code",
   "execution_count": 11,
   "metadata": {},
   "outputs": [],
   "source": [
    "# break"
   ]
  },
  {
   "cell_type": "code",
   "execution_count": 12,
   "metadata": {},
   "outputs": [],
   "source": [
    "# # fetch one university\n",
    "# Program.set_program_id(0)\n",
    "\n",
    "\n",
    "# def fetch_from_program_lst(program_lst: Dict[str, Dict[str, Dict[str, str]]], university_name: str):\n",
    "#     result_dict = {}\n",
    "#     key_set = Program.valid_keys\n",
    "#     key_set.difference_update([\"program_id\"])\n",
    "\n",
    "#     for study_degree in program_lst:\n",
    "#         for qs_general_program in program_lst[study_degree]:\n",
    "#             for program_name in tqdm(program_lst[study_degree][qs_general_program]):\n",
    "#                 # print(program_name)\n",
    "#                 # program =Program(university_name=university_name)\n",
    "#                 program = Program()\n",
    "#                 for key in key_set:\n",
    "#                     program.update({key: \"\"})\n",
    "#                 link = program_lst[study_degree][qs_general_program][program_name]\n",
    "#                 program.update({\"university_name\": university_name, \"qs_program_link\": link, \"qs_general_program\": qs_general_program})\n",
    "#                 # program = Program(university_name=university_name)\n",
    "#                 program = scraper.extract_program_by_link(link, program=program)\n",
    "#                 result_dict[f\"{study_degree} - {program_name}\"] = program.to_dict_en()\n",
    "#     return result_dict\n"
   ]
  },
  {
   "cell_type": "code",
   "execution_count": 25,
   "metadata": {},
   "outputs": [],
   "source": [
    "def scrape_program_data(link, university_name, qs_general_program, key_set):\n",
    "    program = Program()\n",
    "    for key in key_set:\n",
    "        program.update({key: \"\"})\n",
    "    program.update({\"university_name\": university_name, \"qs_program_link\": link, \"qs_general_program\": qs_general_program})\n",
    "    program = UniversityProgramScraper.extract_program_by_link(link, program=program)\n",
    "    return program.to_dict_en()\n",
    "\n",
    "def fetch_from_program_lst(program_lst: Dict[str, Dict[str, Dict[str, str]]], university_name: str):\n",
    "    result_dict = {}\n",
    "    key_set = Program.valid_keys\n",
    "    key_set.difference_update([\"program_id\"])\n",
    "\n",
    "    total_programs = sum(len(program_lst[study_degree][qs_general_program]) for study_degree in program_lst for qs_general_program in program_lst[study_degree])\n",
    "\n",
    "    with concurrent.futures.ThreadPoolExecutor(max_workers=10) as executor:\n",
    "        future_to_program = {}\n",
    "\n",
    "        for study_degree in program_lst:\n",
    "            for qs_general_program in program_lst[study_degree]:\n",
    "                for program_name in program_lst[study_degree][qs_general_program]:\n",
    "                    link = program_lst[study_degree][qs_general_program][program_name]\n",
    "                    future = executor.submit(scrape_program_data, link, university_name, qs_general_program, key_set)\n",
    "                    future_to_program[future] = f\"{study_degree} - {program_name}\"\n",
    "        with tqdm(total=total_programs, desc=\"Scraping Programs\") as pbar:\n",
    "            for future in concurrent.futures.as_completed(future_to_program):\n",
    "                program_name = future_to_program[future]\n",
    "                try:\n",
    "                    result_dict[program_name] = future.result()\n",
    "                except Exception as exc:\n",
    "                    print(f'Program {program_name} generated an exception: {exc}')\n",
    "                pbar.update(1)\n",
    "    return result_dict"
   ]
  },
  {
   "cell_type": "code",
   "execution_count": 26,
   "metadata": {},
   "outputs": [
    {
     "name": "stderr",
     "output_type": "stream",
     "text": [
      "Scraping Programs:   0%|          | 0/208 [00:00<?, ?it/s]"
     ]
    },
    {
     "name": "stderr",
     "output_type": "stream",
     "text": [
      "Scraping Programs: 100%|██████████| 208/208 [00:44<00:00,  4.65it/s]\n"
     ]
    }
   ],
   "source": [
    "result = fetch_from_program_lst(uwaterloo_program_lst, \"Universty of Waterloo\")"
   ]
  },
  {
   "cell_type": "code",
   "execution_count": 27,
   "metadata": {},
   "outputs": [],
   "source": [
    "scraper.quit_driver()"
   ]
  },
  {
   "cell_type": "code",
   "execution_count": 28,
   "metadata": {},
   "outputs": [],
   "source": [
    "# df = pd.DataFrame(result.items(), columns=[\"index\"] + list(Program.valid_keys))\n",
    "# df = pd.DataFrame.from_dict(result)\n",
    "# df = df[[\"index\"] + list(Program.valid_keys)]\n",
    "df = pd.DataFrame(result).T"
   ]
  },
  {
   "cell_type": "code",
   "execution_count": 17,
   "metadata": {},
   "outputs": [
    {
     "data": {
      "text/html": [
       "<div>\n",
       "<style scoped>\n",
       "    .dataframe tbody tr th:only-of-type {\n",
       "        vertical-align: middle;\n",
       "    }\n",
       "\n",
       "    .dataframe tbody tr th {\n",
       "        vertical-align: top;\n",
       "    }\n",
       "\n",
       "    .dataframe thead th {\n",
       "        text-align: right;\n",
       "    }\n",
       "</style>\n",
       "<table border=\"1\" class=\"dataframe\">\n",
       "  <thead>\n",
       "    <tr style=\"text-align: right;\">\n",
       "      <th></th>\n",
       "    </tr>\n",
       "  </thead>\n",
       "  <tbody>\n",
       "  </tbody>\n",
       "</table>\n",
       "</div>"
      ],
      "text/plain": [
       "Empty DataFrame\n",
       "Columns: []\n",
       "Index: []"
      ]
     },
     "execution_count": 17,
     "metadata": {},
     "output_type": "execute_result"
    }
   ],
   "source": [
    "df.head()"
   ]
  },
  {
   "cell_type": "code",
   "execution_count": 29,
   "metadata": {},
   "outputs": [],
   "source": [
    "df.to_csv(\"/home/ivan/Uforse/university_crawl/university_info_generator/fetch_logic/fetch_data/programs/canada/uwaterloo_programs.csv\", encoding=\"utf-8\")"
   ]
  },
  {
   "cell_type": "markdown",
   "metadata": {},
   "source": [
    "## usa\n"
   ]
  },
  {
   "cell_type": "code",
   "execution_count": 19,
   "metadata": {},
   "outputs": [],
   "source": [
    "us_df = pd.read_csv(f\"{scraper.data_repo_path}/usa_dataset/all_universities_usa.csv\")\n",
    "matched_usa_df = UniversityProgramScraper.join_df(us_df, qs_df, save_path=f\"{config.PROJECT_HOME}/university_info_generator/data/usa_dataset/qs_usa_uni_matched.csv\")"
   ]
  }
 ],
 "metadata": {
  "kernelspec": {
   "display_name": "gpu",
   "language": "python",
   "name": "python3"
  },
  "language_info": {
   "codemirror_mode": {
    "name": "ipython",
    "version": 3
   },
   "file_extension": ".py",
   "mimetype": "text/x-python",
   "name": "python",
   "nbconvert_exporter": "python",
   "pygments_lexer": "ipython3",
   "version": "3.9.16"
  }
 },
 "nbformat": 4,
 "nbformat_minor": 2
}
