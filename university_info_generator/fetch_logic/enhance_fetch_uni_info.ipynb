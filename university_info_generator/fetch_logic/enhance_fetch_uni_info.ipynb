{
 "cells": [
  {
   "cell_type": "markdown",
   "metadata": {},
   "source": [
    "# Process logic"
   ]
  },
  {
   "cell_type": "markdown",
   "metadata": {},
   "source": [
    "## Setup env"
   ]
  },
  {
   "cell_type": "code",
   "execution_count": 41,
   "metadata": {
    "vscode": {
     "languageId": "shellscript"
    }
   },
   "outputs": [
    {
     "name": "stdout",
     "output_type": "stream",
     "text": [
      "/home/ivan/Uforse/university_crawl\n",
      "Found build in PROJECT_HOME. Sourcing now...\n",
      "Obtaining file:///home/ivan/Uforse/university_crawl/university_info_generator\n",
      "  Preparing metadata (setup.py): started\n",
      "  Preparing metadata (setup.py): finished with status 'done'\n",
      "Requirement already satisfied: pandas in /home/ivan/anaconda3/envs/gpu/lib/python3.9/site-packages (from university-info-generator==0.0.3) (1.5.2)\n",
      "Requirement already satisfied: numpy in /home/ivan/anaconda3/envs/gpu/lib/python3.9/site-packages (from university-info-generator==0.0.3) (1.26.4)\n",
      "Requirement already satisfied: gspread in /home/ivan/anaconda3/envs/gpu/lib/python3.9/site-packages (from university-info-generator==0.0.3) (6.1.0)\n",
      "Requirement already satisfied: oauth2client in /home/ivan/anaconda3/envs/gpu/lib/python3.9/site-packages (from university-info-generator==0.0.3) (4.1.3)\n",
      "Requirement already satisfied: openai in /home/ivan/anaconda3/envs/gpu/lib/python3.9/site-packages (from university-info-generator==0.0.3) (1.12.0)\n",
      "Requirement already satisfied: python-dotenv in /home/ivan/anaconda3/envs/gpu/lib/python3.9/site-packages (from university-info-generator==0.0.3) (0.21.0)\n",
      "Requirement already satisfied: gspread_dataframe in /home/ivan/anaconda3/envs/gpu/lib/python3.9/site-packages (from university-info-generator==0.0.3) (3.3.1)\n",
      "Requirement already satisfied: bs4 in /home/ivan/anaconda3/envs/gpu/lib/python3.9/site-packages (from university-info-generator==0.0.3) (0.0.2)\n",
      "Requirement already satisfied: tenacity in /home/ivan/anaconda3/envs/gpu/lib/python3.9/site-packages (from university-info-generator==0.0.3) (8.2.3)\n",
      "Requirement already satisfied: langchain in /home/ivan/anaconda3/envs/gpu/lib/python3.9/site-packages (from university-info-generator==0.0.3) (0.1.16)\n",
      "Requirement already satisfied: langchain-openai in /home/ivan/anaconda3/envs/gpu/lib/python3.9/site-packages (from university-info-generator==0.0.3) (0.1.3)\n",
      "Requirement already satisfied: google-api-python-client in /home/ivan/anaconda3/envs/gpu/lib/python3.9/site-packages (from university-info-generator==0.0.3) (2.127.0)\n",
      "Requirement already satisfied: langchain-chroma in /home/ivan/anaconda3/envs/gpu/lib/python3.9/site-packages (from university-info-generator==0.0.3) (0.1.0)\n",
      "Requirement already satisfied: tavily-python in /home/ivan/anaconda3/envs/gpu/lib/python3.9/site-packages (from university-info-generator==0.0.3) (0.3.3)\n",
      "Requirement already satisfied: beautifulsoup4 in /home/ivan/anaconda3/envs/gpu/lib/python3.9/site-packages (from bs4->university-info-generator==0.0.3) (4.11.1)\n",
      "Requirement already satisfied: httplib2<1.dev0,>=0.19.0 in /home/ivan/anaconda3/envs/gpu/lib/python3.9/site-packages (from google-api-python-client->university-info-generator==0.0.3) (0.22.0)\n",
      "Requirement already satisfied: google-auth!=2.24.0,!=2.25.0,<3.0.0.dev0,>=1.32.0 in /home/ivan/anaconda3/envs/gpu/lib/python3.9/site-packages (from google-api-python-client->university-info-generator==0.0.3) (2.27.0)\n",
      "Requirement already satisfied: google-auth-httplib2<1.0.0,>=0.2.0 in /home/ivan/anaconda3/envs/gpu/lib/python3.9/site-packages (from google-api-python-client->university-info-generator==0.0.3) (0.2.0)\n",
      "Requirement already satisfied: google-api-core!=2.0.*,!=2.1.*,!=2.2.*,!=2.3.0,<3.0.0.dev0,>=1.31.5 in /home/ivan/anaconda3/envs/gpu/lib/python3.9/site-packages (from google-api-python-client->university-info-generator==0.0.3) (2.18.0)\n",
      "Requirement already satisfied: uritemplate<5,>=3.0.1 in /home/ivan/anaconda3/envs/gpu/lib/python3.9/site-packages (from google-api-python-client->university-info-generator==0.0.3) (4.1.1)\n",
      "Requirement already satisfied: google-auth-oauthlib>=0.4.1 in /home/ivan/anaconda3/envs/gpu/lib/python3.9/site-packages (from gspread->university-info-generator==0.0.3) (1.2.0)\n",
      "Requirement already satisfied: StrEnum==0.4.15 in /home/ivan/anaconda3/envs/gpu/lib/python3.9/site-packages (from gspread->university-info-generator==0.0.3) (0.4.15)\n",
      "Requirement already satisfied: six>=1.12.0 in /home/ivan/anaconda3/envs/gpu/lib/python3.9/site-packages (from gspread_dataframe->university-info-generator==0.0.3) (1.16.0)\n",
      "Requirement already satisfied: python-dateutil>=2.8.1 in /home/ivan/anaconda3/envs/gpu/lib/python3.9/site-packages (from pandas->university-info-generator==0.0.3) (2.8.2)\n",
      "Requirement already satisfied: pytz>=2020.1 in /home/ivan/anaconda3/envs/gpu/lib/python3.9/site-packages (from pandas->university-info-generator==0.0.3) (2022.7)\n",
      "Requirement already satisfied: PyYAML>=5.3 in /home/ivan/anaconda3/envs/gpu/lib/python3.9/site-packages (from langchain->university-info-generator==0.0.3) (6.0)\n",
      "Requirement already satisfied: SQLAlchemy<3,>=1.4 in /home/ivan/anaconda3/envs/gpu/lib/python3.9/site-packages (from langchain->university-info-generator==0.0.3) (2.0.29)\n",
      "Requirement already satisfied: aiohttp<4.0.0,>=3.8.3 in /home/ivan/anaconda3/envs/gpu/lib/python3.9/site-packages (from langchain->university-info-generator==0.0.3) (3.8.3)\n",
      "Requirement already satisfied: async-timeout<5.0.0,>=4.0.0 in /home/ivan/anaconda3/envs/gpu/lib/python3.9/site-packages (from langchain->university-info-generator==0.0.3) (4.0.2)\n",
      "Requirement already satisfied: dataclasses-json<0.7,>=0.5.7 in /home/ivan/anaconda3/envs/gpu/lib/python3.9/site-packages (from langchain->university-info-generator==0.0.3) (0.6.4)\n",
      "Requirement already satisfied: jsonpatch<2.0,>=1.33 in /home/ivan/anaconda3/envs/gpu/lib/python3.9/site-packages (from langchain->university-info-generator==0.0.3) (1.33)\n",
      "Requirement already satisfied: langchain-community<0.1,>=0.0.32 in /home/ivan/anaconda3/envs/gpu/lib/python3.9/site-packages (from langchain->university-info-generator==0.0.3) (0.0.36)\n",
      "Requirement already satisfied: langchain-core<0.2.0,>=0.1.42 in /home/ivan/anaconda3/envs/gpu/lib/python3.9/site-packages (from langchain->university-info-generator==0.0.3) (0.1.48)\n",
      "Requirement already satisfied: langchain-text-splitters<0.1,>=0.0.1 in /home/ivan/anaconda3/envs/gpu/lib/python3.9/site-packages (from langchain->university-info-generator==0.0.3) (0.0.1)\n",
      "Requirement already satisfied: langsmith<0.2.0,>=0.1.17 in /home/ivan/anaconda3/envs/gpu/lib/python3.9/site-packages (from langchain->university-info-generator==0.0.3) (0.1.50)\n",
      "Requirement already satisfied: pydantic<3,>=1 in /home/ivan/anaconda3/envs/gpu/lib/python3.9/site-packages (from langchain->university-info-generator==0.0.3) (1.10.11)\n",
      "Requirement already satisfied: requests<3,>=2 in /home/ivan/anaconda3/envs/gpu/lib/python3.9/site-packages (from langchain->university-info-generator==0.0.3) (2.28.1)\n",
      "Requirement already satisfied: chromadb<0.5.0,>=0.4.0 in /home/ivan/anaconda3/envs/gpu/lib/python3.9/site-packages (from langchain-chroma->university-info-generator==0.0.3) (0.4.24)\n",
      "Requirement already satisfied: fastapi<1,>=0.95.2 in /home/ivan/anaconda3/envs/gpu/lib/python3.9/site-packages (from langchain-chroma->university-info-generator==0.0.3) (0.110.2)\n",
      "Requirement already satisfied: tiktoken<1,>=0.5.2 in /home/ivan/anaconda3/envs/gpu/lib/python3.9/site-packages (from langchain-openai->university-info-generator==0.0.3) (0.6.0)\n",
      "Requirement already satisfied: anyio<5,>=3.5.0 in /home/ivan/anaconda3/envs/gpu/lib/python3.9/site-packages (from openai->university-info-generator==0.0.3) (3.5.0)\n",
      "Requirement already satisfied: distro<2,>=1.7.0 in /home/ivan/anaconda3/envs/gpu/lib/python3.9/site-packages (from openai->university-info-generator==0.0.3) (1.9.0)\n",
      "Requirement already satisfied: httpx<1,>=0.23.0 in /home/ivan/anaconda3/envs/gpu/lib/python3.9/site-packages (from openai->university-info-generator==0.0.3) (0.27.0)\n",
      "Requirement already satisfied: sniffio in /home/ivan/anaconda3/envs/gpu/lib/python3.9/site-packages (from openai->university-info-generator==0.0.3) (1.2.0)\n",
      "Requirement already satisfied: tqdm>4 in /home/ivan/anaconda3/envs/gpu/lib/python3.9/site-packages (from openai->university-info-generator==0.0.3) (4.66.2)\n",
      "Requirement already satisfied: typing-extensions<5,>=4.7 in /home/ivan/anaconda3/envs/gpu/lib/python3.9/site-packages (from openai->university-info-generator==0.0.3) (4.11.0)\n",
      "Requirement already satisfied: pyasn1>=0.1.7 in /home/ivan/anaconda3/envs/gpu/lib/python3.9/site-packages (from oauth2client->university-info-generator==0.0.3) (0.4.8)\n",
      "Requirement already satisfied: pyasn1-modules>=0.0.5 in /home/ivan/anaconda3/envs/gpu/lib/python3.9/site-packages (from oauth2client->university-info-generator==0.0.3) (0.2.8)\n",
      "Requirement already satisfied: rsa>=3.1.4 in /home/ivan/anaconda3/envs/gpu/lib/python3.9/site-packages (from oauth2client->university-info-generator==0.0.3) (4.9)\n",
      "Requirement already satisfied: attrs>=17.3.0 in /home/ivan/anaconda3/envs/gpu/lib/python3.9/site-packages (from aiohttp<4.0.0,>=3.8.3->langchain->university-info-generator==0.0.3) (22.1.0)\n",
      "Requirement already satisfied: charset-normalizer<3.0,>=2.0 in /home/ivan/anaconda3/envs/gpu/lib/python3.9/site-packages (from aiohttp<4.0.0,>=3.8.3->langchain->university-info-generator==0.0.3) (2.0.4)\n",
      "Requirement already satisfied: multidict<7.0,>=4.5 in /home/ivan/anaconda3/envs/gpu/lib/python3.9/site-packages (from aiohttp<4.0.0,>=3.8.3->langchain->university-info-generator==0.0.3) (6.0.2)\n",
      "Requirement already satisfied: yarl<2.0,>=1.0 in /home/ivan/anaconda3/envs/gpu/lib/python3.9/site-packages (from aiohttp<4.0.0,>=3.8.3->langchain->university-info-generator==0.0.3) (1.8.1)\n",
      "Requirement already satisfied: frozenlist>=1.1.1 in /home/ivan/anaconda3/envs/gpu/lib/python3.9/site-packages (from aiohttp<4.0.0,>=3.8.3->langchain->university-info-generator==0.0.3) (1.3.3)\n",
      "Requirement already satisfied: aiosignal>=1.1.2 in /home/ivan/anaconda3/envs/gpu/lib/python3.9/site-packages (from aiohttp<4.0.0,>=3.8.3->langchain->university-info-generator==0.0.3) (1.2.0)\n",
      "Requirement already satisfied: idna>=2.8 in /home/ivan/anaconda3/envs/gpu/lib/python3.9/site-packages (from anyio<5,>=3.5.0->openai->university-info-generator==0.0.3) (3.4)\n",
      "Requirement already satisfied: build>=1.0.3 in /home/ivan/anaconda3/envs/gpu/lib/python3.9/site-packages (from chromadb<0.5.0,>=0.4.0->langchain-chroma->university-info-generator==0.0.3) (1.2.1)\n",
      "Requirement already satisfied: chroma-hnswlib==0.7.3 in /home/ivan/anaconda3/envs/gpu/lib/python3.9/site-packages (from chromadb<0.5.0,>=0.4.0->langchain-chroma->university-info-generator==0.0.3) (0.7.3)\n",
      "Requirement already satisfied: uvicorn>=0.18.3 in /home/ivan/anaconda3/envs/gpu/lib/python3.9/site-packages (from uvicorn[standard]>=0.18.3->chromadb<0.5.0,>=0.4.0->langchain-chroma->university-info-generator==0.0.3) (0.29.0)\n",
      "Requirement already satisfied: posthog>=2.4.0 in /home/ivan/anaconda3/envs/gpu/lib/python3.9/site-packages (from chromadb<0.5.0,>=0.4.0->langchain-chroma->university-info-generator==0.0.3) (3.5.0)\n",
      "Requirement already satisfied: pulsar-client>=3.1.0 in /home/ivan/anaconda3/envs/gpu/lib/python3.9/site-packages (from chromadb<0.5.0,>=0.4.0->langchain-chroma->university-info-generator==0.0.3) (3.5.0)\n",
      "Requirement already satisfied: onnxruntime>=1.14.1 in /home/ivan/anaconda3/envs/gpu/lib/python3.9/site-packages (from chromadb<0.5.0,>=0.4.0->langchain-chroma->university-info-generator==0.0.3) (1.17.3)\n",
      "Requirement already satisfied: opentelemetry-api>=1.2.0 in /home/ivan/anaconda3/envs/gpu/lib/python3.9/site-packages (from chromadb<0.5.0,>=0.4.0->langchain-chroma->university-info-generator==0.0.3) (1.24.0)\n",
      "Requirement already satisfied: opentelemetry-exporter-otlp-proto-grpc>=1.2.0 in /home/ivan/anaconda3/envs/gpu/lib/python3.9/site-packages (from chromadb<0.5.0,>=0.4.0->langchain-chroma->university-info-generator==0.0.3) (1.24.0)\n",
      "Requirement already satisfied: opentelemetry-instrumentation-fastapi>=0.41b0 in /home/ivan/anaconda3/envs/gpu/lib/python3.9/site-packages (from chromadb<0.5.0,>=0.4.0->langchain-chroma->university-info-generator==0.0.3) (0.45b0)\n",
      "Requirement already satisfied: opentelemetry-sdk>=1.2.0 in /home/ivan/anaconda3/envs/gpu/lib/python3.9/site-packages (from chromadb<0.5.0,>=0.4.0->langchain-chroma->university-info-generator==0.0.3) (1.24.0)\n",
      "Requirement already satisfied: tokenizers>=0.13.2 in /home/ivan/anaconda3/envs/gpu/lib/python3.9/site-packages (from chromadb<0.5.0,>=0.4.0->langchain-chroma->university-info-generator==0.0.3) (0.19.1)\n",
      "Requirement already satisfied: pypika>=0.48.9 in /home/ivan/anaconda3/envs/gpu/lib/python3.9/site-packages (from chromadb<0.5.0,>=0.4.0->langchain-chroma->university-info-generator==0.0.3) (0.48.9)\n",
      "Requirement already satisfied: overrides>=7.3.1 in /home/ivan/anaconda3/envs/gpu/lib/python3.9/site-packages (from chromadb<0.5.0,>=0.4.0->langchain-chroma->university-info-generator==0.0.3) (7.7.0)\n",
      "Requirement already satisfied: importlib-resources in /home/ivan/anaconda3/envs/gpu/lib/python3.9/site-packages (from chromadb<0.5.0,>=0.4.0->langchain-chroma->university-info-generator==0.0.3) (6.4.0)\n",
      "Requirement already satisfied: grpcio>=1.58.0 in /home/ivan/anaconda3/envs/gpu/lib/python3.9/site-packages (from chromadb<0.5.0,>=0.4.0->langchain-chroma->university-info-generator==0.0.3) (1.62.2)\n",
      "Requirement already satisfied: bcrypt>=4.0.1 in /home/ivan/anaconda3/envs/gpu/lib/python3.9/site-packages (from chromadb<0.5.0,>=0.4.0->langchain-chroma->university-info-generator==0.0.3) (4.1.2)\n",
      "Requirement already satisfied: typer>=0.9.0 in /home/ivan/anaconda3/envs/gpu/lib/python3.9/site-packages (from chromadb<0.5.0,>=0.4.0->langchain-chroma->university-info-generator==0.0.3) (0.12.3)\n",
      "Requirement already satisfied: kubernetes>=28.1.0 in /home/ivan/anaconda3/envs/gpu/lib/python3.9/site-packages (from chromadb<0.5.0,>=0.4.0->langchain-chroma->university-info-generator==0.0.3) (29.0.0)\n",
      "Requirement already satisfied: mmh3>=4.0.1 in /home/ivan/anaconda3/envs/gpu/lib/python3.9/site-packages (from chromadb<0.5.0,>=0.4.0->langchain-chroma->university-info-generator==0.0.3) (4.1.0)\n",
      "Requirement already satisfied: orjson>=3.9.12 in /home/ivan/anaconda3/envs/gpu/lib/python3.9/site-packages (from chromadb<0.5.0,>=0.4.0->langchain-chroma->university-info-generator==0.0.3) (3.10.1)\n",
      "Requirement already satisfied: marshmallow<4.0.0,>=3.18.0 in /home/ivan/anaconda3/envs/gpu/lib/python3.9/site-packages (from dataclasses-json<0.7,>=0.5.7->langchain->university-info-generator==0.0.3) (3.21.1)\n",
      "Requirement already satisfied: typing-inspect<1,>=0.4.0 in /home/ivan/anaconda3/envs/gpu/lib/python3.9/site-packages (from dataclasses-json<0.7,>=0.5.7->langchain->university-info-generator==0.0.3) (0.8.0)\n",
      "Requirement already satisfied: starlette<0.38.0,>=0.37.2 in /home/ivan/anaconda3/envs/gpu/lib/python3.9/site-packages (from fastapi<1,>=0.95.2->langchain-chroma->university-info-generator==0.0.3) (0.37.2)\n",
      "Requirement already satisfied: googleapis-common-protos<2.0.dev0,>=1.56.2 in /home/ivan/anaconda3/envs/gpu/lib/python3.9/site-packages (from google-api-core!=2.0.*,!=2.1.*,!=2.2.*,!=2.3.0,<3.0.0.dev0,>=1.31.5->google-api-python-client->university-info-generator==0.0.3) (1.63.0)\n",
      "Requirement already satisfied: protobuf!=3.20.0,!=3.20.1,!=4.21.0,!=4.21.1,!=4.21.2,!=4.21.3,!=4.21.4,!=4.21.5,<5.0.0.dev0,>=3.19.5 in /home/ivan/anaconda3/envs/gpu/lib/python3.9/site-packages (from google-api-core!=2.0.*,!=2.1.*,!=2.2.*,!=2.3.0,<3.0.0.dev0,>=1.31.5->google-api-python-client->university-info-generator==0.0.3) (4.21.12)\n",
      "Requirement already satisfied: proto-plus<2.0.0dev,>=1.22.3 in /home/ivan/anaconda3/envs/gpu/lib/python3.9/site-packages (from google-api-core!=2.0.*,!=2.1.*,!=2.2.*,!=2.3.0,<3.0.0.dev0,>=1.31.5->google-api-python-client->university-info-generator==0.0.3) (1.23.0)\n",
      "Requirement already satisfied: cachetools<6.0,>=2.0.0 in /home/ivan/anaconda3/envs/gpu/lib/python3.9/site-packages (from google-auth!=2.24.0,!=2.25.0,<3.0.0.dev0,>=1.32.0->google-api-python-client->university-info-generator==0.0.3) (5.3.2)\n",
      "Requirement already satisfied: requests-oauthlib>=0.7.0 in /home/ivan/anaconda3/envs/gpu/lib/python3.9/site-packages (from google-auth-oauthlib>=0.4.1->gspread->university-info-generator==0.0.3) (1.3.1)\n",
      "Requirement already satisfied: pyparsing!=3.0.0,!=3.0.1,!=3.0.2,!=3.0.3,<4,>=2.4.2 in /home/ivan/anaconda3/envs/gpu/lib/python3.9/site-packages (from httplib2<1.dev0,>=0.19.0->google-api-python-client->university-info-generator==0.0.3) (3.0.9)\n",
      "Requirement already satisfied: certifi in /home/ivan/anaconda3/envs/gpu/lib/python3.9/site-packages (from httpx<1,>=0.23.0->openai->university-info-generator==0.0.3) (2023.7.22)\n",
      "Requirement already satisfied: httpcore==1.* in /home/ivan/anaconda3/envs/gpu/lib/python3.9/site-packages (from httpx<1,>=0.23.0->openai->university-info-generator==0.0.3) (1.0.4)\n",
      "Requirement already satisfied: h11<0.15,>=0.13 in /home/ivan/anaconda3/envs/gpu/lib/python3.9/site-packages (from httpcore==1.*->httpx<1,>=0.23.0->openai->university-info-generator==0.0.3) (0.14.0)\n",
      "Requirement already satisfied: jsonpointer>=1.9 in /home/ivan/anaconda3/envs/gpu/lib/python3.9/site-packages (from jsonpatch<2.0,>=1.33->langchain->university-info-generator==0.0.3) (2.4)\n",
      "Requirement already satisfied: packaging<24.0,>=23.2 in /home/ivan/anaconda3/envs/gpu/lib/python3.9/site-packages (from langchain-core<0.2.0,>=0.1.42->langchain->university-info-generator==0.0.3) (23.2)\n",
      "Requirement already satisfied: urllib3<1.27,>=1.21.1 in /home/ivan/anaconda3/envs/gpu/lib/python3.9/site-packages (from requests<3,>=2->langchain->university-info-generator==0.0.3) (1.26.14)\n",
      "Requirement already satisfied: greenlet!=0.4.17 in /home/ivan/anaconda3/envs/gpu/lib/python3.9/site-packages (from SQLAlchemy<3,>=1.4->langchain->university-info-generator==0.0.3) (3.0.3)\n",
      "Requirement already satisfied: regex>=2022.1.18 in /home/ivan/anaconda3/envs/gpu/lib/python3.9/site-packages (from tiktoken<1,>=0.5.2->langchain-openai->university-info-generator==0.0.3) (2022.7.9)\n",
      "Requirement already satisfied: soupsieve>1.2 in /home/ivan/anaconda3/envs/gpu/lib/python3.9/site-packages (from beautifulsoup4->bs4->university-info-generator==0.0.3) (2.3.2.post1)\n",
      "Requirement already satisfied: pyproject_hooks in /home/ivan/anaconda3/envs/gpu/lib/python3.9/site-packages (from build>=1.0.3->chromadb<0.5.0,>=0.4.0->langchain-chroma->university-info-generator==0.0.3) (1.0.0)\n",
      "Requirement already satisfied: importlib-metadata>=4.6 in /home/ivan/anaconda3/envs/gpu/lib/python3.9/site-packages (from build>=1.0.3->chromadb<0.5.0,>=0.4.0->langchain-chroma->university-info-generator==0.0.3) (7.0.0)\n",
      "Requirement already satisfied: tomli>=1.1.0 in /home/ivan/anaconda3/envs/gpu/lib/python3.9/site-packages (from build>=1.0.3->chromadb<0.5.0,>=0.4.0->langchain-chroma->university-info-generator==0.0.3) (2.0.1)\n",
      "Requirement already satisfied: websocket-client!=0.40.0,!=0.41.*,!=0.42.*,>=0.32.0 in /home/ivan/anaconda3/envs/gpu/lib/python3.9/site-packages (from kubernetes>=28.1.0->chromadb<0.5.0,>=0.4.0->langchain-chroma->university-info-generator==0.0.3) (0.58.0)\n",
      "Requirement already satisfied: oauthlib>=3.2.2 in /home/ivan/anaconda3/envs/gpu/lib/python3.9/site-packages (from kubernetes>=28.1.0->chromadb<0.5.0,>=0.4.0->langchain-chroma->university-info-generator==0.0.3) (3.2.2)\n",
      "Requirement already satisfied: coloredlogs in /home/ivan/anaconda3/envs/gpu/lib/python3.9/site-packages (from onnxruntime>=1.14.1->chromadb<0.5.0,>=0.4.0->langchain-chroma->university-info-generator==0.0.3) (15.0.1)\n",
      "Requirement already satisfied: flatbuffers in /home/ivan/anaconda3/envs/gpu/lib/python3.9/site-packages (from onnxruntime>=1.14.1->chromadb<0.5.0,>=0.4.0->langchain-chroma->university-info-generator==0.0.3) (23.5.26)\n",
      "Requirement already satisfied: sympy in /home/ivan/anaconda3/envs/gpu/lib/python3.9/site-packages (from onnxruntime>=1.14.1->chromadb<0.5.0,>=0.4.0->langchain-chroma->university-info-generator==0.0.3) (1.11.1)\n",
      "Requirement already satisfied: deprecated>=1.2.6 in /home/ivan/anaconda3/envs/gpu/lib/python3.9/site-packages (from opentelemetry-api>=1.2.0->chromadb<0.5.0,>=0.4.0->langchain-chroma->university-info-generator==0.0.3) (1.2.14)\n",
      "Requirement already satisfied: opentelemetry-exporter-otlp-proto-common==1.24.0 in /home/ivan/anaconda3/envs/gpu/lib/python3.9/site-packages (from opentelemetry-exporter-otlp-proto-grpc>=1.2.0->chromadb<0.5.0,>=0.4.0->langchain-chroma->university-info-generator==0.0.3) (1.24.0)\n",
      "Requirement already satisfied: opentelemetry-proto==1.24.0 in /home/ivan/anaconda3/envs/gpu/lib/python3.9/site-packages (from opentelemetry-exporter-otlp-proto-grpc>=1.2.0->chromadb<0.5.0,>=0.4.0->langchain-chroma->university-info-generator==0.0.3) (1.24.0)\n",
      "Requirement already satisfied: opentelemetry-instrumentation-asgi==0.45b0 in /home/ivan/anaconda3/envs/gpu/lib/python3.9/site-packages (from opentelemetry-instrumentation-fastapi>=0.41b0->chromadb<0.5.0,>=0.4.0->langchain-chroma->university-info-generator==0.0.3) (0.45b0)\n",
      "Requirement already satisfied: opentelemetry-instrumentation==0.45b0 in /home/ivan/anaconda3/envs/gpu/lib/python3.9/site-packages (from opentelemetry-instrumentation-fastapi>=0.41b0->chromadb<0.5.0,>=0.4.0->langchain-chroma->university-info-generator==0.0.3) (0.45b0)\n",
      "Requirement already satisfied: opentelemetry-semantic-conventions==0.45b0 in /home/ivan/anaconda3/envs/gpu/lib/python3.9/site-packages (from opentelemetry-instrumentation-fastapi>=0.41b0->chromadb<0.5.0,>=0.4.0->langchain-chroma->university-info-generator==0.0.3) (0.45b0)\n",
      "Requirement already satisfied: opentelemetry-util-http==0.45b0 in /home/ivan/anaconda3/envs/gpu/lib/python3.9/site-packages (from opentelemetry-instrumentation-fastapi>=0.41b0->chromadb<0.5.0,>=0.4.0->langchain-chroma->university-info-generator==0.0.3) (0.45b0)\n",
      "Requirement already satisfied: setuptools>=16.0 in /home/ivan/anaconda3/envs/gpu/lib/python3.9/site-packages (from opentelemetry-instrumentation==0.45b0->opentelemetry-instrumentation-fastapi>=0.41b0->chromadb<0.5.0,>=0.4.0->langchain-chroma->university-info-generator==0.0.3) (65.6.3)\n",
      "Requirement already satisfied: wrapt<2.0.0,>=1.0.0 in /home/ivan/anaconda3/envs/gpu/lib/python3.9/site-packages (from opentelemetry-instrumentation==0.45b0->opentelemetry-instrumentation-fastapi>=0.41b0->chromadb<0.5.0,>=0.4.0->langchain-chroma->university-info-generator==0.0.3) (1.14.1)\n",
      "Requirement already satisfied: asgiref~=3.0 in /home/ivan/anaconda3/envs/gpu/lib/python3.9/site-packages (from opentelemetry-instrumentation-asgi==0.45b0->opentelemetry-instrumentation-fastapi>=0.41b0->chromadb<0.5.0,>=0.4.0->langchain-chroma->university-info-generator==0.0.3) (3.8.1)\n",
      "Requirement already satisfied: monotonic>=1.5 in /home/ivan/anaconda3/envs/gpu/lib/python3.9/site-packages (from posthog>=2.4.0->chromadb<0.5.0,>=0.4.0->langchain-chroma->university-info-generator==0.0.3) (1.6)\n",
      "Requirement already satisfied: backoff>=1.10.0 in /home/ivan/anaconda3/envs/gpu/lib/python3.9/site-packages (from posthog>=2.4.0->chromadb<0.5.0,>=0.4.0->langchain-chroma->university-info-generator==0.0.3) (2.2.1)\n",
      "Requirement already satisfied: huggingface-hub<1.0,>=0.16.4 in /home/ivan/anaconda3/envs/gpu/lib/python3.9/site-packages (from tokenizers>=0.13.2->chromadb<0.5.0,>=0.4.0->langchain-chroma->university-info-generator==0.0.3) (0.22.2)\n",
      "Requirement already satisfied: click>=8.0.0 in /home/ivan/anaconda3/envs/gpu/lib/python3.9/site-packages (from typer>=0.9.0->chromadb<0.5.0,>=0.4.0->langchain-chroma->university-info-generator==0.0.3) (8.1.7)\n",
      "Requirement already satisfied: shellingham>=1.3.0 in /home/ivan/anaconda3/envs/gpu/lib/python3.9/site-packages (from typer>=0.9.0->chromadb<0.5.0,>=0.4.0->langchain-chroma->university-info-generator==0.0.3) (1.5.4)\n",
      "Requirement already satisfied: rich>=10.11.0 in /home/ivan/anaconda3/envs/gpu/lib/python3.9/site-packages (from typer>=0.9.0->chromadb<0.5.0,>=0.4.0->langchain-chroma->university-info-generator==0.0.3) (13.7.1)\n",
      "Requirement already satisfied: mypy-extensions>=0.3.0 in /home/ivan/anaconda3/envs/gpu/lib/python3.9/site-packages (from typing-inspect<1,>=0.4.0->dataclasses-json<0.7,>=0.5.7->langchain->university-info-generator==0.0.3) (0.4.3)\n",
      "Requirement already satisfied: httptools>=0.5.0 in /home/ivan/anaconda3/envs/gpu/lib/python3.9/site-packages (from uvicorn[standard]>=0.18.3->chromadb<0.5.0,>=0.4.0->langchain-chroma->university-info-generator==0.0.3) (0.6.1)\n",
      "Requirement already satisfied: uvloop!=0.15.0,!=0.15.1,>=0.14.0 in /home/ivan/anaconda3/envs/gpu/lib/python3.9/site-packages (from uvicorn[standard]>=0.18.3->chromadb<0.5.0,>=0.4.0->langchain-chroma->university-info-generator==0.0.3) (0.19.0)\n",
      "Requirement already satisfied: watchfiles>=0.13 in /home/ivan/anaconda3/envs/gpu/lib/python3.9/site-packages (from uvicorn[standard]>=0.18.3->chromadb<0.5.0,>=0.4.0->langchain-chroma->university-info-generator==0.0.3) (0.21.0)\n",
      "Requirement already satisfied: websockets>=10.4 in /home/ivan/anaconda3/envs/gpu/lib/python3.9/site-packages (from uvicorn[standard]>=0.18.3->chromadb<0.5.0,>=0.4.0->langchain-chroma->university-info-generator==0.0.3) (12.0)\n",
      "Requirement already satisfied: zipp>=3.1.0 in /home/ivan/anaconda3/envs/gpu/lib/python3.9/site-packages (from importlib-resources->chromadb<0.5.0,>=0.4.0->langchain-chroma->university-info-generator==0.0.3) (3.11.0)\n",
      "Requirement already satisfied: filelock in /home/ivan/anaconda3/envs/gpu/lib/python3.9/site-packages (from huggingface-hub<1.0,>=0.16.4->tokenizers>=0.13.2->chromadb<0.5.0,>=0.4.0->langchain-chroma->university-info-generator==0.0.3) (3.9.0)\n",
      "Requirement already satisfied: fsspec>=2023.5.0 in /home/ivan/anaconda3/envs/gpu/lib/python3.9/site-packages (from huggingface-hub<1.0,>=0.16.4->tokenizers>=0.13.2->chromadb<0.5.0,>=0.4.0->langchain-chroma->university-info-generator==0.0.3) (2024.3.1)\n",
      "Requirement already satisfied: markdown-it-py>=2.2.0 in /home/ivan/anaconda3/envs/gpu/lib/python3.9/site-packages (from rich>=10.11.0->typer>=0.9.0->chromadb<0.5.0,>=0.4.0->langchain-chroma->university-info-generator==0.0.3) (3.0.0)\n",
      "Requirement already satisfied: pygments<3.0.0,>=2.13.0 in /home/ivan/anaconda3/envs/gpu/lib/python3.9/site-packages (from rich>=10.11.0->typer>=0.9.0->chromadb<0.5.0,>=0.4.0->langchain-chroma->university-info-generator==0.0.3) (2.17.2)\n",
      "Requirement already satisfied: humanfriendly>=9.1 in /home/ivan/anaconda3/envs/gpu/lib/python3.9/site-packages (from coloredlogs->onnxruntime>=1.14.1->chromadb<0.5.0,>=0.4.0->langchain-chroma->university-info-generator==0.0.3) (10.0)\n",
      "Requirement already satisfied: mpmath>=0.19 in /home/ivan/anaconda3/envs/gpu/lib/python3.9/site-packages (from sympy->onnxruntime>=1.14.1->chromadb<0.5.0,>=0.4.0->langchain-chroma->university-info-generator==0.0.3) (1.2.1)\n",
      "Requirement already satisfied: mdurl~=0.1 in /home/ivan/anaconda3/envs/gpu/lib/python3.9/site-packages (from markdown-it-py>=2.2.0->rich>=10.11.0->typer>=0.9.0->chromadb<0.5.0,>=0.4.0->langchain-chroma->university-info-generator==0.0.3) (0.1.2)\n",
      "Installing collected packages: university-info-generator\n",
      "  Attempting uninstall: university-info-generator\n",
      "    Found existing installation: university-info-generator 0.0.3\n",
      "    Uninstalling university-info-generator-0.0.3:\n",
      "      Successfully uninstalled university-info-generator-0.0.3\n",
      "  Running setup.py develop for university-info-generator\n",
      "Successfully installed university-info-generator-0.0.3\n",
      "Directory already exists: /home/ivan/Uforse/university_crawl/cache_repo\n",
      "Environment variables set:\n",
      "PROJECT_HOME=/home/ivan/Uforse/university_crawl\n",
      "PYTHONPATH=/home/ivan/Uforse/university_crawl:\n",
      "API_KEY_PATH=/home/ivan/Uforse/university_crawl\n",
      "CACHE_REPO_PATH=/home/ivan/Uforse/university_crawl/cache_repo\n",
      "LANGCHAIN_API_KEY=ls__3780df60c0ef4fd2b2414f032feb31ce\n",
      "Environment set up for uni_info_generator\n",
      "build executed successfully.\n"
     ]
    }
   ],
   "source": [
    "%%sh\n",
    "# current_path=$(pwd)\n",
    "# parent_dir=$(dirname \"$current_dir\")\n",
    "export PROJECT_HOME=\"/home/ivan/Uforse/university_crawl\"\n",
    "echo $PROJECT_HOME\n",
    "if [ -f \"${PROJECT_HOME}/build\" ]; then\n",
    "    echo \"Found build in PROJECT_HOME. Sourcing now...\"\n",
    "    . \"${PROJECT_HOME}/build\"\n",
    "    echo \"build executed successfully.\"\n",
    "else\n",
    "    echo \"Error: build not found in PROJECT_HOME.\"\n",
    "fi"
   ]
  },
  {
   "cell_type": "code",
   "execution_count": 42,
   "metadata": {},
   "outputs": [
    {
     "name": "stdout",
     "output_type": "stream",
     "text": [
      "/home/ivan/anaconda3/envs/gpu/bin/python\n"
     ]
    }
   ],
   "source": [
    "import os\n",
    "import sys\n",
    "from pprint import pprint\n",
    "\n",
    "#'/home/ivan/Uforse/university_crawl/fetch_logic'\n",
    "current_path = os.path.abspath('./')\n",
    "\n",
    "#'/home/ivan/Uforse/university_crawl'\n",
    "parent_path = os.path.dirname(current_path)\n",
    "sys.path.append(parent_path)\n",
    "import sys\n",
    "print(sys.executable)\n",
    "sys.path.append('/home/ivan/Uforse/university_crawl')"
   ]
  },
  {
   "cell_type": "code",
   "execution_count": 43,
   "metadata": {},
   "outputs": [],
   "source": [
    "import university_info_generator"
   ]
  },
  {
   "cell_type": "code",
   "execution_count": 44,
   "metadata": {},
   "outputs": [],
   "source": [
    "from university_info_generator import config\n",
    "from university_info_generator import UniversityInfoGenerator as uni\n",
    "from university_info_generator import BasicInfoType, SavedDictType, GPTMethodType, HandlerType\n",
    "from university_info_generator.utility.google_sheet_utility import *\n",
    "from university_info_generator.utility.save_load_utility import *\n",
    "from university_info_generator.configs import ALL_ATTRIBUTE_NAME"
   ]
  },
  {
   "cell_type": "markdown",
   "metadata": {},
   "source": [
    "## useful methods"
   ]
  },
  {
   "cell_type": "code",
   "execution_count": 45,
   "metadata": {},
   "outputs": [],
   "source": [
    "def filter_jsonl_file(input_filepath, output_filepath, keyword):\n",
    "    \"\"\"\n",
    "    Reads a JSONL file and writes out only those lines that do not contain the specified keyword.\n",
    "\n",
    "    Args:\n",
    "    - input_filepath (str): Path to the input JSONL file.\n",
    "    - output_filepath (str): Path to the output JSONL file where results should be saved.\n",
    "    - keyword (str): Keyword to search for in each JSON object to decide if it should be excluded.\n",
    "    \"\"\"\n",
    "    with open(input_filepath, 'r', encoding='utf-8') as file, open(output_filepath, 'w', encoding='utf-8') as outfile:\n",
    "        for line in file:\n",
    "            if keyword not in line:  # Check if the keyword is in the line\n",
    "                outfile.write(line)  # Write the line to the output file if keyword is not found\n",
    "\n",
    "def extract_university_data(worksheet):\n",
    "    \"\"\"\n",
    "    Extracts university names and their corresponding IDs from a worksheet.\n",
    "\n",
    "    Args:\n",
    "        worksheet: A gspread worksheet object with university data.\n",
    "\n",
    "    Returns:\n",
    "        List[tuple]: A list of tuples, each containing the university name and its ID.\n",
    "    \"\"\"\n",
    "    # Get all values in the first column for university names\n",
    "    university_names = worksheet.col_values(1)[1:]  # Assuming the first row is a header\n",
    "    # Get all values in the second column for IDs\n",
    "    university_ids = worksheet.col_values(2)[1:]  # Assuming the first row is a header\n",
    "\n",
    "    # Combine the names and IDs, stripping any extra whitespace and skipping any empty entries\n",
    "    university_data = [(name.strip(), id_.strip()) for name, id_ in zip(university_names, university_ids) if name.strip() and id_.strip()]\n",
    "    return university_data\n",
    "\n",
    "\n",
    "# # threading template\n",
    "# def fetch_university_info(uni_gen, university_name, results, index):\n",
    "#     # Retrieve university info and store it in the results list at the correct index\n",
    "#     results[index] = uni_gen.get_university_info(university_name)\n",
    "\n",
    "# results = [None] * len(lst)\n",
    "# threads = []\n",
    "# for i, university in enumerate(lst[:3]):\n",
    "#     thread = threading.Thread(target=fetch_university_info, args=(uni_gen, university, results, i))\n",
    "#     threads.append(thread)\n",
    "#     thread.start()\n",
    "\n",
    "# for thread in threads:\n",
    "#     thread.join()"
   ]
  },
  {
   "cell_type": "markdown",
   "metadata": {},
   "source": [
    "## Get Attr list"
   ]
  },
  {
   "cell_type": "code",
   "execution_count": 46,
   "metadata": {},
   "outputs": [],
   "source": [
    "attr_df = get_attribute_df()\n",
    "# attr_df.head(25)"
   ]
  },
  {
   "cell_type": "code",
   "execution_count": 47,
   "metadata": {},
   "outputs": [],
   "source": [
    "store_cache(config.UNIVERSITY_ATTRIBUTE_CACHE_FILE_PATH, get_attribute_dict())"
   ]
  },
  {
   "cell_type": "markdown",
   "metadata": {
    "notebookRunGroups": {
     "groupValue": "1"
    }
   },
   "source": [
    "## Main train logic"
   ]
  },
  {
   "cell_type": "code",
   "execution_count": 48,
   "metadata": {},
   "outputs": [],
   "source": [
    "uni_gen = uni()\n",
    "uni_gen.load_from_file(SavedDictType.ATTRIBUTE, config.UNIVERSITY_ATTRIBUTE_CACHE_FILE_PATH)\n",
    "uni_gen.load_from_file(SavedDictType.GPT_CACHE, \"./gpt_cache.jsonl\")\n",
    "uni_gen.load_from_file(SavedDictType.UNIVERSITY_BASIC_INFO, \"./university_basic_info.jsonl\")\n",
    "uni_gen.load_from_file(SavedDictType.UNIVERSITY_INFO, \"./university_info.jsonl\")\n"
   ]
  },
  {
   "cell_type": "code",
   "execution_count": 49,
   "metadata": {},
   "outputs": [],
   "source": [
    "# pprint(uni_gen.attribute_dict)"
   ]
  },
  {
   "cell_type": "code",
   "execution_count": 50,
   "metadata": {},
   "outputs": [
    {
     "name": "stdout",
     "output_type": "stream",
     "text": [
      "dict_keys(['attribute_format', 'attribute_reference', 'attribute_prompt', 'example', 'handler', 'k_value', 'mapping'])\n"
     ]
    }
   ],
   "source": [
    "pprint(uni_gen.attribute_dict[\"location\"].keys())"
   ]
  },
  {
   "cell_type": "code",
   "execution_count": 51,
   "metadata": {},
   "outputs": [
    {
     "name": "stdout",
     "output_type": "stream",
     "text": [
      "{'attribute_format': 'Union[int, str]',\n",
      " 'attribute_prompt': '',\n",
      " 'attribute_reference': '[\"https://www.shanghairanking.com/rankings/arwu/2023.html\", '\n",
      "                        '\"https://www.shanghairanking.com/institution\"]',\n",
      " 'example': '44 or 100-200 or 1400+',\n",
      " 'handler': <HandlerType.LANGCHAIN_TAVILY: 16>,\n",
      " 'k_value': 3.0,\n",
      " 'mapping': '2023 Academic Ranking of World Universities, ShanghaiRanking'}\n"
     ]
    }
   ],
   "source": [
    "pprint(uni_gen.attribute_dict[\"ranking_arwu_rank_2023\"])"
   ]
  },
  {
   "cell_type": "code",
   "execution_count": 52,
   "metadata": {},
   "outputs": [],
   "source": [
    "target_worksheet = get_worksheet()\n"
   ]
  },
  {
   "cell_type": "code",
   "execution_count": 53,
   "metadata": {},
   "outputs": [],
   "source": [
    "target_university = get_worksheet(\n",
    "    spreadsheet_title= \"working_extract_info_output\",\n",
    "    sheetname= \"target_university_list\",\n",
    "    sheet_client= get_sheet_client(),\n",
    ")\n"
   ]
  },
  {
   "cell_type": "code",
   "execution_count": 54,
   "metadata": {},
   "outputs": [
    {
     "name": "stdout",
     "output_type": "stream",
     "text": [
      "[('Concord University', '2121'), ('Eastern West Virgina Community and Technical College', '2122'), ('Fairmont State University', '2123'), ('Marshall University', '2124'), ('Ohio Valley University', '2125'), ('Pierpont Community and Technical College', '2126'), ('Shepherd University', '2127'), ('University of Charleston', '2128'), ('West Liberty University', '2129'), ('Wheeling Jesuit University', '2130'), ('West Virginia Northern Community College', '2131'), ('West Virginia State University', '2132'), ('West Virginia University', '2133'), ('West Virginia Wesleyan College', '2134'), ('Casper College', '2135'), ('Central Wyoming College', '2136'), ('National Outdoor Leadership School', '2137'), ('Northwest College', '2138'), ('Northern Wyoming Community College District', '2139'), ('University of Wyoming', '2140')]\n"
     ]
    }
   ],
   "source": [
    "lst = extract_university_data(target_university)\n",
    "print(lst[-20:])"
   ]
  },
  {
   "cell_type": "code",
   "execution_count": 55,
   "metadata": {},
   "outputs": [],
   "source": [
    "df = pd.DataFrame.from_dict(dict(lst), orient=\"index\").reset_index()\n",
    "df.columns = [\"university_name\", \"id_\"]\n",
    "file_path = \"all_universities.csv\"\n",
    "df.to_csv(file_path, index=False, encoding=\"utf-8\")"
   ]
  },
  {
   "cell_type": "code",
   "execution_count": 56,
   "metadata": {},
   "outputs": [
    {
     "data": {
      "text/plain": [
       "0                      Adler Graduate Professional School\n",
       "1         Alberta Business School - University of Alberta\n",
       "2                                       Algoma University\n",
       "3                                       Algonquin College\n",
       "4       Asper School of Business - University of Manitoba\n",
       "                              ...                        \n",
       "2114                              Central Wyoming College\n",
       "2115                   National Outdoor Leadership School\n",
       "2116                                    Northwest College\n",
       "2117          Northern Wyoming Community College District\n",
       "2118                                University of Wyoming\n",
       "Name: university_name, Length: 2119, dtype: object"
      ]
     },
     "execution_count": 56,
     "metadata": {},
     "output_type": "execute_result"
    }
   ],
   "source": [
    "df[\"university_name\"]"
   ]
  },
  {
   "cell_type": "code",
   "execution_count": 57,
   "metadata": {},
   "outputs": [],
   "source": [
    "from university_info_generator.configs.enum_class import GeneralInfoType, AttributeColumnType"
   ]
  },
  {
   "cell_type": "code",
   "execution_count": 58,
   "metadata": {},
   "outputs": [],
   "source": [
    "import threading\n"
   ]
  },
  {
   "cell_type": "code",
   "execution_count": 59,
   "metadata": {},
   "outputs": [],
   "source": [
    "import time"
   ]
  },
  {
   "cell_type": "code",
   "execution_count": 60,
   "metadata": {},
   "outputs": [
    {
     "name": "stdout",
     "output_type": "stream",
     "text": [
      "[('Beedie School of Business - Simon Fraser University', '8'), ('Haskayne School of Business - University of Calgary', '54'), ('Lambton College (Toronto Campus/Cestar College)', '67'), ('Rotman School of Management - University of Toronto', '113'), ('Simon Fraser University', '128'), ('Simon Fraser University (SFU)', '129'), ('St. Clair College (Toronto Campus/Ace Acumen College)', '135'), ('University of Calgary', '158'), ('University of Calgary (UofC)', '159'), ('University of Guelph', '162'), ('University of Toronto', '177'), ('University of Toronto (UofT)', '178'), ('University of Waterloo', '181')]\n",
      "13\n"
     ]
    }
   ],
   "source": [
    "lst = extract_university_data(target_university)\n",
    "\n",
    "target_name = [\"toronto\", \"calgary\", \"british colombia\", \"victory\", \"simon fraser\", \"guelph\", \"waterloo\"]\n",
    "\n",
    "def my_filter(x):\n",
    "    return any(name in x[0].lower() for name in target_name)\n",
    "\n",
    "lst = list(filter(my_filter, lst))\n",
    "print(lst)\n",
    "print(len(lst))"
   ]
  },
  {
   "cell_type": "code",
   "execution_count": 61,
   "metadata": {
    "notebookRunGroups": {
     "groupValue": "1"
    }
   },
   "outputs": [
    {
     "name": "stdout",
     "output_type": "stream",
     "text": [
      "used langchain: get_retrieved_attr_with_format_tavily, university_name: Simon Fraser University,\n",
      "                attribute: university_type\n",
      "used langchain: get_retrieved_attr_with_format_tavily, university_name: Simon Fraser University,\n",
      "                attribute: years to graduate\n",
      "used langchain: get_retrieved_attr_with_format_tavily, university_name: Simon Fraser University,\n",
      "                attribute: location\n",
      "used langchain: get_retrieved_attr_with_format_tavily, university_name: Simon Fraser University,\n",
      "                attribute: graduation_rate\n",
      "used langchain: get_retrieved_attr_with_format_tavily, university_name: Simon Fraser University,\n",
      "                attribute: domestic_student_tuition\n",
      "used langchain: get_retrieved_attr_with_format_tavily, university_name: Simon Fraser University,\n",
      "                attribute: international_student_tuition\n",
      "used langchain: get_retrieved_attr_with_format_tavily, university_name: Simon Fraser University,\n",
      "                attribute: description\n",
      "used langchain: get_retrieved_attr_with_format_tavily, university_name: Simon Fraser University,\n",
      "                attribute: important_calendar\n",
      "used langchain: get_retrieved_attr_with_format_tavily, university_name: Simon Fraser University,\n",
      "                attribute: numbers of programs that the university provide in undergraduate, master and PhD separately\n",
      "used langchain: get_retrieved_attr_with_format_tavily, university_name: Simon Fraser University,\n",
      "                attribute: faculty\n",
      "used langchain: get_retrieved_attr_with_format_tavily, university_name: Simon Fraser University,\n",
      "                attribute: popular_programs\n",
      "used langchain: get_retrieved_attr_with_format_tavily, university_name: Simon Fraser University,\n",
      "                attribute: programs\n",
      "used langchain: get_retrieved_attr_with_format_tavily, university_name: Simon Fraser University,\n",
      "                attribute: characteristics\n",
      "used langchain: get_retrieved_attr_with_format_tavily, university_name: Simon Fraser University,\n",
      "                attribute: others\n",
      "used langchain: get_retrieved_attr_with_format_tavily, university_name: University of Calgary,\n",
      "                attribute: university_type\n",
      "used langchain: get_retrieved_attr_with_format_tavily, university_name: University of Calgary,\n",
      "                attribute: years to graduate\n",
      "used langchain: get_retrieved_attr_with_format_tavily, university_name: University of Calgary,\n",
      "                attribute: location\n",
      "used langchain: get_retrieved_attr_with_format_tavily, university_name: University of Calgary,\n",
      "                attribute: graduation_rate\n",
      "used langchain: get_retrieved_attr_with_format_tavily, university_name: University of Calgary,\n",
      "                attribute: domestic_student_tuition\n",
      "used langchain: get_retrieved_attr_with_format_tavily, university_name: University of Calgary,\n",
      "                attribute: international_student_tuition\n",
      "used langchain: get_retrieved_attr_with_format_tavily, university_name: University of Calgary,\n",
      "                attribute: description\n",
      "used langchain: get_retrieved_attr_with_format_tavily, university_name: University of Calgary,\n",
      "                attribute: important_calendar\n",
      "used langchain: get_retrieved_attr_with_format_tavily, university_name: University of Calgary,\n",
      "                attribute: numbers of programs that the university provide in undergraduate, master and PhD separately\n",
      "used langchain: get_retrieved_attr_with_format_tavily, university_name: University of Calgary,\n",
      "                attribute: faculty\n",
      "used langchain: get_retrieved_attr_with_format_tavily, university_name: University of Calgary,\n",
      "                attribute: popular_programs\n",
      "used langchain: get_retrieved_attr_with_format_tavily, university_name: University of Calgary,\n",
      "                attribute: programs\n",
      "used langchain: get_retrieved_attr_with_format_tavily, university_name: University of Calgary,\n",
      "                attribute: characteristics\n",
      "used langchain: get_retrieved_attr_with_format_tavily, university_name: University of Calgary,\n",
      "                attribute: others\n",
      "used GPT: get_university_name_from_gpt, university_name: University of Toronto (UofT)\n",
      "used langchain: get_retrieved_attr_with_format_tavily, university_name: University of Toronto,\n",
      "                attribute: university_type\n",
      "used langchain: get_retrieved_attr_with_format_tavily, university_name: University of Toronto,\n",
      "                attribute: years to graduate\n",
      "used langchain: get_retrieved_attr_with_format_tavily, university_name: University of Toronto,\n",
      "                attribute: location\n",
      "used langchain: get_retrieved_attr_with_format_tavily, university_name: University of Toronto,\n",
      "                attribute: graduation_rate\n",
      "used langchain: get_retrieved_attr_with_format_tavily, university_name: University of Toronto,\n",
      "                attribute: domestic_student_tuition\n",
      "used langchain: get_retrieved_attr_with_format_tavily, university_name: University of Toronto,\n",
      "                attribute: international_student_tuition\n",
      "used langchain: get_retrieved_attr_with_format_tavily, university_name: University of Toronto,\n",
      "                attribute: description\n",
      "used langchain: get_retrieved_attr_with_format_tavily, university_name: University of Toronto,\n",
      "                attribute: important_calendar\n",
      "used langchain: get_retrieved_attr_with_format_tavily, university_name: University of Toronto,\n",
      "                attribute: numbers of programs that the university provide in undergraduate, master and PhD separately\n",
      "used langchain: get_retrieved_attr_with_format_tavily, university_name: University of Toronto,\n",
      "                attribute: faculty\n",
      "used langchain: get_retrieved_attr_with_format_tavily, university_name: University of Toronto,\n",
      "                attribute: popular_programs\n",
      "used langchain: get_retrieved_attr_with_format_tavily, university_name: University of Toronto,\n",
      "                attribute: programs\n",
      "used langchain: get_retrieved_attr_with_format_tavily, university_name: University of Toronto,\n",
      "                attribute: characteristics\n",
      "used langchain: get_retrieved_attr_with_format_tavily, university_name: University of Toronto,\n",
      "                attribute: others\n",
      "used langchain: get_retrieved_attr_with_format_tavily, university_name: University of Waterloo,\n",
      "                attribute: university_type\n",
      "used langchain: get_retrieved_attr_with_format_tavily, university_name: University of Waterloo,\n",
      "                attribute: years to graduate\n",
      "used langchain: get_retrieved_attr_with_format_tavily, university_name: University of Waterloo,\n",
      "                attribute: location\n",
      "used langchain: get_retrieved_attr_with_format_tavily, university_name: University of Waterloo,\n",
      "                attribute: graduation_rate\n",
      "used langchain: get_retrieved_attr_with_format_tavily, university_name: University of Waterloo,\n",
      "                attribute: domestic_student_tuition\n",
      "used langchain: get_retrieved_attr_with_format_tavily, university_name: University of Waterloo,\n",
      "                attribute: international_student_tuition\n",
      "used GPT: get_value_and_reference_from_gpt, university_name: University of Waterloo,                     attribute: graduation_rate\n",
      "used langchain: get_retrieved_attr_with_format_tavily, university_name: University of Waterloo,\n",
      "                attribute: description\n",
      "used langchain: get_retrieved_attr_with_format_tavily, university_name: University of Waterloo,\n",
      "                attribute: description\n",
      "used langchain: get_retrieved_attr_with_format_tavily, university_name: University of Waterloo,\n",
      "                attribute: important_calendar\n",
      "used langchain: get_retrieved_attr_with_format_tavily, university_name: University of Waterloo,\n",
      "                attribute: numbers of programs that the university provide in undergraduate, master and PhD separately\n",
      "used GPT: get_value_and_reference_from_gpt, university_name: University of Waterloo,                     attribute: important_calendar\n",
      "used langchain: get_retrieved_attr_with_format_tavily, university_name: University of Waterloo,\n",
      "                attribute: faculty\n",
      "used langchain: get_retrieved_attr_with_format_tavily, university_name: University of Waterloo,\n",
      "                attribute: popular_programs\n",
      "used langchain: get_retrieved_attr_with_format_tavily, university_name: University of Waterloo,\n",
      "                attribute: programs\n",
      "used langchain: get_retrieved_attr_with_format_tavily, university_name: University of Waterloo,\n",
      "                attribute: characteristics\n",
      "used langchain: get_retrieved_attr_with_format_tavily, university_name: University of Waterloo,\n",
      "                attribute: others\n"
     ]
    }
   ],
   "source": [
    "# # def fetch_university_info(uni_gen, university_name, results, index):\n",
    "# #     # Retrieve university info and store it in the results list at the correct index\n",
    "# #     results[index] = uni_gen.get_university_info(university_name)\n",
    "\n",
    "# # results = [None] * len(lst)\n",
    "# # threads = []\n",
    "# # for i, university in enumerate(lst[:3]):\n",
    "# #     thread = threading.Thread(target=fetch_university_info, args=(uni_gen, university, results, i))\n",
    "# #     threads.append(thread)\n",
    "# #     thread.start()\n",
    "# #     time.sleep(20)\n",
    "\n",
    "# # for thread in threads:\n",
    "# #     time.sleep(10)\n",
    "# #     thread.join()\n",
    "# # result = uni_gen.get_university_info(lst[0])\n",
    "for uni, id_ in lst[:20]:\n",
    "    uni_gen.get_university_info(uni, id_)\n",
    "\n",
    "# uni_gen.get_info_by_attribute(university_name=\"UW\", attribute_name=\"location\")\n",
    "# uni_gen.get_info_by_attribute(university_name=\"UW\", attribute_name=GeneralInfoType.LOCATION.value, handler=HandlerType.LANGCHAIN_SERPER, params={\"transformer\":  \"RecursiveURL\"})\n",
    "# uni_gen.get_info_by_attribute(university_name=\"Adler Graduate Professional School\", attribute_name=GeneralInfoType.DOMESTIC_STUDENT_TUITION.value, handler=HandlerType.LANGCHAIN_SERPER, params={\"transformer\":  \"RecursiveURL\"})\n"
   ]
  },
  {
   "cell_type": "markdown",
   "metadata": {
    "notebookRunGroups": {
     "groupValue": "1"
    }
   },
   "source": [
    "## Saving Logic"
   ]
  },
  {
   "cell_type": "code",
   "execution_count": 62,
   "metadata": {
    "notebookRunGroups": {
     "groupValue": "1"
    }
   },
   "outputs": [],
   "source": [
    "uni_gen.save_to_file(SavedDictType.UNIVERSITY_INFO, \"./university_info.jsonl\")"
   ]
  },
  {
   "cell_type": "code",
   "execution_count": 68,
   "metadata": {
    "notebookRunGroups": {
     "groupValue": "1"
    }
   },
   "outputs": [],
   "source": [
    "uni_gen.save_to_file(SavedDictType.UNIVERSITY_BASIC_INFO, \"./university_basic_info.jsonl\")"
   ]
  },
  {
   "cell_type": "code",
   "execution_count": 64,
   "metadata": {
    "notebookRunGroups": {
     "groupValue": "1"
    }
   },
   "outputs": [],
   "source": [
    "uni_gen.save_to_file(SavedDictType.GPT_CACHE, \"./gpt_cache.jsonl\")"
   ]
  },
  {
   "cell_type": "code",
   "execution_count": 65,
   "metadata": {},
   "outputs": [],
   "source": [
    "uni_gen.save_to_file(SavedDictType.TROUBLE_PRODUCED, \"./trouble_produced.jsonl\")"
   ]
  },
  {
   "cell_type": "code",
   "execution_count": 66,
   "metadata": {
    "notebookRunGroups": {
     "groupValue": "1"
    }
   },
   "outputs": [
    {
     "name": "stdout",
     "output_type": "stream",
     "text": [
      "Cleared 20 rows and 23 columns.\n"
     ]
    }
   ],
   "source": [
    "clear_worksheet_content(target_worksheet)"
   ]
  },
  {
   "cell_type": "code",
   "execution_count": 67,
   "metadata": {
    "notebookRunGroups": {
     "groupValue": "1"
    }
   },
   "outputs": [],
   "source": [
    "write_cache_to_worksheet(\"university_info.jsonl\", target_worksheet)\n"
   ]
  }
 ],
 "metadata": {
  "kernelspec": {
   "display_name": "gpu",
   "language": "python",
   "name": "python3"
  },
  "language_info": {
   "codemirror_mode": {
    "name": "ipython",
    "version": 3
   },
   "file_extension": ".py",
   "mimetype": "text/x-python",
   "name": "python",
   "nbconvert_exporter": "python",
   "pygments_lexer": "ipython3",
   "version": "3.9.16"
  }
 },
 "nbformat": 4,
 "nbformat_minor": 2
}
