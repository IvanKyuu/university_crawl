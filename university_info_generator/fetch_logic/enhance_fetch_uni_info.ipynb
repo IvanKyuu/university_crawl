{
 "cells": [
  {
   "cell_type": "markdown",
   "metadata": {},
   "source": [
    "# Process logic"
   ]
  },
  {
   "cell_type": "markdown",
   "metadata": {},
   "source": [
    "## Setup env"
   ]
  },
  {
   "cell_type": "code",
   "execution_count": 1,
   "metadata": {
    "vscode": {
     "languageId": "shellscript"
    }
   },
   "outputs": [
    {
     "name": "stdout",
     "output_type": "stream",
     "text": [
      "/home/ivan/Uforse/university_crawl\n",
      "Found build in PROJECT_HOME. Sourcing now...\n",
      "Obtaining file:///home/ivan/Uforse/university_crawl/university_info_generator\n",
      "  Preparing metadata (setup.py): started\n",
      "  Preparing metadata (setup.py): finished with status 'done'\n",
      "Requirement already satisfied: pandas in /home/ivan/anaconda3/envs/gpu/lib/python3.9/site-packages (from university-info-generator==0.0.3) (1.5.2)\n",
      "Requirement already satisfied: numpy in /home/ivan/anaconda3/envs/gpu/lib/python3.9/site-packages (from university-info-generator==0.0.3) (1.26.4)\n",
      "Requirement already satisfied: gspread in /home/ivan/anaconda3/envs/gpu/lib/python3.9/site-packages (from university-info-generator==0.0.3) (6.1.0)\n",
      "Requirement already satisfied: oauth2client in /home/ivan/anaconda3/envs/gpu/lib/python3.9/site-packages (from university-info-generator==0.0.3) (4.1.3)\n",
      "Requirement already satisfied: openai in /home/ivan/anaconda3/envs/gpu/lib/python3.9/site-packages (from university-info-generator==0.0.3) (1.12.0)\n",
      "Requirement already satisfied: python-dotenv in /home/ivan/anaconda3/envs/gpu/lib/python3.9/site-packages (from university-info-generator==0.0.3) (0.21.0)\n",
      "Requirement already satisfied: gspread_dataframe in /home/ivan/anaconda3/envs/gpu/lib/python3.9/site-packages (from university-info-generator==0.0.3) (3.3.1)\n",
      "Requirement already satisfied: bs4 in /home/ivan/anaconda3/envs/gpu/lib/python3.9/site-packages (from university-info-generator==0.0.3) (0.0.2)\n",
      "Requirement already satisfied: tenacity in /home/ivan/anaconda3/envs/gpu/lib/python3.9/site-packages (from university-info-generator==0.0.3) (8.2.3)\n",
      "Requirement already satisfied: langchain in /home/ivan/anaconda3/envs/gpu/lib/python3.9/site-packages (from university-info-generator==0.0.3) (0.1.16)\n",
      "Requirement already satisfied: langchain-openai in /home/ivan/anaconda3/envs/gpu/lib/python3.9/site-packages (from university-info-generator==0.0.3) (0.1.3)\n",
      "Requirement already satisfied: google-api-python-client in /home/ivan/anaconda3/envs/gpu/lib/python3.9/site-packages (from university-info-generator==0.0.3) (2.127.0)\n",
      "Requirement already satisfied: langchain-chroma in /home/ivan/anaconda3/envs/gpu/lib/python3.9/site-packages (from university-info-generator==0.0.3) (0.1.0)\n",
      "Requirement already satisfied: tavily-python in /home/ivan/anaconda3/envs/gpu/lib/python3.9/site-packages (from university-info-generator==0.0.3) (0.3.3)\n",
      "Requirement already satisfied: beautifulsoup4 in /home/ivan/anaconda3/envs/gpu/lib/python3.9/site-packages (from bs4->university-info-generator==0.0.3) (4.11.1)\n",
      "Requirement already satisfied: httplib2<1.dev0,>=0.19.0 in /home/ivan/anaconda3/envs/gpu/lib/python3.9/site-packages (from google-api-python-client->university-info-generator==0.0.3) (0.22.0)\n",
      "Requirement already satisfied: google-auth!=2.24.0,!=2.25.0,<3.0.0.dev0,>=1.32.0 in /home/ivan/anaconda3/envs/gpu/lib/python3.9/site-packages (from google-api-python-client->university-info-generator==0.0.3) (2.27.0)\n",
      "Requirement already satisfied: google-auth-httplib2<1.0.0,>=0.2.0 in /home/ivan/anaconda3/envs/gpu/lib/python3.9/site-packages (from google-api-python-client->university-info-generator==0.0.3) (0.2.0)\n",
      "Requirement already satisfied: google-api-core!=2.0.*,!=2.1.*,!=2.2.*,!=2.3.0,<3.0.0.dev0,>=1.31.5 in /home/ivan/anaconda3/envs/gpu/lib/python3.9/site-packages (from google-api-python-client->university-info-generator==0.0.3) (2.18.0)\n",
      "Requirement already satisfied: uritemplate<5,>=3.0.1 in /home/ivan/anaconda3/envs/gpu/lib/python3.9/site-packages (from google-api-python-client->university-info-generator==0.0.3) (4.1.1)\n",
      "Requirement already satisfied: google-auth-oauthlib>=0.4.1 in /home/ivan/anaconda3/envs/gpu/lib/python3.9/site-packages (from gspread->university-info-generator==0.0.3) (1.2.0)\n",
      "Requirement already satisfied: StrEnum==0.4.15 in /home/ivan/anaconda3/envs/gpu/lib/python3.9/site-packages (from gspread->university-info-generator==0.0.3) (0.4.15)\n",
      "Requirement already satisfied: six>=1.12.0 in /home/ivan/anaconda3/envs/gpu/lib/python3.9/site-packages (from gspread_dataframe->university-info-generator==0.0.3) (1.16.0)\n",
      "Requirement already satisfied: python-dateutil>=2.8.1 in /home/ivan/anaconda3/envs/gpu/lib/python3.9/site-packages (from pandas->university-info-generator==0.0.3) (2.8.2)\n",
      "Requirement already satisfied: pytz>=2020.1 in /home/ivan/anaconda3/envs/gpu/lib/python3.9/site-packages (from pandas->university-info-generator==0.0.3) (2022.7)\n",
      "Requirement already satisfied: PyYAML>=5.3 in /home/ivan/anaconda3/envs/gpu/lib/python3.9/site-packages (from langchain->university-info-generator==0.0.3) (6.0)\n",
      "Requirement already satisfied: SQLAlchemy<3,>=1.4 in /home/ivan/anaconda3/envs/gpu/lib/python3.9/site-packages (from langchain->university-info-generator==0.0.3) (2.0.29)\n",
      "Requirement already satisfied: aiohttp<4.0.0,>=3.8.3 in /home/ivan/anaconda3/envs/gpu/lib/python3.9/site-packages (from langchain->university-info-generator==0.0.3) (3.8.3)\n",
      "Requirement already satisfied: async-timeout<5.0.0,>=4.0.0 in /home/ivan/anaconda3/envs/gpu/lib/python3.9/site-packages (from langchain->university-info-generator==0.0.3) (4.0.2)\n",
      "Requirement already satisfied: dataclasses-json<0.7,>=0.5.7 in /home/ivan/anaconda3/envs/gpu/lib/python3.9/site-packages (from langchain->university-info-generator==0.0.3) (0.6.4)\n",
      "Requirement already satisfied: jsonpatch<2.0,>=1.33 in /home/ivan/anaconda3/envs/gpu/lib/python3.9/site-packages (from langchain->university-info-generator==0.0.3) (1.33)\n",
      "Requirement already satisfied: langchain-community<0.1,>=0.0.32 in /home/ivan/anaconda3/envs/gpu/lib/python3.9/site-packages (from langchain->university-info-generator==0.0.3) (0.0.36)\n",
      "Requirement already satisfied: langchain-core<0.2.0,>=0.1.42 in /home/ivan/anaconda3/envs/gpu/lib/python3.9/site-packages (from langchain->university-info-generator==0.0.3) (0.1.48)\n",
      "Requirement already satisfied: langchain-text-splitters<0.1,>=0.0.1 in /home/ivan/anaconda3/envs/gpu/lib/python3.9/site-packages (from langchain->university-info-generator==0.0.3) (0.0.1)\n",
      "Requirement already satisfied: langsmith<0.2.0,>=0.1.17 in /home/ivan/anaconda3/envs/gpu/lib/python3.9/site-packages (from langchain->university-info-generator==0.0.3) (0.1.50)\n",
      "Requirement already satisfied: pydantic<3,>=1 in /home/ivan/anaconda3/envs/gpu/lib/python3.9/site-packages (from langchain->university-info-generator==0.0.3) (1.10.11)\n",
      "Requirement already satisfied: requests<3,>=2 in /home/ivan/anaconda3/envs/gpu/lib/python3.9/site-packages (from langchain->university-info-generator==0.0.3) (2.28.1)\n",
      "Requirement already satisfied: chromadb<0.5.0,>=0.4.0 in /home/ivan/anaconda3/envs/gpu/lib/python3.9/site-packages (from langchain-chroma->university-info-generator==0.0.3) (0.4.24)\n",
      "Requirement already satisfied: fastapi<1,>=0.95.2 in /home/ivan/anaconda3/envs/gpu/lib/python3.9/site-packages (from langchain-chroma->university-info-generator==0.0.3) (0.110.2)\n",
      "Requirement already satisfied: tiktoken<1,>=0.5.2 in /home/ivan/anaconda3/envs/gpu/lib/python3.9/site-packages (from langchain-openai->university-info-generator==0.0.3) (0.6.0)\n",
      "Requirement already satisfied: anyio<5,>=3.5.0 in /home/ivan/anaconda3/envs/gpu/lib/python3.9/site-packages (from openai->university-info-generator==0.0.3) (3.5.0)\n",
      "Requirement already satisfied: distro<2,>=1.7.0 in /home/ivan/anaconda3/envs/gpu/lib/python3.9/site-packages (from openai->university-info-generator==0.0.3) (1.9.0)\n",
      "Requirement already satisfied: httpx<1,>=0.23.0 in /home/ivan/anaconda3/envs/gpu/lib/python3.9/site-packages (from openai->university-info-generator==0.0.3) (0.27.0)\n",
      "Requirement already satisfied: sniffio in /home/ivan/anaconda3/envs/gpu/lib/python3.9/site-packages (from openai->university-info-generator==0.0.3) (1.2.0)\n",
      "Requirement already satisfied: tqdm>4 in /home/ivan/anaconda3/envs/gpu/lib/python3.9/site-packages (from openai->university-info-generator==0.0.3) (4.66.2)\n",
      "Requirement already satisfied: typing-extensions<5,>=4.7 in /home/ivan/anaconda3/envs/gpu/lib/python3.9/site-packages (from openai->university-info-generator==0.0.3) (4.11.0)\n",
      "Requirement already satisfied: pyasn1>=0.1.7 in /home/ivan/anaconda3/envs/gpu/lib/python3.9/site-packages (from oauth2client->university-info-generator==0.0.3) (0.4.8)\n",
      "Requirement already satisfied: pyasn1-modules>=0.0.5 in /home/ivan/anaconda3/envs/gpu/lib/python3.9/site-packages (from oauth2client->university-info-generator==0.0.3) (0.2.8)\n",
      "Requirement already satisfied: rsa>=3.1.4 in /home/ivan/anaconda3/envs/gpu/lib/python3.9/site-packages (from oauth2client->university-info-generator==0.0.3) (4.9)\n",
      "Requirement already satisfied: attrs>=17.3.0 in /home/ivan/anaconda3/envs/gpu/lib/python3.9/site-packages (from aiohttp<4.0.0,>=3.8.3->langchain->university-info-generator==0.0.3) (22.1.0)\n",
      "Requirement already satisfied: charset-normalizer<3.0,>=2.0 in /home/ivan/anaconda3/envs/gpu/lib/python3.9/site-packages (from aiohttp<4.0.0,>=3.8.3->langchain->university-info-generator==0.0.3) (2.0.4)\n",
      "Requirement already satisfied: multidict<7.0,>=4.5 in /home/ivan/anaconda3/envs/gpu/lib/python3.9/site-packages (from aiohttp<4.0.0,>=3.8.3->langchain->university-info-generator==0.0.3) (6.0.2)\n",
      "Requirement already satisfied: yarl<2.0,>=1.0 in /home/ivan/anaconda3/envs/gpu/lib/python3.9/site-packages (from aiohttp<4.0.0,>=3.8.3->langchain->university-info-generator==0.0.3) (1.8.1)\n",
      "Requirement already satisfied: frozenlist>=1.1.1 in /home/ivan/anaconda3/envs/gpu/lib/python3.9/site-packages (from aiohttp<4.0.0,>=3.8.3->langchain->university-info-generator==0.0.3) (1.3.3)\n",
      "Requirement already satisfied: aiosignal>=1.1.2 in /home/ivan/anaconda3/envs/gpu/lib/python3.9/site-packages (from aiohttp<4.0.0,>=3.8.3->langchain->university-info-generator==0.0.3) (1.2.0)\n",
      "Requirement already satisfied: idna>=2.8 in /home/ivan/anaconda3/envs/gpu/lib/python3.9/site-packages (from anyio<5,>=3.5.0->openai->university-info-generator==0.0.3) (3.4)\n",
      "Requirement already satisfied: build>=1.0.3 in /home/ivan/anaconda3/envs/gpu/lib/python3.9/site-packages (from chromadb<0.5.0,>=0.4.0->langchain-chroma->university-info-generator==0.0.3) (1.2.1)\n",
      "Requirement already satisfied: chroma-hnswlib==0.7.3 in /home/ivan/anaconda3/envs/gpu/lib/python3.9/site-packages (from chromadb<0.5.0,>=0.4.0->langchain-chroma->university-info-generator==0.0.3) (0.7.3)\n",
      "Requirement already satisfied: uvicorn>=0.18.3 in /home/ivan/anaconda3/envs/gpu/lib/python3.9/site-packages (from uvicorn[standard]>=0.18.3->chromadb<0.5.0,>=0.4.0->langchain-chroma->university-info-generator==0.0.3) (0.29.0)\n",
      "Requirement already satisfied: posthog>=2.4.0 in /home/ivan/anaconda3/envs/gpu/lib/python3.9/site-packages (from chromadb<0.5.0,>=0.4.0->langchain-chroma->university-info-generator==0.0.3) (3.5.0)\n",
      "Requirement already satisfied: pulsar-client>=3.1.0 in /home/ivan/anaconda3/envs/gpu/lib/python3.9/site-packages (from chromadb<0.5.0,>=0.4.0->langchain-chroma->university-info-generator==0.0.3) (3.5.0)\n",
      "Requirement already satisfied: onnxruntime>=1.14.1 in /home/ivan/anaconda3/envs/gpu/lib/python3.9/site-packages (from chromadb<0.5.0,>=0.4.0->langchain-chroma->university-info-generator==0.0.3) (1.17.3)\n",
      "Requirement already satisfied: opentelemetry-api>=1.2.0 in /home/ivan/anaconda3/envs/gpu/lib/python3.9/site-packages (from chromadb<0.5.0,>=0.4.0->langchain-chroma->university-info-generator==0.0.3) (1.24.0)\n",
      "Requirement already satisfied: opentelemetry-exporter-otlp-proto-grpc>=1.2.0 in /home/ivan/anaconda3/envs/gpu/lib/python3.9/site-packages (from chromadb<0.5.0,>=0.4.0->langchain-chroma->university-info-generator==0.0.3) (1.24.0)\n",
      "Requirement already satisfied: opentelemetry-instrumentation-fastapi>=0.41b0 in /home/ivan/anaconda3/envs/gpu/lib/python3.9/site-packages (from chromadb<0.5.0,>=0.4.0->langchain-chroma->university-info-generator==0.0.3) (0.45b0)\n",
      "Requirement already satisfied: opentelemetry-sdk>=1.2.0 in /home/ivan/anaconda3/envs/gpu/lib/python3.9/site-packages (from chromadb<0.5.0,>=0.4.0->langchain-chroma->university-info-generator==0.0.3) (1.24.0)\n",
      "Requirement already satisfied: tokenizers>=0.13.2 in /home/ivan/anaconda3/envs/gpu/lib/python3.9/site-packages (from chromadb<0.5.0,>=0.4.0->langchain-chroma->university-info-generator==0.0.3) (0.19.1)\n",
      "Requirement already satisfied: pypika>=0.48.9 in /home/ivan/anaconda3/envs/gpu/lib/python3.9/site-packages (from chromadb<0.5.0,>=0.4.0->langchain-chroma->university-info-generator==0.0.3) (0.48.9)\n",
      "Requirement already satisfied: overrides>=7.3.1 in /home/ivan/anaconda3/envs/gpu/lib/python3.9/site-packages (from chromadb<0.5.0,>=0.4.0->langchain-chroma->university-info-generator==0.0.3) (7.7.0)\n",
      "Requirement already satisfied: importlib-resources in /home/ivan/anaconda3/envs/gpu/lib/python3.9/site-packages (from chromadb<0.5.0,>=0.4.0->langchain-chroma->university-info-generator==0.0.3) (6.4.0)\n",
      "Requirement already satisfied: grpcio>=1.58.0 in /home/ivan/anaconda3/envs/gpu/lib/python3.9/site-packages (from chromadb<0.5.0,>=0.4.0->langchain-chroma->university-info-generator==0.0.3) (1.62.2)\n",
      "Requirement already satisfied: bcrypt>=4.0.1 in /home/ivan/anaconda3/envs/gpu/lib/python3.9/site-packages (from chromadb<0.5.0,>=0.4.0->langchain-chroma->university-info-generator==0.0.3) (4.1.2)\n",
      "Requirement already satisfied: typer>=0.9.0 in /home/ivan/anaconda3/envs/gpu/lib/python3.9/site-packages (from chromadb<0.5.0,>=0.4.0->langchain-chroma->university-info-generator==0.0.3) (0.12.3)\n",
      "Requirement already satisfied: kubernetes>=28.1.0 in /home/ivan/anaconda3/envs/gpu/lib/python3.9/site-packages (from chromadb<0.5.0,>=0.4.0->langchain-chroma->university-info-generator==0.0.3) (29.0.0)\n",
      "Requirement already satisfied: mmh3>=4.0.1 in /home/ivan/anaconda3/envs/gpu/lib/python3.9/site-packages (from chromadb<0.5.0,>=0.4.0->langchain-chroma->university-info-generator==0.0.3) (4.1.0)\n",
      "Requirement already satisfied: orjson>=3.9.12 in /home/ivan/anaconda3/envs/gpu/lib/python3.9/site-packages (from chromadb<0.5.0,>=0.4.0->langchain-chroma->university-info-generator==0.0.3) (3.10.1)\n",
      "Requirement already satisfied: marshmallow<4.0.0,>=3.18.0 in /home/ivan/anaconda3/envs/gpu/lib/python3.9/site-packages (from dataclasses-json<0.7,>=0.5.7->langchain->university-info-generator==0.0.3) (3.21.1)\n",
      "Requirement already satisfied: typing-inspect<1,>=0.4.0 in /home/ivan/anaconda3/envs/gpu/lib/python3.9/site-packages (from dataclasses-json<0.7,>=0.5.7->langchain->university-info-generator==0.0.3) (0.8.0)\n",
      "Requirement already satisfied: starlette<0.38.0,>=0.37.2 in /home/ivan/anaconda3/envs/gpu/lib/python3.9/site-packages (from fastapi<1,>=0.95.2->langchain-chroma->university-info-generator==0.0.3) (0.37.2)\n",
      "Requirement already satisfied: googleapis-common-protos<2.0.dev0,>=1.56.2 in /home/ivan/anaconda3/envs/gpu/lib/python3.9/site-packages (from google-api-core!=2.0.*,!=2.1.*,!=2.2.*,!=2.3.0,<3.0.0.dev0,>=1.31.5->google-api-python-client->university-info-generator==0.0.3) (1.63.0)\n",
      "Requirement already satisfied: protobuf!=3.20.0,!=3.20.1,!=4.21.0,!=4.21.1,!=4.21.2,!=4.21.3,!=4.21.4,!=4.21.5,<5.0.0.dev0,>=3.19.5 in /home/ivan/anaconda3/envs/gpu/lib/python3.9/site-packages (from google-api-core!=2.0.*,!=2.1.*,!=2.2.*,!=2.3.0,<3.0.0.dev0,>=1.31.5->google-api-python-client->university-info-generator==0.0.3) (4.21.12)\n",
      "Requirement already satisfied: proto-plus<2.0.0dev,>=1.22.3 in /home/ivan/anaconda3/envs/gpu/lib/python3.9/site-packages (from google-api-core!=2.0.*,!=2.1.*,!=2.2.*,!=2.3.0,<3.0.0.dev0,>=1.31.5->google-api-python-client->university-info-generator==0.0.3) (1.23.0)\n",
      "Requirement already satisfied: cachetools<6.0,>=2.0.0 in /home/ivan/anaconda3/envs/gpu/lib/python3.9/site-packages (from google-auth!=2.24.0,!=2.25.0,<3.0.0.dev0,>=1.32.0->google-api-python-client->university-info-generator==0.0.3) (5.3.2)\n",
      "Requirement already satisfied: requests-oauthlib>=0.7.0 in /home/ivan/anaconda3/envs/gpu/lib/python3.9/site-packages (from google-auth-oauthlib>=0.4.1->gspread->university-info-generator==0.0.3) (1.3.1)\n",
      "Requirement already satisfied: pyparsing!=3.0.0,!=3.0.1,!=3.0.2,!=3.0.3,<4,>=2.4.2 in /home/ivan/anaconda3/envs/gpu/lib/python3.9/site-packages (from httplib2<1.dev0,>=0.19.0->google-api-python-client->university-info-generator==0.0.3) (3.0.9)\n",
      "Requirement already satisfied: certifi in /home/ivan/anaconda3/envs/gpu/lib/python3.9/site-packages (from httpx<1,>=0.23.0->openai->university-info-generator==0.0.3) (2023.7.22)\n",
      "Requirement already satisfied: httpcore==1.* in /home/ivan/anaconda3/envs/gpu/lib/python3.9/site-packages (from httpx<1,>=0.23.0->openai->university-info-generator==0.0.3) (1.0.4)\n",
      "Requirement already satisfied: h11<0.15,>=0.13 in /home/ivan/anaconda3/envs/gpu/lib/python3.9/site-packages (from httpcore==1.*->httpx<1,>=0.23.0->openai->university-info-generator==0.0.3) (0.14.0)\n",
      "Requirement already satisfied: jsonpointer>=1.9 in /home/ivan/anaconda3/envs/gpu/lib/python3.9/site-packages (from jsonpatch<2.0,>=1.33->langchain->university-info-generator==0.0.3) (2.4)\n",
      "Requirement already satisfied: packaging<24.0,>=23.2 in /home/ivan/anaconda3/envs/gpu/lib/python3.9/site-packages (from langchain-core<0.2.0,>=0.1.42->langchain->university-info-generator==0.0.3) (23.2)\n",
      "Requirement already satisfied: urllib3<1.27,>=1.21.1 in /home/ivan/anaconda3/envs/gpu/lib/python3.9/site-packages (from requests<3,>=2->langchain->university-info-generator==0.0.3) (1.26.14)\n",
      "Requirement already satisfied: greenlet!=0.4.17 in /home/ivan/anaconda3/envs/gpu/lib/python3.9/site-packages (from SQLAlchemy<3,>=1.4->langchain->university-info-generator==0.0.3) (3.0.3)\n",
      "Requirement already satisfied: regex>=2022.1.18 in /home/ivan/anaconda3/envs/gpu/lib/python3.9/site-packages (from tiktoken<1,>=0.5.2->langchain-openai->university-info-generator==0.0.3) (2022.7.9)\n",
      "Requirement already satisfied: soupsieve>1.2 in /home/ivan/anaconda3/envs/gpu/lib/python3.9/site-packages (from beautifulsoup4->bs4->university-info-generator==0.0.3) (2.3.2.post1)\n",
      "Requirement already satisfied: pyproject_hooks in /home/ivan/anaconda3/envs/gpu/lib/python3.9/site-packages (from build>=1.0.3->chromadb<0.5.0,>=0.4.0->langchain-chroma->university-info-generator==0.0.3) (1.0.0)\n",
      "Requirement already satisfied: importlib-metadata>=4.6 in /home/ivan/anaconda3/envs/gpu/lib/python3.9/site-packages (from build>=1.0.3->chromadb<0.5.0,>=0.4.0->langchain-chroma->university-info-generator==0.0.3) (7.0.0)\n",
      "Requirement already satisfied: tomli>=1.1.0 in /home/ivan/anaconda3/envs/gpu/lib/python3.9/site-packages (from build>=1.0.3->chromadb<0.5.0,>=0.4.0->langchain-chroma->university-info-generator==0.0.3) (2.0.1)\n",
      "Requirement already satisfied: websocket-client!=0.40.0,!=0.41.*,!=0.42.*,>=0.32.0 in /home/ivan/anaconda3/envs/gpu/lib/python3.9/site-packages (from kubernetes>=28.1.0->chromadb<0.5.0,>=0.4.0->langchain-chroma->university-info-generator==0.0.3) (0.58.0)\n",
      "Requirement already satisfied: oauthlib>=3.2.2 in /home/ivan/anaconda3/envs/gpu/lib/python3.9/site-packages (from kubernetes>=28.1.0->chromadb<0.5.0,>=0.4.0->langchain-chroma->university-info-generator==0.0.3) (3.2.2)\n",
      "Requirement already satisfied: coloredlogs in /home/ivan/anaconda3/envs/gpu/lib/python3.9/site-packages (from onnxruntime>=1.14.1->chromadb<0.5.0,>=0.4.0->langchain-chroma->university-info-generator==0.0.3) (15.0.1)\n",
      "Requirement already satisfied: flatbuffers in /home/ivan/anaconda3/envs/gpu/lib/python3.9/site-packages (from onnxruntime>=1.14.1->chromadb<0.5.0,>=0.4.0->langchain-chroma->university-info-generator==0.0.3) (23.5.26)\n",
      "Requirement already satisfied: sympy in /home/ivan/anaconda3/envs/gpu/lib/python3.9/site-packages (from onnxruntime>=1.14.1->chromadb<0.5.0,>=0.4.0->langchain-chroma->university-info-generator==0.0.3) (1.11.1)\n",
      "Requirement already satisfied: deprecated>=1.2.6 in /home/ivan/anaconda3/envs/gpu/lib/python3.9/site-packages (from opentelemetry-api>=1.2.0->chromadb<0.5.0,>=0.4.0->langchain-chroma->university-info-generator==0.0.3) (1.2.14)\n",
      "Requirement already satisfied: opentelemetry-exporter-otlp-proto-common==1.24.0 in /home/ivan/anaconda3/envs/gpu/lib/python3.9/site-packages (from opentelemetry-exporter-otlp-proto-grpc>=1.2.0->chromadb<0.5.0,>=0.4.0->langchain-chroma->university-info-generator==0.0.3) (1.24.0)\n",
      "Requirement already satisfied: opentelemetry-proto==1.24.0 in /home/ivan/anaconda3/envs/gpu/lib/python3.9/site-packages (from opentelemetry-exporter-otlp-proto-grpc>=1.2.0->chromadb<0.5.0,>=0.4.0->langchain-chroma->university-info-generator==0.0.3) (1.24.0)\n",
      "Requirement already satisfied: opentelemetry-instrumentation-asgi==0.45b0 in /home/ivan/anaconda3/envs/gpu/lib/python3.9/site-packages (from opentelemetry-instrumentation-fastapi>=0.41b0->chromadb<0.5.0,>=0.4.0->langchain-chroma->university-info-generator==0.0.3) (0.45b0)\n",
      "Requirement already satisfied: opentelemetry-instrumentation==0.45b0 in /home/ivan/anaconda3/envs/gpu/lib/python3.9/site-packages (from opentelemetry-instrumentation-fastapi>=0.41b0->chromadb<0.5.0,>=0.4.0->langchain-chroma->university-info-generator==0.0.3) (0.45b0)\n",
      "Requirement already satisfied: opentelemetry-semantic-conventions==0.45b0 in /home/ivan/anaconda3/envs/gpu/lib/python3.9/site-packages (from opentelemetry-instrumentation-fastapi>=0.41b0->chromadb<0.5.0,>=0.4.0->langchain-chroma->university-info-generator==0.0.3) (0.45b0)\n",
      "Requirement already satisfied: opentelemetry-util-http==0.45b0 in /home/ivan/anaconda3/envs/gpu/lib/python3.9/site-packages (from opentelemetry-instrumentation-fastapi>=0.41b0->chromadb<0.5.0,>=0.4.0->langchain-chroma->university-info-generator==0.0.3) (0.45b0)\n",
      "Requirement already satisfied: setuptools>=16.0 in /home/ivan/anaconda3/envs/gpu/lib/python3.9/site-packages (from opentelemetry-instrumentation==0.45b0->opentelemetry-instrumentation-fastapi>=0.41b0->chromadb<0.5.0,>=0.4.0->langchain-chroma->university-info-generator==0.0.3) (65.6.3)\n",
      "Requirement already satisfied: wrapt<2.0.0,>=1.0.0 in /home/ivan/anaconda3/envs/gpu/lib/python3.9/site-packages (from opentelemetry-instrumentation==0.45b0->opentelemetry-instrumentation-fastapi>=0.41b0->chromadb<0.5.0,>=0.4.0->langchain-chroma->university-info-generator==0.0.3) (1.14.1)\n",
      "Requirement already satisfied: asgiref~=3.0 in /home/ivan/anaconda3/envs/gpu/lib/python3.9/site-packages (from opentelemetry-instrumentation-asgi==0.45b0->opentelemetry-instrumentation-fastapi>=0.41b0->chromadb<0.5.0,>=0.4.0->langchain-chroma->university-info-generator==0.0.3) (3.8.1)\n",
      "Requirement already satisfied: monotonic>=1.5 in /home/ivan/anaconda3/envs/gpu/lib/python3.9/site-packages (from posthog>=2.4.0->chromadb<0.5.0,>=0.4.0->langchain-chroma->university-info-generator==0.0.3) (1.6)\n",
      "Requirement already satisfied: backoff>=1.10.0 in /home/ivan/anaconda3/envs/gpu/lib/python3.9/site-packages (from posthog>=2.4.0->chromadb<0.5.0,>=0.4.0->langchain-chroma->university-info-generator==0.0.3) (2.2.1)\n",
      "Requirement already satisfied: huggingface-hub<1.0,>=0.16.4 in /home/ivan/anaconda3/envs/gpu/lib/python3.9/site-packages (from tokenizers>=0.13.2->chromadb<0.5.0,>=0.4.0->langchain-chroma->university-info-generator==0.0.3) (0.22.2)\n",
      "Requirement already satisfied: click>=8.0.0 in /home/ivan/anaconda3/envs/gpu/lib/python3.9/site-packages (from typer>=0.9.0->chromadb<0.5.0,>=0.4.0->langchain-chroma->university-info-generator==0.0.3) (8.1.7)\n",
      "Requirement already satisfied: shellingham>=1.3.0 in /home/ivan/anaconda3/envs/gpu/lib/python3.9/site-packages (from typer>=0.9.0->chromadb<0.5.0,>=0.4.0->langchain-chroma->university-info-generator==0.0.3) (1.5.4)\n",
      "Requirement already satisfied: rich>=10.11.0 in /home/ivan/anaconda3/envs/gpu/lib/python3.9/site-packages (from typer>=0.9.0->chromadb<0.5.0,>=0.4.0->langchain-chroma->university-info-generator==0.0.3) (13.7.1)\n",
      "Requirement already satisfied: mypy-extensions>=0.3.0 in /home/ivan/anaconda3/envs/gpu/lib/python3.9/site-packages (from typing-inspect<1,>=0.4.0->dataclasses-json<0.7,>=0.5.7->langchain->university-info-generator==0.0.3) (0.4.3)\n",
      "Requirement already satisfied: httptools>=0.5.0 in /home/ivan/anaconda3/envs/gpu/lib/python3.9/site-packages (from uvicorn[standard]>=0.18.3->chromadb<0.5.0,>=0.4.0->langchain-chroma->university-info-generator==0.0.3) (0.6.1)\n",
      "Requirement already satisfied: uvloop!=0.15.0,!=0.15.1,>=0.14.0 in /home/ivan/anaconda3/envs/gpu/lib/python3.9/site-packages (from uvicorn[standard]>=0.18.3->chromadb<0.5.0,>=0.4.0->langchain-chroma->university-info-generator==0.0.3) (0.19.0)\n",
      "Requirement already satisfied: watchfiles>=0.13 in /home/ivan/anaconda3/envs/gpu/lib/python3.9/site-packages (from uvicorn[standard]>=0.18.3->chromadb<0.5.0,>=0.4.0->langchain-chroma->university-info-generator==0.0.3) (0.21.0)\n",
      "Requirement already satisfied: websockets>=10.4 in /home/ivan/anaconda3/envs/gpu/lib/python3.9/site-packages (from uvicorn[standard]>=0.18.3->chromadb<0.5.0,>=0.4.0->langchain-chroma->university-info-generator==0.0.3) (12.0)\n",
      "Requirement already satisfied: zipp>=3.1.0 in /home/ivan/anaconda3/envs/gpu/lib/python3.9/site-packages (from importlib-resources->chromadb<0.5.0,>=0.4.0->langchain-chroma->university-info-generator==0.0.3) (3.11.0)\n",
      "Requirement already satisfied: filelock in /home/ivan/anaconda3/envs/gpu/lib/python3.9/site-packages (from huggingface-hub<1.0,>=0.16.4->tokenizers>=0.13.2->chromadb<0.5.0,>=0.4.0->langchain-chroma->university-info-generator==0.0.3) (3.9.0)\n",
      "Requirement already satisfied: fsspec>=2023.5.0 in /home/ivan/anaconda3/envs/gpu/lib/python3.9/site-packages (from huggingface-hub<1.0,>=0.16.4->tokenizers>=0.13.2->chromadb<0.5.0,>=0.4.0->langchain-chroma->university-info-generator==0.0.3) (2024.3.1)\n",
      "Requirement already satisfied: markdown-it-py>=2.2.0 in /home/ivan/anaconda3/envs/gpu/lib/python3.9/site-packages (from rich>=10.11.0->typer>=0.9.0->chromadb<0.5.0,>=0.4.0->langchain-chroma->university-info-generator==0.0.3) (3.0.0)\n",
      "Requirement already satisfied: pygments<3.0.0,>=2.13.0 in /home/ivan/anaconda3/envs/gpu/lib/python3.9/site-packages (from rich>=10.11.0->typer>=0.9.0->chromadb<0.5.0,>=0.4.0->langchain-chroma->university-info-generator==0.0.3) (2.17.2)\n",
      "Requirement already satisfied: humanfriendly>=9.1 in /home/ivan/anaconda3/envs/gpu/lib/python3.9/site-packages (from coloredlogs->onnxruntime>=1.14.1->chromadb<0.5.0,>=0.4.0->langchain-chroma->university-info-generator==0.0.3) (10.0)\n",
      "Requirement already satisfied: mpmath>=0.19 in /home/ivan/anaconda3/envs/gpu/lib/python3.9/site-packages (from sympy->onnxruntime>=1.14.1->chromadb<0.5.0,>=0.4.0->langchain-chroma->university-info-generator==0.0.3) (1.2.1)\n",
      "Requirement already satisfied: mdurl~=0.1 in /home/ivan/anaconda3/envs/gpu/lib/python3.9/site-packages (from markdown-it-py>=2.2.0->rich>=10.11.0->typer>=0.9.0->chromadb<0.5.0,>=0.4.0->langchain-chroma->university-info-generator==0.0.3) (0.1.2)\n",
      "Installing collected packages: university-info-generator\n",
      "  Attempting uninstall: university-info-generator\n",
      "    Found existing installation: university-info-generator 0.0.3\n",
      "    Uninstalling university-info-generator-0.0.3:\n",
      "      Successfully uninstalled university-info-generator-0.0.3\n",
      "  Running setup.py develop for university-info-generator\n",
      "Successfully installed university-info-generator-0.0.3\n",
      "Directory already exists: /home/ivan/Uforse/university_crawl/cache_repo\n",
      "Environment variables set:\n",
      "PROJECT_HOME=/home/ivan/Uforse/university_crawl\n",
      "PYTHONPATH=/home/ivan/Uforse/university_crawl:\n",
      "API_KEY_PATH=/home/ivan/Uforse/university_crawl\n",
      "CACHE_REPO_PATH=/home/ivan/Uforse/university_crawl/cache_repo\n",
      "LANGCHAIN_API_KEY=ls__3780df60c0ef4fd2b2414f032feb31ce\n",
      "Environment set up for uni_info_generator\n",
      "build executed successfully.\n"
     ]
    }
   ],
   "source": [
    "%%sh\n",
    "# current_path=$(pwd)\n",
    "# parent_dir=$(dirname \"$current_dir\")\n",
    "export PROJECT_HOME=\"/home/ivan/Uforse/university_crawl\"\n",
    "echo $PROJECT_HOME\n",
    "if [ -f \"${PROJECT_HOME}/build\" ]; then\n",
    "    echo \"Found build in PROJECT_HOME. Sourcing now...\"\n",
    "    . \"${PROJECT_HOME}/build\"\n",
    "    echo \"build executed successfully.\"\n",
    "else\n",
    "    echo \"Error: build not found in PROJECT_HOME.\"\n",
    "fi"
   ]
  },
  {
   "cell_type": "code",
   "execution_count": 2,
   "metadata": {},
   "outputs": [
    {
     "name": "stdout",
     "output_type": "stream",
     "text": [
      "/home/ivan/anaconda3/envs/gpu/bin/python\n"
     ]
    }
   ],
   "source": [
    "import os\n",
    "import sys\n",
    "from pprint import pprint\n",
    "\n",
    "#'/home/ivan/Uforse/university_crawl/fetch_logic'\n",
    "current_path = os.path.abspath('./')\n",
    "\n",
    "#'/home/ivan/Uforse/university_crawl'\n",
    "parent_path = os.path.dirname(current_path)\n",
    "sys.path.append(parent_path)\n",
    "import sys\n",
    "print(sys.executable)\n",
    "sys.path.append('/home/ivan/Uforse/university_crawl')"
   ]
  },
  {
   "cell_type": "code",
   "execution_count": 3,
   "metadata": {},
   "outputs": [],
   "source": [
    "import university_info_generator"
   ]
  },
  {
   "cell_type": "code",
   "execution_count": 4,
   "metadata": {},
   "outputs": [],
   "source": [
    "from university_info_generator import config\n",
    "from university_info_generator import UniversityInfoGenerator as uni\n",
    "from university_info_generator import BasicInfoType, SavedDictType, GPTMethodType, HandlerType\n",
    "from university_info_generator.utility.google_sheet_utility import *\n",
    "from university_info_generator.utility.save_load_utility import *\n",
    "from university_info_generator.configs import ALL_ATTRIBUTE_NAME"
   ]
  },
  {
   "cell_type": "markdown",
   "metadata": {},
   "source": [
    "## useful methods"
   ]
  },
  {
   "cell_type": "code",
   "execution_count": 5,
   "metadata": {},
   "outputs": [],
   "source": [
    "def filter_jsonl_file(input_filepath, output_filepath, keyword):\n",
    "    \"\"\"\n",
    "    Reads a JSONL file and writes out only those lines that do not contain the specified keyword.\n",
    "\n",
    "    Args:\n",
    "    - input_filepath (str): Path to the input JSONL file.\n",
    "    - output_filepath (str): Path to the output JSONL file where results should be saved.\n",
    "    - keyword (str): Keyword to search for in each JSON object to decide if it should be excluded.\n",
    "    \"\"\"\n",
    "    with open(input_filepath, 'r', encoding='utf-8') as file, open(output_filepath, 'w', encoding='utf-8') as outfile:\n",
    "        for line in file:\n",
    "            if keyword not in line:  # Check if the keyword is in the line\n",
    "                outfile.write(line)  # Write the line to the output file if keyword is not found\n",
    "\n",
    "def extract_university_data(worksheet):\n",
    "    \"\"\"\n",
    "    Extracts university names and their corresponding IDs from a worksheet.\n",
    "\n",
    "    Args:\n",
    "        worksheet: A gspread worksheet object with university data.\n",
    "\n",
    "    Returns:\n",
    "        List[tuple]: A list of tuples, each containing the university name and its ID.\n",
    "    \"\"\"\n",
    "    # Get all values in the first column for university names\n",
    "    university_names = worksheet.col_values(1)[1:]  # Assuming the first row is a header\n",
    "    # Get all values in the second column for IDs\n",
    "    university_ids = worksheet.col_values(2)[1:]  # Assuming the first row is a header\n",
    "\n",
    "    # Combine the names and IDs, stripping any extra whitespace and skipping any empty entries\n",
    "    university_data = [(name.strip(), id_.strip()) for name, id_ in zip(university_names, university_ids) if name.strip() and id_.strip()]\n",
    "    return university_data\n",
    "\n",
    "\n",
    "# # threading template\n",
    "# def fetch_university_info(uni_gen, university_name, results, index):\n",
    "#     # Retrieve university info and store it in the results list at the correct index\n",
    "#     results[index] = uni_gen.get_university_info(university_name)\n",
    "\n",
    "# results = [None] * len(lst)\n",
    "# threads = []\n",
    "# for i, university in enumerate(lst[:3]):\n",
    "#     thread = threading.Thread(target=fetch_university_info, args=(uni_gen, university, results, i))\n",
    "#     threads.append(thread)\n",
    "#     thread.start()\n",
    "\n",
    "# for thread in threads:\n",
    "#     thread.join()"
   ]
  },
  {
   "cell_type": "markdown",
   "metadata": {},
   "source": [
    "## Get Attr list"
   ]
  },
  {
   "cell_type": "code",
   "execution_count": 6,
   "metadata": {},
   "outputs": [],
   "source": [
    "attr_df = get_attribute_df()\n",
    "# attr_df.head(25)"
   ]
  },
  {
   "cell_type": "code",
   "execution_count": 7,
   "metadata": {},
   "outputs": [],
   "source": [
    "store_cache(config.UNIVERSITY_ATTRIBUTE_CACHE_FILE_PATH, get_attribute_dict())"
   ]
  },
  {
   "cell_type": "markdown",
   "metadata": {
    "notebookRunGroups": {
     "groupValue": "1"
    }
   },
   "source": [
    "## Main train logic"
   ]
  },
  {
   "cell_type": "code",
   "execution_count": 8,
   "metadata": {},
   "outputs": [],
   "source": [
    "uni_gen = uni()\n",
    "uni_gen.load_from_file(SavedDictType.ATTRIBUTE, config.UNIVERSITY_ATTRIBUTE_CACHE_FILE_PATH)\n",
    "uni_gen.load_from_file(SavedDictType.GPT_CACHE, \"./gpt_cache.jsonl\")\n",
    "uni_gen.load_from_file(SavedDictType.UNIVERSITY_BASIC_INFO, \"./university_basic_info.jsonl\")\n",
    "# uni_gen.load_from_file(SavedDictType.UNIVERSITY_INFO, \"./university_info.jsonl\")\n"
   ]
  },
  {
   "cell_type": "code",
   "execution_count": 9,
   "metadata": {},
   "outputs": [],
   "source": [
    "# pprint(uni_gen.attribute_dict)"
   ]
  },
  {
   "cell_type": "code",
   "execution_count": null,
   "metadata": {},
   "outputs": [],
   "source": []
  },
  {
   "cell_type": "code",
   "execution_count": 10,
   "metadata": {},
   "outputs": [
    {
     "name": "stdout",
     "output_type": "stream",
     "text": [
      "dict_keys(['attribute_format', 'attribute_reference', 'attribute_prompt', 'example', 'handler', 'k_value', 'mapping'])\n"
     ]
    }
   ],
   "source": [
    "pprint(uni_gen.attribute_dict[\"location\"].keys())"
   ]
  },
  {
   "cell_type": "code",
   "execution_count": 11,
   "metadata": {},
   "outputs": [
    {
     "name": "stdout",
     "output_type": "stream",
     "text": [
      "{'attribute_format': '<graduate_rate>%',\n",
      " 'attribute_prompt': 'Find the graduation rate. Keep the format in two digits, '\n",
      "                     'like 89 represent 89%',\n",
      " 'attribute_reference': '',\n",
      " 'example': '89%',\n",
      " 'handler': <HandlerType.LANGCHAIN_TAVILY: 16>,\n",
      " 'k_value': '',\n",
      " 'mapping': ''}\n"
     ]
    }
   ],
   "source": [
    "pprint(uni_gen.attribute_dict[\"graduation_rate\"])"
   ]
  },
  {
   "cell_type": "code",
   "execution_count": 12,
   "metadata": {},
   "outputs": [],
   "source": [
    "target_worksheet = get_worksheet()\n"
   ]
  },
  {
   "cell_type": "code",
   "execution_count": 28,
   "metadata": {},
   "outputs": [],
   "source": [
    "# canada\n",
    "target_university_ca = get_worksheet(\n",
    "    spreadsheet_title= \"working_extract_info_output\",\n",
    "    sheetname= \"target_university_list_canada\",\n",
    "    sheet_client= get_sheet_client(),\n",
    ")\n",
    "\n",
    "# states\n",
    "target_university_usa = get_worksheet(\n",
    "    spreadsheet_title= \"working_extract_info_output\",\n",
    "    sheetname= \"target_university_list_usa\",\n",
    "    sheet_client= get_sheet_client(),\n",
    ")\n"
   ]
  },
  {
   "cell_type": "code",
   "execution_count": 14,
   "metadata": {},
   "outputs": [
    {
     "name": "stdout",
     "output_type": "stream",
     "text": [
      "[('Université de Sherbrooke', '191'), ('Université du Québec en Abitibi-Témiscamingue (UQAT)', '192'), ('Université du Québec en Outaouais (UQO)', '193'), ('Université du Québec à Chicoutimi (UQAC)', '194'), ('Université du Québec à Montréal (UQAM)', '195'), ('Université du Québec à Rimouski (UQAR)', '196'), ('Université du Québec à Trois-Rivières (UQTR)', '197'), ('Vancouver Community College (VCC)', '198'), ('Vancouver Island University', '199'), ('Vancouver Island University (VIU)', '200'), ('Western University (UWO)', '201'), ('Wilfrid Laurier University (WLU)', '202'), ('Windsor University', '203'), ('York University', '204'), ('Yorkville University', '205'), ('Yukon University', '206'), ('target_university_list', '207'), ('university_name', '208'), ('École de technologie supérieure', '209'), ('École de technologie supérieure (ETS)', '210')]\n"
     ]
    }
   ],
   "source": [
    "lst = extract_university_data(target_university_ca)\n",
    "print(lst[-20:])"
   ]
  },
  {
   "cell_type": "code",
   "execution_count": 31,
   "metadata": {},
   "outputs": [],
   "source": [
    "usa_lst = extract_university_data(target_university_usa)\n",
    "df = pd.DataFrame.from_dict(dict(usa_lst), orient=\"index\").reset_index()\n",
    "df.columns = [\"university_name\", \"id_\"]\n",
    "file_path = \"all_universities_usa.csv\"\n",
    "df.to_csv(file_path, index=False, encoding=\"utf-8\")"
   ]
  },
  {
   "cell_type": "code",
   "execution_count": 30,
   "metadata": {},
   "outputs": [],
   "source": [
    "df = pd.DataFrame.from_dict(dict(lst), orient=\"index\").reset_index()\n",
    "df.columns = [\"university_name\", \"id_\"]\n",
    "file_path = \"all_universities_canada.csv\"\n",
    "df.to_csv(file_path, index=False, encoding=\"utf-8\")"
   ]
  },
  {
   "cell_type": "code",
   "execution_count": 16,
   "metadata": {},
   "outputs": [
    {
     "data": {
      "text/plain": [
       "0                     Adler Graduate Professional School\n",
       "1        Alberta Business School - University of Alberta\n",
       "2                                      Algoma University\n",
       "3                                      Algonquin College\n",
       "4      Asper School of Business - University of Manitoba\n",
       "                             ...                        \n",
       "205                                     Yukon University\n",
       "206                               target_university_list\n",
       "207                                      university_name\n",
       "208                      École de technologie supérieure\n",
       "209                École de technologie supérieure (ETS)\n",
       "Name: university_name, Length: 210, dtype: object"
      ]
     },
     "execution_count": 16,
     "metadata": {},
     "output_type": "execute_result"
    }
   ],
   "source": [
    "df[\"university_name\"]"
   ]
  },
  {
   "cell_type": "code",
   "execution_count": 17,
   "metadata": {},
   "outputs": [],
   "source": [
    "from university_info_generator.configs.enum_class import GeneralInfoType, AttributeColumnType"
   ]
  },
  {
   "cell_type": "code",
   "execution_count": 18,
   "metadata": {},
   "outputs": [],
   "source": [
    "import threading\n"
   ]
  },
  {
   "cell_type": "code",
   "execution_count": 19,
   "metadata": {},
   "outputs": [],
   "source": [
    "import time"
   ]
  },
  {
   "cell_type": "code",
   "execution_count": 20,
   "metadata": {},
   "outputs": [
    {
     "name": "stdout",
     "output_type": "stream",
     "text": [
      "[('Adler Graduate Professional School', '1'), ('Alberta Business School - University of Alberta', '2'), ('Algoma University', '3'), ('Algonquin College', '4'), ('Asper School of Business - University of Manitoba', '5'), ('Assiniboine Community College', '6'), ('Athabasca University', '7'), ('Beedie School of Business - Simon Fraser University', '8'), (\"Bishop's University\", '9'), ('Bow Valley College', '10'), ('Brandon University', '11'), ('British Columbia Institute of Technology (BCIT)', '12'), ('Brock University', '13'), ('Cambrian College', '14'), ('Cambrian College (Hanson Campus)', '15'), ('Camosun College', '16'), ('Canada College/Collège Canada', '17'), ('Canadore College', '18'), ('Cape Breton University (CBU)', '19'), ('Capilano University', '20'), ('Carleton University', '21'), ('Carlton Trail College', '22'), ('Centennial College', '23'), ('Coast Mountain College', '24'), ('College of New Caledonia', '25'), ('College of the North Atlantic', '26'), ('College of the Rockies', '27'), ('Collège Boréal', '28'), ('Collège La Cité', '29'), ('Concordia University', '30'), ('Conestoga College', '31'), ('Confederation College', '32'), ('Crandall University', '33'), ('Cumberland College', '34'), ('Dalhousie University', '35'), ('Dalhousie University (Dal)', '36'), ('Degroote School of Business - McM. University', '37'), ('Desautels Faculty of Mangement - McGill University', '38'), ('Douglas College', '39'), ('Durham College', '40'), ('Edwards School of Business - University of Saskachewan', '41'), ('Emily Carr University of Art and Design (ECUAD)', '42'), ('FSA Laval - Universite Laval', '43'), ('Fanshawe College', '44'), ('Farleigh Dickinson University (FDU)', '45'), ('Fleming College', '46'), ('George Brown College', '47'), ('Georgian College', '48'), ('Goodman School of Business - Brock University', '49'), ('Grande Prairie Regional College', '50'), ('Great Plains College', '51'), ('Gustavson School of Business - University of Victoria', '52'), ('HEC Montreal - University de Montreal', '53'), ('Haskayne School of Business - University of Calgary', '54'), ('Herzing College', '55'), ('Holland College', '56'), ('Humber College', '57'), ('Ivey Business School - University of Western Ontario', '58'), ('John Molson School of Business - Concordia University', '59'), ('Kenneth Levene Graduate School of Business -University of Regina', '60'), ('Keyano College', '61'), ('Kwantlen Polytechnic University (KPU)', '62'), ('Lakehead Univeristy', '63'), ('Lakehead University', '64'), ('Lakeland College', '65'), ('Lambton College', '66'), ('Lambton College (Toronto Campus/Cestar College)', '67'), ('Langara College', '68'), ('Laurentian University (Insolvent Feb 2020)', '69'), ('Laurentian University (Insolvent)', '70'), ('Lazaridis School of Business - Wilfred Laurier University', '71'), ('Lethbridge College', '72'), ('Loyalist College', '73'), ('M College', '74'), ('MacEwan University', '75'), ('Matrix College', '76'), ('McGill University', '77'), ('McMaster University', '78'), ('Medicine Hat College', '79'), ('Memorial University of Newfoundland', '80'), ('Memorial University of Newfoundland (MUN)', '81'), ('Mohawk College', '82'), ('Mt. Allison University', '83'), ('Mt. Royal University (MRU)', '84'), ('Mt. St. Vincent University (MSVU)', '85'), ('New Brunswick Community College', '86'), ('New York Institute of Technology (NYIT)', '87'), ('Niagara College', '88'), ('Nipissing University', '89'), ('NorQuest College', '90'), ('North Island College', '91'), ('North West College', '92'), ('Northeastern Universtity', '93'), ('Northern Alberta Institute of Technology (NAIT)', '94'), ('Northern College', '95'), ('Northern College (Pures Campus)', '96'), ('Northern Lakes College', '97'), ('Northern Lights College', '98'), ('Northlands College', '99'), ('Nova Scotia College of Art and Design University (NSCAD)', '100'), ('Nova Scotia Community College', '101'), ('Odette School of Business - Windsor University', '102'), ('Okanagan College', '103'), ('Olds College', '104'), ('Ontario College of Art and Design University (OCAD)', '105'), ('Ontario Tech University (UOIT)', '106'), ('Parkland College', '107'), ('Portage College', '108'), (\"Queen's University\", '109'), ('Queens University', '110'), ('Red Deer College', '111'), ('Red River College', '112'), ('Rotman School of Management - University of Toronto', '113'), ('Rowe School of Business - Dalhousie University', '114'), ('Royal Roads University', '115'), ('Royal Roads University (RRU)', '116'), ('Ryerson Univerity', '117'), ('Ryerson University', '118'), (\"Saint Mary's\", '119'), ('Saskatchewan Polytechnic', '120'), ('Sauder School of Business - University of British Columbia', '121'), ('Sault College', '122'), ('Schulich School of Business - York University', '123'), ('Selkirk College', '124'), ('Seneca College', '125'), ('Shannon School of Business - Cape Breton University', '126'), ('Sheridan College', '127'), ('Simon Fraser University', '128'), ('Simon Fraser University (SFU)', '129'), ('Smith School of Business - Queens University', '130'), (\"Sobey School of Business - Saint Mary's\", '131'), ('Southeast College', '132'), ('Southern Alberta Institute of Technology (SAIT)', '133'), ('St. Clair College', '134'), ('St. Clair College (Toronto Campus/Ace Acumen College)', '135'), ('St. Francis Xavier', '136'), ('St. Francis Xavier University (StFX)', '137'), ('St. Lawrence College', '138'), (\"St. Mary's University (SMU)\", '139'), ('St. Thomas University (STU)', '140'), ('Ted Rogers Business School - Ryerson Univerity', '141'), ('Telfer School of Management - University of Ottawa', '142'), ('Thompson Rivers University', '143'), ('Thompson Rivers University (TRU)', '144'), ('Trent University', '145'), ('Trinity Western University', '146'), ('Trinity Western University (TWU)', '147'), ('UQAM', '148'), ('Universite Laval', '149'), ('Universite de Sherbrooke', '150'), ('Universite du Quebec', '151'), ('University Canada West (UCW)', '152'), ('University de Montreal', '153'), ('University of Alberta', '154'), ('University of Alberta (UofA)', '155'), ('University of British Columbia', '156'), ('University of British Columbia (UBC)', '157'), ('University of Calgary', '158'), ('University of Calgary (UofC)', '159'), ('University of Canada West', '160'), ('University of Fredericton', '161'), ('University of Guelph', '162'), ('University of Lethbridge', '163'), ('University of Manitoba', '164'), ('University of Manitoba (UofM)', '165'), ('University of New Brunswick', '166'), ('University of New Brunswick (UNB)', '167'), ('University of Northern British Columbia', '168'), ('University of Northern British Columbia (UNBC)', '169'), ('University of Ottawa', '170'), ('University of Ottawa (UO)', '171'), ('University of Prince Edward Island', '172'), ('University of Prince Edward Island (UPEI)', '173'), ('University of Regina', '174'), ('University of Saskachewan', '175'), ('University of Saskatchewan (USask)', '176'), ('University of Toronto', '177'), ('University of Toronto (UofT)', '178'), ('University of Victoria', '179'), ('University of Victoria (UVic)', '180'), ('University of Waterloo', '181'), ('University of Western Ontario', '182'), ('University of Windsor', '183'), ('University of Winnipeg', '184'), ('University of the Fraser Valley (UFV)', '185'), ('Université Laval', '186'), ('Université Sainte-Anne', '187'), ('Université de Moncton', '188'), ('Université de Montréal (UdeM)', '189'), ('Université de Saint-Boniface (USB)', '190'), ('Université de Sherbrooke', '191'), ('Université du Québec en Abitibi-Témiscamingue (UQAT)', '192'), ('Université du Québec en Outaouais (UQO)', '193'), ('Université du Québec à Chicoutimi (UQAC)', '194'), ('Université du Québec à Montréal (UQAM)', '195'), ('Université du Québec à Rimouski (UQAR)', '196'), ('Université du Québec à Trois-Rivières (UQTR)', '197'), ('Vancouver Community College (VCC)', '198'), ('Vancouver Island University', '199'), ('Vancouver Island University (VIU)', '200'), ('Western University (UWO)', '201'), ('Wilfrid Laurier University (WLU)', '202'), ('Windsor University', '203'), ('York University', '204'), ('Yorkville University', '205'), ('Yukon University', '206'), ('target_university_list', '207'), ('university_name', '208'), ('École de technologie supérieure', '209'), ('École de technologie supérieure (ETS)', '210')]\n",
      "210\n"
     ]
    }
   ],
   "source": [
    "lst = extract_university_data(target_university_ca)\n",
    "\n",
    "target_name = [\"toronto\", \"calgary\", \"british colombia\", \"victory\", \"simon fraser\", \"guelph\", \"waterloo\"]\n",
    "\n",
    "def my_filter(x):\n",
    "    return any(name in x[0].lower() for name in target_name)\n",
    "\n",
    "# lst = list(filter(my_filter, lst))\n",
    "print(lst)\n",
    "print(len(lst))"
   ]
  },
  {
   "cell_type": "code",
   "execution_count": 21,
   "metadata": {
    "notebookRunGroups": {
     "groupValue": "1"
    }
   },
   "outputs": [],
   "source": [
    "# # def fetch_university_info(uni_gen, university_name, results, index):\n",
    "# #     # Retrieve university info and store it in the results list at the correct index\n",
    "# #     results[index] = uni_gen.get_university_info(university_name)\n",
    "\n",
    "# # results = [None] * len(lst)\n",
    "# # threads = []\n",
    "# # for i, university in enumerate(lst[:3]):\n",
    "# #     thread = threading.Thread(target=fetch_university_info, args=(uni_gen, university, results, i))\n",
    "# #     threads.append(thread)\n",
    "# #     thread.start()\n",
    "# #     time.sleep(20)\n",
    "\n",
    "# # for thread in threads:\n",
    "# #     time.sleep(10)\n",
    "# #     thread.join()\n",
    "# # result = uni_gen.get_university_info(lst[0])\n",
    "# for uni, id_ in lst[:2]:\n",
    "#     uni_gen.get_university_info(uni, id_)\n",
    "\n",
    "# uni_gen.get_info_by_attribute(university_name=\"UW\", attribute_name=\"location\")\n",
    "# uni_gen.get_info_by_attribute(university_name=\"UW\", attribute_name=GeneralInfoType.LOCATION.value, handler=HandlerType.LANGCHAIN_SERPER, params={\"transformer\":  \"RecursiveURL\"})\n",
    "# uni_gen.get_info_by_attribute(university_name=\"Adler Graduate Professional School\", attribute_name=GeneralInfoType.DOMESTIC_STUDENT_TUITION.value, handler=HandlerType.LANGCHAIN_SERPER, params={\"transformer\":  \"RecursiveURL\"})\n"
   ]
  },
  {
   "cell_type": "markdown",
   "metadata": {
    "notebookRunGroups": {
     "groupValue": "1"
    }
   },
   "source": [
    "## Saving Logic"
   ]
  },
  {
   "cell_type": "code",
   "execution_count": 22,
   "metadata": {
    "notebookRunGroups": {
     "groupValue": "1"
    }
   },
   "outputs": [],
   "source": [
    "uni_gen.save_to_file(SavedDictType.UNIVERSITY_INFO, \"./university_info.jsonl\")"
   ]
  },
  {
   "cell_type": "code",
   "execution_count": 23,
   "metadata": {
    "notebookRunGroups": {
     "groupValue": "1"
    }
   },
   "outputs": [],
   "source": [
    "uni_gen.save_to_file(SavedDictType.UNIVERSITY_BASIC_INFO, \"./university_basic_info.jsonl\")"
   ]
  },
  {
   "cell_type": "code",
   "execution_count": 24,
   "metadata": {
    "notebookRunGroups": {
     "groupValue": "1"
    }
   },
   "outputs": [],
   "source": [
    "uni_gen.save_to_file(SavedDictType.GPT_CACHE, \"./gpt_cache.jsonl\")"
   ]
  },
  {
   "cell_type": "code",
   "execution_count": 25,
   "metadata": {},
   "outputs": [],
   "source": [
    "uni_gen.save_to_file(SavedDictType.TROUBLE_PRODUCED, \"./trouble_produced.jsonl\")"
   ]
  },
  {
   "cell_type": "code",
   "execution_count": 26,
   "metadata": {
    "notebookRunGroups": {
     "groupValue": "1"
    }
   },
   "outputs": [],
   "source": [
    "clear_worksheet_content(target_worksheet)"
   ]
  },
  {
   "cell_type": "code",
   "execution_count": 27,
   "metadata": {
    "notebookRunGroups": {
     "groupValue": "1"
    }
   },
   "outputs": [
    {
     "name": "stdout",
     "output_type": "stream",
     "text": [
      "An error occurred: Missing columns in DataFrame that are expected in the worksheet: {'ranking_qs_news_2024', 'wikipedia', 'characteristics', 'faculty', 'ranking_times_rank_2024', 'popular_programs', 'abbreviation', 'website', 'important_calendar', 'graduation_rate', 'programs', 'others', 'description', 'graduation_year', 'ranking_us_news_2023', 'location', 'university_type', 'statistics', 'international_student_tuition', 'ranking_arwu_rank_2023', 'domestic_student_tuition', 'id_', 'university_name'}\n"
     ]
    }
   ],
   "source": [
    "write_cache_to_worksheet(\"university_info.jsonl\", target_worksheet)\n"
   ]
  }
 ],
 "metadata": {
  "kernelspec": {
   "display_name": "gpu",
   "language": "python",
   "name": "python3"
  },
  "language_info": {
   "codemirror_mode": {
    "name": "ipython",
    "version": 3
   },
   "file_extension": ".py",
   "mimetype": "text/x-python",
   "name": "python",
   "nbconvert_exporter": "python",
   "pygments_lexer": "ipython3",
   "version": "3.9.16"
  }
 },
 "nbformat": 4,
 "nbformat_minor": 2
}
