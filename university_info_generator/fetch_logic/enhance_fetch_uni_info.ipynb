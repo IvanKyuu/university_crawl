{
 "cells": [
  {
   "cell_type": "code",
   "execution_count": 1,
   "metadata": {},
   "outputs": [
    {
     "name": "stdout",
     "output_type": "stream",
     "text": [
      "Obtaining file:///home/ivan/Uforse/uni_info_generator/university_info_generator\n",
      "  Preparing metadata (setup.py) ... \u001b[?25ldone\n",
      "\u001b[?25hRequirement already satisfied: pandas in /home/ivan/anaconda3/envs/gpu/lib/python3.9/site-packages (from university-info-generator==0.1.1) (1.5.2)\n",
      "Requirement already satisfied: numpy in /home/ivan/anaconda3/envs/gpu/lib/python3.9/site-packages (from university-info-generator==0.1.1) (1.26.4)\n",
      "Requirement already satisfied: gspread in /home/ivan/anaconda3/envs/gpu/lib/python3.9/site-packages (from university-info-generator==0.1.1) (6.1.0)\n",
      "Requirement already satisfied: oauth2client in /home/ivan/anaconda3/envs/gpu/lib/python3.9/site-packages (from university-info-generator==0.1.1) (4.1.3)\n",
      "Requirement already satisfied: openai in /home/ivan/anaconda3/envs/gpu/lib/python3.9/site-packages (from university-info-generator==0.1.1) (1.12.0)\n",
      "Requirement already satisfied: python-dotenv in /home/ivan/anaconda3/envs/gpu/lib/python3.9/site-packages (from university-info-generator==0.1.1) (0.21.0)\n",
      "Requirement already satisfied: gspread_dataframe in /home/ivan/anaconda3/envs/gpu/lib/python3.9/site-packages (from university-info-generator==0.1.1) (3.3.1)\n",
      "Requirement already satisfied: bs4 in /home/ivan/anaconda3/envs/gpu/lib/python3.9/site-packages (from university-info-generator==0.1.1) (0.0.2)\n",
      "Requirement already satisfied: tenacity in /home/ivan/anaconda3/envs/gpu/lib/python3.9/site-packages (from university-info-generator==0.1.1) (8.0.1)\n",
      "Requirement already satisfied: beautifulsoup4 in /home/ivan/anaconda3/envs/gpu/lib/python3.9/site-packages (from bs4->university-info-generator==0.1.1) (4.11.1)\n",
      "Requirement already satisfied: google-auth>=1.12.0 in /home/ivan/anaconda3/envs/gpu/lib/python3.9/site-packages (from gspread->university-info-generator==0.1.1) (2.27.0)\n",
      "Requirement already satisfied: google-auth-oauthlib>=0.4.1 in /home/ivan/anaconda3/envs/gpu/lib/python3.9/site-packages (from gspread->university-info-generator==0.1.1) (1.2.0)\n",
      "Requirement already satisfied: StrEnum==0.4.15 in /home/ivan/anaconda3/envs/gpu/lib/python3.9/site-packages (from gspread->university-info-generator==0.1.1) (0.4.15)\n",
      "Requirement already satisfied: six>=1.12.0 in /home/ivan/anaconda3/envs/gpu/lib/python3.9/site-packages (from gspread_dataframe->university-info-generator==0.1.1) (1.16.0)\n",
      "Requirement already satisfied: python-dateutil>=2.8.1 in /home/ivan/anaconda3/envs/gpu/lib/python3.9/site-packages (from pandas->university-info-generator==0.1.1) (2.8.2)\n",
      "Requirement already satisfied: pytz>=2020.1 in /home/ivan/anaconda3/envs/gpu/lib/python3.9/site-packages (from pandas->university-info-generator==0.1.1) (2022.7)\n",
      "Requirement already satisfied: httplib2>=0.9.1 in /home/ivan/anaconda3/envs/gpu/lib/python3.9/site-packages (from oauth2client->university-info-generator==0.1.1) (0.22.0)\n",
      "Requirement already satisfied: pyasn1>=0.1.7 in /home/ivan/anaconda3/envs/gpu/lib/python3.9/site-packages (from oauth2client->university-info-generator==0.1.1) (0.4.8)\n",
      "Requirement already satisfied: pyasn1-modules>=0.0.5 in /home/ivan/anaconda3/envs/gpu/lib/python3.9/site-packages (from oauth2client->university-info-generator==0.1.1) (0.2.8)\n",
      "Requirement already satisfied: rsa>=3.1.4 in /home/ivan/anaconda3/envs/gpu/lib/python3.9/site-packages (from oauth2client->university-info-generator==0.1.1) (4.9)\n",
      "Requirement already satisfied: anyio<5,>=3.5.0 in /home/ivan/anaconda3/envs/gpu/lib/python3.9/site-packages (from openai->university-info-generator==0.1.1) (3.5.0)\n",
      "Requirement already satisfied: distro<2,>=1.7.0 in /home/ivan/anaconda3/envs/gpu/lib/python3.9/site-packages (from openai->university-info-generator==0.1.1) (1.9.0)\n",
      "Requirement already satisfied: httpx<1,>=0.23.0 in /home/ivan/anaconda3/envs/gpu/lib/python3.9/site-packages (from openai->university-info-generator==0.1.1) (0.27.0)\n",
      "Requirement already satisfied: pydantic<3,>=1.9.0 in /home/ivan/anaconda3/envs/gpu/lib/python3.9/site-packages (from openai->university-info-generator==0.1.1) (1.10.7)\n",
      "Requirement already satisfied: sniffio in /home/ivan/anaconda3/envs/gpu/lib/python3.9/site-packages (from openai->university-info-generator==0.1.1) (1.2.0)\n",
      "Requirement already satisfied: tqdm>4 in /home/ivan/anaconda3/envs/gpu/lib/python3.9/site-packages (from openai->university-info-generator==0.1.1) (4.64.1)\n",
      "Requirement already satisfied: typing-extensions<5,>=4.7 in /home/ivan/anaconda3/envs/gpu/lib/python3.9/site-packages (from openai->university-info-generator==0.1.1) (4.10.0)\n",
      "Requirement already satisfied: idna>=2.8 in /home/ivan/anaconda3/envs/gpu/lib/python3.9/site-packages (from anyio<5,>=3.5.0->openai->university-info-generator==0.1.1) (3.4)\n",
      "Requirement already satisfied: cachetools<6.0,>=2.0.0 in /home/ivan/anaconda3/envs/gpu/lib/python3.9/site-packages (from google-auth>=1.12.0->gspread->university-info-generator==0.1.1) (5.3.2)\n",
      "Requirement already satisfied: requests-oauthlib>=0.7.0 in /home/ivan/anaconda3/envs/gpu/lib/python3.9/site-packages (from google-auth-oauthlib>=0.4.1->gspread->university-info-generator==0.1.1) (1.3.1)\n",
      "Requirement already satisfied: pyparsing!=3.0.0,!=3.0.1,!=3.0.2,!=3.0.3,<4,>=2.4.2 in /home/ivan/anaconda3/envs/gpu/lib/python3.9/site-packages (from httplib2>=0.9.1->oauth2client->university-info-generator==0.1.1) (3.0.9)\n",
      "Requirement already satisfied: certifi in /home/ivan/anaconda3/envs/gpu/lib/python3.9/site-packages (from httpx<1,>=0.23.0->openai->university-info-generator==0.1.1) (2023.7.22)\n",
      "Requirement already satisfied: httpcore==1.* in /home/ivan/anaconda3/envs/gpu/lib/python3.9/site-packages (from httpx<1,>=0.23.0->openai->university-info-generator==0.1.1) (1.0.4)\n",
      "Requirement already satisfied: h11<0.15,>=0.13 in /home/ivan/anaconda3/envs/gpu/lib/python3.9/site-packages (from httpcore==1.*->httpx<1,>=0.23.0->openai->university-info-generator==0.1.1) (0.14.0)\n",
      "Requirement already satisfied: soupsieve>1.2 in /home/ivan/anaconda3/envs/gpu/lib/python3.9/site-packages (from beautifulsoup4->bs4->university-info-generator==0.1.1) (2.3.2.post1)\n",
      "Requirement already satisfied: oauthlib>=3.0.0 in /home/ivan/anaconda3/envs/gpu/lib/python3.9/site-packages (from requests-oauthlib>=0.7.0->google-auth-oauthlib>=0.4.1->gspread->university-info-generator==0.1.1) (3.2.2)\n",
      "Requirement already satisfied: requests>=2.0.0 in /home/ivan/anaconda3/envs/gpu/lib/python3.9/site-packages (from requests-oauthlib>=0.7.0->google-auth-oauthlib>=0.4.1->gspread->university-info-generator==0.1.1) (2.28.1)\n",
      "Requirement already satisfied: charset-normalizer<3,>=2 in /home/ivan/anaconda3/envs/gpu/lib/python3.9/site-packages (from requests>=2.0.0->requests-oauthlib>=0.7.0->google-auth-oauthlib>=0.4.1->gspread->university-info-generator==0.1.1) (2.0.4)\n",
      "Requirement already satisfied: urllib3<1.27,>=1.21.1 in /home/ivan/anaconda3/envs/gpu/lib/python3.9/site-packages (from requests>=2.0.0->requests-oauthlib>=0.7.0->google-auth-oauthlib>=0.4.1->gspread->university-info-generator==0.1.1) (1.26.14)\n",
      "Installing collected packages: university-info-generator\n",
      "  Attempting uninstall: university-info-generator\n",
      "    Found existing installation: university-info-generator 0.1.1\n",
      "    Uninstalling university-info-generator-0.1.1:\n",
      "      Successfully uninstalled university-info-generator-0.1.1\n",
      "  Running setup.py develop for university-info-generator\n",
      "Successfully installed university-info-generator-0.1.1\n",
      "Environment variables set:\n",
      "PROJECT_HOME=/home/ivan/Uforse/uni_info_generator\n",
      "PYTHONPATH=/home/ivan/Uforse/uni_info_generator:\n",
      "API_KEY_PATH=/home/ivan/Uforse/uni_info_generator\n",
      "CACHE_REPO_PATH=/home/ivan/Uforse/uni_info_generator/cache_repo\n",
      "Environment set up for uni_info_generator\n",
      "\n"
     ]
    }
   ],
   "source": [
    "! cd /home/ivan/Uforse/uni_info_generator/ && bash .bashrc\n",
    "! echo $CACHE_REPO_PATH\n",
    "! cd /home/ivan/Uforse/uni_info_generator/"
   ]
  },
  {
   "cell_type": "code",
   "execution_count": 2,
   "metadata": {},
   "outputs": [
    {
     "name": "stdout",
     "output_type": "stream",
     "text": [
      "/home/ivan/anaconda3/envs/gpu/bin/python\n"
     ]
    }
   ],
   "source": [
    "import sys\n",
    "print(sys.executable)"
   ]
  },
  {
   "cell_type": "code",
   "execution_count": 3,
   "metadata": {},
   "outputs": [],
   "source": [
    "sys.path.append('/home/ivan/Uforse/uni_info_generator')"
   ]
  },
  {
   "cell_type": "code",
   "execution_count": 4,
   "metadata": {},
   "outputs": [],
   "source": [
    "from university_info_generator import config\n",
    "from university_info_generator import UniversityInfoGenerator as uni\n",
    "from university_info_generator import BasicInfoType, SavedDictType, GPTMethodType\n",
    "from university_info_generator.utility.google_sheet_utility import *"
   ]
  },
  {
   "cell_type": "code",
   "execution_count": 5,
   "metadata": {},
   "outputs": [
    {
     "name": "stdout",
     "output_type": "stream",
     "text": [
      "CACHE_REPO_PATH: /home/ivan/Uforse/uni_info_generator/cache_repo\n"
     ]
    }
   ],
   "source": [
    "print(\"CACHE_REPO_PATH:\", config.CACHE_REPO_PATH)"
   ]
  },
  {
   "cell_type": "code",
   "execution_count": 6,
   "metadata": {},
   "outputs": [],
   "source": [
    "import os\n",
    "import sys\n",
    "from pprint import pprint\n",
    "\n",
    "#'/home/ivan/Uforse/uni_info_generator/fetch_logic'\n",
    "current_path = os.path.abspath('./')\n",
    "\n",
    "#'/home/ivan/Uforse/uni_info_generator'\n",
    "parent_path = os.path.dirname(current_path)\n",
    "sys.path.append(parent_path)\n"
   ]
  },
  {
   "cell_type": "code",
   "execution_count": 7,
   "metadata": {},
   "outputs": [],
   "source": [
    "uni_gen = uni()\n",
    "uni_gen.load_from_file(SavedDictType.GPT_CACHE, \"./gpt_cache.jsonl\")\n",
    "uni_gen.load_from_file(SavedDictType.UNIVERSITY_INFO, \"./university_info.jsonl\")\n",
    "uni_gen.load_from_file(SavedDictType.UNIVERSITY_BASIC_INFO, \"./university_basic_info.jsonl\")"
   ]
  },
  {
   "cell_type": "code",
   "execution_count": 8,
   "metadata": {},
   "outputs": [],
   "source": [
    "target_worksheet = get_worksheet()\n"
   ]
  },
  {
   "cell_type": "code",
   "execution_count": 9,
   "metadata": {},
   "outputs": [],
   "source": [
    "target_university = [\"UT\", \"University of Waterloo\", \"University of British Columbia\"]\n",
    "for uni in target_university:\n",
    "    uni_gen.get_university_info(uni)"
   ]
  },
  {
   "cell_type": "code",
   "execution_count": 10,
   "metadata": {},
   "outputs": [],
   "source": [
    "uni_gen.save_to_file(SavedDictType.GPT_CACHE, \"./gpt_cache.jsonl\")"
   ]
  },
  {
   "cell_type": "code",
   "execution_count": 11,
   "metadata": {},
   "outputs": [],
   "source": [
    "uni_gen.save_to_file(SavedDictType.UNIVERSITY_INFO, \"./university_info.jsonl\")"
   ]
  },
  {
   "cell_type": "code",
   "execution_count": 12,
   "metadata": {},
   "outputs": [],
   "source": [
    "uni_gen.save_to_file(SavedDictType.UNIVERSITY_BASIC_INFO, \"./university_basic_info.jsonl\")"
   ]
  },
  {
   "cell_type": "code",
   "execution_count": 13,
   "metadata": {},
   "outputs": [
    {
     "name": "stdout",
     "output_type": "stream",
     "text": [
      "Cleared 3 rows and 22 columns.\n"
     ]
    }
   ],
   "source": [
    "clear_worksheet_content(target_worksheet)"
   ]
  },
  {
   "cell_type": "code",
   "execution_count": 14,
   "metadata": {},
   "outputs": [],
   "source": [
    "write_cache_to_worksheet(\"university_info.jsonl\", target_worksheet)\n"
   ]
  },
  {
   "cell_type": "code",
   "execution_count": 15,
   "metadata": {},
   "outputs": [
    {
     "name": "stdout",
     "output_type": "stream",
     "text": [
      "['Business Administration', 'Psychology', 'Biology', 'Computer Science', 'Economics']\n"
     ]
    }
   ],
   "source": [
    "print(uni_gen.get_university_popular_programs(\"University of British Columbia\"))"
   ]
  }
 ],
 "metadata": {
  "kernelspec": {
   "display_name": "gpu",
   "language": "python",
   "name": "python3"
  },
  "language_info": {
   "codemirror_mode": {
    "name": "ipython",
    "version": 3
   },
   "file_extension": ".py",
   "mimetype": "text/x-python",
   "name": "python",
   "nbconvert_exporter": "python",
   "pygments_lexer": "ipython3",
   "version": "3.9.16"
  }
 },
 "nbformat": 4,
 "nbformat_minor": 2
}
