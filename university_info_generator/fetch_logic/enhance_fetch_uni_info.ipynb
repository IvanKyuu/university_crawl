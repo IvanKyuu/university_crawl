{
 "cells": [
  {
   "cell_type": "markdown",
   "metadata": {},
   "source": [
    "## Setup env"
   ]
  },
  {
   "cell_type": "code",
   "execution_count": 1,
   "metadata": {},
   "outputs": [
    {
     "name": "stdout",
     "output_type": "stream",
     "text": [
      "Obtaining file:///home/ivan/Uforse/uni_info_generator/university_info_generator\n",
      "  Preparing metadata (setup.py) ... \u001b[?25ldone\n",
      "\u001b[?25hRequirement already satisfied: pandas in /home/ivan/anaconda3/envs/gpu/lib/python3.9/site-packages (from university-info-generator==0.1.2) (1.5.2)\n",
      "Requirement already satisfied: numpy in /home/ivan/anaconda3/envs/gpu/lib/python3.9/site-packages (from university-info-generator==0.1.2) (1.26.4)\n",
      "Requirement already satisfied: gspread in /home/ivan/anaconda3/envs/gpu/lib/python3.9/site-packages (from university-info-generator==0.1.2) (6.1.0)\n",
      "Requirement already satisfied: oauth2client in /home/ivan/anaconda3/envs/gpu/lib/python3.9/site-packages (from university-info-generator==0.1.2) (4.1.3)\n",
      "Requirement already satisfied: openai in /home/ivan/anaconda3/envs/gpu/lib/python3.9/site-packages (from university-info-generator==0.1.2) (1.12.0)\n",
      "Requirement already satisfied: python-dotenv in /home/ivan/anaconda3/envs/gpu/lib/python3.9/site-packages (from university-info-generator==0.1.2) (0.21.0)\n",
      "Requirement already satisfied: gspread_dataframe in /home/ivan/anaconda3/envs/gpu/lib/python3.9/site-packages (from university-info-generator==0.1.2) (3.3.1)\n",
      "Requirement already satisfied: bs4 in /home/ivan/anaconda3/envs/gpu/lib/python3.9/site-packages (from university-info-generator==0.1.2) (0.0.2)\n",
      "Requirement already satisfied: tenacity in /home/ivan/anaconda3/envs/gpu/lib/python3.9/site-packages (from university-info-generator==0.1.2) (8.2.3)\n",
      "Requirement already satisfied: langchain in /home/ivan/anaconda3/envs/gpu/lib/python3.9/site-packages (from university-info-generator==0.1.2) (0.1.16)\n",
      "Requirement already satisfied: langchain-openai in /home/ivan/anaconda3/envs/gpu/lib/python3.9/site-packages (from university-info-generator==0.1.2) (0.1.3)\n",
      "Requirement already satisfied: apify-client in /home/ivan/anaconda3/envs/gpu/lib/python3.9/site-packages (from university-info-generator==0.1.2) (1.6.4)\n",
      "Requirement already satisfied: apify-shared~=1.1.1 in /home/ivan/anaconda3/envs/gpu/lib/python3.9/site-packages (from apify-client->university-info-generator==0.1.2) (1.1.1)\n",
      "Requirement already satisfied: httpx>=0.25.1 in /home/ivan/anaconda3/envs/gpu/lib/python3.9/site-packages (from apify-client->university-info-generator==0.1.2) (0.27.0)\n",
      "Requirement already satisfied: beautifulsoup4 in /home/ivan/anaconda3/envs/gpu/lib/python3.9/site-packages (from bs4->university-info-generator==0.1.2) (4.11.1)\n",
      "Requirement already satisfied: google-auth>=1.12.0 in /home/ivan/anaconda3/envs/gpu/lib/python3.9/site-packages (from gspread->university-info-generator==0.1.2) (2.27.0)\n",
      "Requirement already satisfied: google-auth-oauthlib>=0.4.1 in /home/ivan/anaconda3/envs/gpu/lib/python3.9/site-packages (from gspread->university-info-generator==0.1.2) (1.2.0)\n",
      "Requirement already satisfied: StrEnum==0.4.15 in /home/ivan/anaconda3/envs/gpu/lib/python3.9/site-packages (from gspread->university-info-generator==0.1.2) (0.4.15)\n",
      "Requirement already satisfied: six>=1.12.0 in /home/ivan/anaconda3/envs/gpu/lib/python3.9/site-packages (from gspread_dataframe->university-info-generator==0.1.2) (1.16.0)\n",
      "Requirement already satisfied: python-dateutil>=2.8.1 in /home/ivan/anaconda3/envs/gpu/lib/python3.9/site-packages (from pandas->university-info-generator==0.1.2) (2.8.2)\n",
      "Requirement already satisfied: pytz>=2020.1 in /home/ivan/anaconda3/envs/gpu/lib/python3.9/site-packages (from pandas->university-info-generator==0.1.2) (2022.7)\n",
      "Requirement already satisfied: PyYAML>=5.3 in /home/ivan/anaconda3/envs/gpu/lib/python3.9/site-packages (from langchain->university-info-generator==0.1.2) (6.0)\n",
      "Requirement already satisfied: SQLAlchemy<3,>=1.4 in /home/ivan/anaconda3/envs/gpu/lib/python3.9/site-packages (from langchain->university-info-generator==0.1.2) (2.0.29)\n",
      "Requirement already satisfied: aiohttp<4.0.0,>=3.8.3 in /home/ivan/anaconda3/envs/gpu/lib/python3.9/site-packages (from langchain->university-info-generator==0.1.2) (3.8.3)\n",
      "Requirement already satisfied: async-timeout<5.0.0,>=4.0.0 in /home/ivan/anaconda3/envs/gpu/lib/python3.9/site-packages (from langchain->university-info-generator==0.1.2) (4.0.2)\n",
      "Requirement already satisfied: dataclasses-json<0.7,>=0.5.7 in /home/ivan/anaconda3/envs/gpu/lib/python3.9/site-packages (from langchain->university-info-generator==0.1.2) (0.6.4)\n",
      "Requirement already satisfied: jsonpatch<2.0,>=1.33 in /home/ivan/anaconda3/envs/gpu/lib/python3.9/site-packages (from langchain->university-info-generator==0.1.2) (1.33)\n",
      "Requirement already satisfied: langchain-community<0.1,>=0.0.32 in /home/ivan/anaconda3/envs/gpu/lib/python3.9/site-packages (from langchain->university-info-generator==0.1.2) (0.0.34)\n",
      "Requirement already satisfied: langchain-core<0.2.0,>=0.1.42 in /home/ivan/anaconda3/envs/gpu/lib/python3.9/site-packages (from langchain->university-info-generator==0.1.2) (0.1.45)\n",
      "Requirement already satisfied: langchain-text-splitters<0.1,>=0.0.1 in /home/ivan/anaconda3/envs/gpu/lib/python3.9/site-packages (from langchain->university-info-generator==0.1.2) (0.0.1)\n",
      "Requirement already satisfied: langsmith<0.2.0,>=0.1.17 in /home/ivan/anaconda3/envs/gpu/lib/python3.9/site-packages (from langchain->university-info-generator==0.1.2) (0.1.50)\n",
      "Requirement already satisfied: pydantic<3,>=1 in /home/ivan/anaconda3/envs/gpu/lib/python3.9/site-packages (from langchain->university-info-generator==0.1.2) (1.10.11)\n",
      "Requirement already satisfied: requests<3,>=2 in /home/ivan/anaconda3/envs/gpu/lib/python3.9/site-packages (from langchain->university-info-generator==0.1.2) (2.28.1)\n",
      "Requirement already satisfied: tiktoken<1,>=0.5.2 in /home/ivan/anaconda3/envs/gpu/lib/python3.9/site-packages (from langchain-openai->university-info-generator==0.1.2) (0.6.0)\n",
      "Requirement already satisfied: anyio<5,>=3.5.0 in /home/ivan/anaconda3/envs/gpu/lib/python3.9/site-packages (from openai->university-info-generator==0.1.2) (3.5.0)\n",
      "Requirement already satisfied: distro<2,>=1.7.0 in /home/ivan/anaconda3/envs/gpu/lib/python3.9/site-packages (from openai->university-info-generator==0.1.2) (1.9.0)\n",
      "Requirement already satisfied: sniffio in /home/ivan/anaconda3/envs/gpu/lib/python3.9/site-packages (from openai->university-info-generator==0.1.2) (1.2.0)\n",
      "Requirement already satisfied: tqdm>4 in /home/ivan/anaconda3/envs/gpu/lib/python3.9/site-packages (from openai->university-info-generator==0.1.2) (4.66.2)\n",
      "Requirement already satisfied: typing-extensions<5,>=4.7 in /home/ivan/anaconda3/envs/gpu/lib/python3.9/site-packages (from openai->university-info-generator==0.1.2) (4.11.0)\n",
      "Requirement already satisfied: httplib2>=0.9.1 in /home/ivan/anaconda3/envs/gpu/lib/python3.9/site-packages (from oauth2client->university-info-generator==0.1.2) (0.22.0)\n",
      "Requirement already satisfied: pyasn1>=0.1.7 in /home/ivan/anaconda3/envs/gpu/lib/python3.9/site-packages (from oauth2client->university-info-generator==0.1.2) (0.4.8)\n",
      "Requirement already satisfied: pyasn1-modules>=0.0.5 in /home/ivan/anaconda3/envs/gpu/lib/python3.9/site-packages (from oauth2client->university-info-generator==0.1.2) (0.2.8)\n",
      "Requirement already satisfied: rsa>=3.1.4 in /home/ivan/anaconda3/envs/gpu/lib/python3.9/site-packages (from oauth2client->university-info-generator==0.1.2) (4.9)\n",
      "Requirement already satisfied: attrs>=17.3.0 in /home/ivan/anaconda3/envs/gpu/lib/python3.9/site-packages (from aiohttp<4.0.0,>=3.8.3->langchain->university-info-generator==0.1.2) (22.1.0)\n",
      "Requirement already satisfied: charset-normalizer<3.0,>=2.0 in /home/ivan/anaconda3/envs/gpu/lib/python3.9/site-packages (from aiohttp<4.0.0,>=3.8.3->langchain->university-info-generator==0.1.2) (2.0.4)\n",
      "Requirement already satisfied: multidict<7.0,>=4.5 in /home/ivan/anaconda3/envs/gpu/lib/python3.9/site-packages (from aiohttp<4.0.0,>=3.8.3->langchain->university-info-generator==0.1.2) (6.0.2)\n",
      "Requirement already satisfied: yarl<2.0,>=1.0 in /home/ivan/anaconda3/envs/gpu/lib/python3.9/site-packages (from aiohttp<4.0.0,>=3.8.3->langchain->university-info-generator==0.1.2) (1.8.1)\n",
      "Requirement already satisfied: frozenlist>=1.1.1 in /home/ivan/anaconda3/envs/gpu/lib/python3.9/site-packages (from aiohttp<4.0.0,>=3.8.3->langchain->university-info-generator==0.1.2) (1.3.3)\n",
      "Requirement already satisfied: aiosignal>=1.1.2 in /home/ivan/anaconda3/envs/gpu/lib/python3.9/site-packages (from aiohttp<4.0.0,>=3.8.3->langchain->university-info-generator==0.1.2) (1.2.0)\n",
      "Requirement already satisfied: idna>=2.8 in /home/ivan/anaconda3/envs/gpu/lib/python3.9/site-packages (from anyio<5,>=3.5.0->openai->university-info-generator==0.1.2) (3.4)\n",
      "Requirement already satisfied: marshmallow<4.0.0,>=3.18.0 in /home/ivan/anaconda3/envs/gpu/lib/python3.9/site-packages (from dataclasses-json<0.7,>=0.5.7->langchain->university-info-generator==0.1.2) (3.21.1)\n",
      "Requirement already satisfied: typing-inspect<1,>=0.4.0 in /home/ivan/anaconda3/envs/gpu/lib/python3.9/site-packages (from dataclasses-json<0.7,>=0.5.7->langchain->university-info-generator==0.1.2) (0.8.0)\n",
      "Requirement already satisfied: cachetools<6.0,>=2.0.0 in /home/ivan/anaconda3/envs/gpu/lib/python3.9/site-packages (from google-auth>=1.12.0->gspread->university-info-generator==0.1.2) (5.3.2)\n",
      "Requirement already satisfied: requests-oauthlib>=0.7.0 in /home/ivan/anaconda3/envs/gpu/lib/python3.9/site-packages (from google-auth-oauthlib>=0.4.1->gspread->university-info-generator==0.1.2) (1.3.1)\n",
      "Requirement already satisfied: pyparsing!=3.0.0,!=3.0.1,!=3.0.2,!=3.0.3,<4,>=2.4.2 in /home/ivan/anaconda3/envs/gpu/lib/python3.9/site-packages (from httplib2>=0.9.1->oauth2client->university-info-generator==0.1.2) (3.0.9)\n",
      "Requirement already satisfied: certifi in /home/ivan/anaconda3/envs/gpu/lib/python3.9/site-packages (from httpx>=0.25.1->apify-client->university-info-generator==0.1.2) (2023.7.22)\n",
      "Requirement already satisfied: httpcore==1.* in /home/ivan/anaconda3/envs/gpu/lib/python3.9/site-packages (from httpx>=0.25.1->apify-client->university-info-generator==0.1.2) (1.0.4)\n",
      "Requirement already satisfied: h11<0.15,>=0.13 in /home/ivan/anaconda3/envs/gpu/lib/python3.9/site-packages (from httpcore==1.*->httpx>=0.25.1->apify-client->university-info-generator==0.1.2) (0.14.0)\n",
      "Requirement already satisfied: jsonpointer>=1.9 in /home/ivan/anaconda3/envs/gpu/lib/python3.9/site-packages (from jsonpatch<2.0,>=1.33->langchain->university-info-generator==0.1.2) (2.4)\n",
      "Requirement already satisfied: packaging<24.0,>=23.2 in /home/ivan/anaconda3/envs/gpu/lib/python3.9/site-packages (from langchain-core<0.2.0,>=0.1.42->langchain->university-info-generator==0.1.2) (23.2)\n",
      "Requirement already satisfied: orjson<4.0.0,>=3.9.14 in /home/ivan/anaconda3/envs/gpu/lib/python3.9/site-packages (from langsmith<0.2.0,>=0.1.17->langchain->university-info-generator==0.1.2) (3.10.1)\n",
      "Requirement already satisfied: urllib3<1.27,>=1.21.1 in /home/ivan/anaconda3/envs/gpu/lib/python3.9/site-packages (from requests<3,>=2->langchain->university-info-generator==0.1.2) (1.26.14)\n",
      "Requirement already satisfied: greenlet!=0.4.17 in /home/ivan/anaconda3/envs/gpu/lib/python3.9/site-packages (from SQLAlchemy<3,>=1.4->langchain->university-info-generator==0.1.2) (3.0.3)\n",
      "Requirement already satisfied: regex>=2022.1.18 in /home/ivan/anaconda3/envs/gpu/lib/python3.9/site-packages (from tiktoken<1,>=0.5.2->langchain-openai->university-info-generator==0.1.2) (2022.7.9)\n",
      "Requirement already satisfied: soupsieve>1.2 in /home/ivan/anaconda3/envs/gpu/lib/python3.9/site-packages (from beautifulsoup4->bs4->university-info-generator==0.1.2) (2.3.2.post1)\n",
      "Requirement already satisfied: oauthlib>=3.0.0 in /home/ivan/anaconda3/envs/gpu/lib/python3.9/site-packages (from requests-oauthlib>=0.7.0->google-auth-oauthlib>=0.4.1->gspread->university-info-generator==0.1.2) (3.2.2)\n",
      "Requirement already satisfied: mypy-extensions>=0.3.0 in /home/ivan/anaconda3/envs/gpu/lib/python3.9/site-packages (from typing-inspect<1,>=0.4.0->dataclasses-json<0.7,>=0.5.7->langchain->university-info-generator==0.1.2) (0.4.3)\n",
      "Installing collected packages: university-info-generator\n",
      "  Attempting uninstall: university-info-generator\n",
      "    Found existing installation: university-info-generator 0.1.2\n",
      "    Uninstalling university-info-generator-0.1.2:\n",
      "      Successfully uninstalled university-info-generator-0.1.2\n",
      "  Running setup.py develop for university-info-generator\n",
      "Successfully installed university-info-generator-0.1.2\n",
      "Environment variables set:\n",
      "PROJECT_HOME=/home/ivan/Uforse/uni_info_generator\n",
      "PYTHONPATH=/home/ivan/Uforse/uni_info_generator:\n",
      "API_KEY_PATH=/home/ivan/Uforse/uni_info_generator\n",
      "CACHE_REPO_PATH=/home/ivan/Uforse/uni_info_generator/cache_repo\n",
      "Environment set up for uni_info_generator\n",
      "\n"
     ]
    }
   ],
   "source": [
    "! cd /home/ivan/Uforse/uni_info_generator/ && bash .bashrc\n",
    "! echo $CACHE_REPO_PATH\n",
    "! cd /home/ivan/Uforse/uni_info_generator/"
   ]
  },
  {
   "cell_type": "code",
   "execution_count": 2,
   "metadata": {},
   "outputs": [],
   "source": [
    "import os\n",
    "import sys\n",
    "from pprint import pprint\n",
    "\n",
    "#'/home/ivan/Uforse/uni_info_generator/fetch_logic'\n",
    "current_path = os.path.abspath('./')\n",
    "\n",
    "#'/home/ivan/Uforse/uni_info_generator'\n",
    "parent_path = os.path.dirname(current_path)\n",
    "sys.path.append(parent_path)\n"
   ]
  },
  {
   "cell_type": "code",
   "execution_count": 3,
   "metadata": {},
   "outputs": [
    {
     "name": "stdout",
     "output_type": "stream",
     "text": [
      "/home/ivan/anaconda3/envs/gpu/bin/python\n"
     ]
    }
   ],
   "source": [
    "import sys\n",
    "print(sys.executable)\n",
    "sys.path.append('/home/ivan/Uforse/uni_info_generator')\n"
   ]
  },
  {
   "cell_type": "code",
   "execution_count": 4,
   "metadata": {},
   "outputs": [],
   "source": [
    "from university_info_generator import config\n",
    "from university_info_generator import UniversityInfoGenerator as uni\n",
    "from university_info_generator import BasicInfoType, SavedDictType, GPTMethodType\n",
    "from university_info_generator.utility.google_sheet_utility import *\n",
    "from university_info_generator.utility.save_load_utility import *"
   ]
  },
  {
   "cell_type": "markdown",
   "metadata": {},
   "source": [
    "## useful methods"
   ]
  },
  {
   "cell_type": "code",
   "execution_count": 5,
   "metadata": {},
   "outputs": [],
   "source": [
    "def filter_jsonl_file(input_filepath, output_filepath, keyword):\n",
    "    \"\"\"\n",
    "    Reads a JSONL file and writes out only those lines that do not contain the specified keyword.\n",
    "\n",
    "    Args:\n",
    "    - input_filepath (str): Path to the input JSONL file.\n",
    "    - output_filepath (str): Path to the output JSONL file where results should be saved.\n",
    "    - keyword (str): Keyword to search for in each JSON object to decide if it should be excluded.\n",
    "    \"\"\"\n",
    "    with open(input_filepath, 'r', encoding='utf-8') as file, open(output_filepath, 'w', encoding='utf-8') as outfile:\n",
    "        for line in file:\n",
    "            if keyword not in line:  # Check if the keyword is in the line\n",
    "                outfile.write(line)  # Write the line to the output file if keyword is not found\n",
    "\n",
    "def extract_university_names(worksheet):\n",
    "    # Get all values in the first column (index 1)\n",
    "    university_names = worksheet.col_values(1)  # This retrieves all data in the first column\n",
    "    # Optionally, you might want to skip the header or any empty values\n",
    "    university_names = [name.strip() for name in university_names if name.strip() != '']\n",
    "    return university_names"
   ]
  },
  {
   "cell_type": "markdown",
   "metadata": {},
   "source": [
    "## Get Attr list"
   ]
  },
  {
   "cell_type": "code",
   "execution_count": 6,
   "metadata": {},
   "outputs": [],
   "source": [
    "attr_df = get_attribute_df()\n",
    "# attr_df.head(25)"
   ]
  },
  {
   "cell_type": "code",
   "execution_count": 7,
   "metadata": {},
   "outputs": [],
   "source": [
    "store_cache(config.UNIVERSITY_ATTRIBUTE_CACHE_FILE_PATH, get_attribute_dict())"
   ]
  },
  {
   "cell_type": "code",
   "execution_count": 8,
   "metadata": {},
   "outputs": [
    {
     "data": {
      "text/plain": [
       "{'university_type': {'attribute_format': 'string',\n",
       "  'attribute_reference': nan,\n",
       "  'attribute_prompt': 'Focus on whether the university is public or private',\n",
       "  'example': 'Public University',\n",
       "  'handler': 'GPT_BASIC'},\n",
       " 'abbreviation': {'attribute_format': 'string',\n",
       "  'attribute_reference': nan,\n",
       "  'attribute_prompt': nan,\n",
       "  'example': 'UBC',\n",
       "  'handler': 'GPT_BASIC'},\n",
       " 'graduation_year': {'attribute_format': 'int',\n",
       "  'attribute_reference': nan,\n",
       "  'attribute_prompt': 'The time, years, for general students, undergraduate, to graduate.',\n",
       "  'example': 4,\n",
       "  'handler': 'LANGCHAIN_TAVILY'},\n",
       " 'location': {'attribute_format': '[\"<city>, <province>, <country>\", \"<city>, <province>, <country>\"]\\'',\n",
       "  'attribute_reference': nan,\n",
       "  'attribute_prompt': 'The different locations of the campus in different cities.\\nYou can check location on wikipedia and official websites. Find all the campus that the university currently have, includes main campus and others',\n",
       "  'example': 'Vancouver campus, British Columbia, Canada\\nOkanagan campus, British Columbia, Canada',\n",
       "  'handler': 'LANGCHAIN_TAVILY'},\n",
       " 'graduation_rate': {'attribute_format': 'float',\n",
       "  'attribute_reference': nan,\n",
       "  'attribute_prompt': 'Find the graduation rate. Keep the format in two digits, like 89 represent 89%',\n",
       "  'example': nan,\n",
       "  'handler': 'LANGCHAIN_TAVILY'},\n",
       " 'domestic_student_tuition': {'attribute_format': 'string',\n",
       "  'attribute_reference': '[\"https://ouinfo.ca/tuition-and-fees\", \"https://universitystudy.ca/canadian-universities/\"]',\n",
       "  'attribute_prompt': \" find the average undergraduate domestic student's tuition fee at that university\",\n",
       "  'example': \"$6,128 - $7,946'\",\n",
       "  'handler': 'LANGCHAIN_TAVILY'},\n",
       " 'international_student_tuition': {'attribute_format': 'string',\n",
       "  'attribute_reference': '[\"https://ouinfo.ca/tuition-and-fees\", \"https://universitystudy.ca/canadian-universities/\"]',\n",
       "  'attribute_prompt': \"find the average undergraduate international student's tuition fee at that university\",\n",
       "  'example': \"$37,038 - $51,448'\",\n",
       "  'handler': 'LANGCHAIN_TAVILY'},\n",
       " 'description': {'attribute_format': 'string',\n",
       "  'attribute_reference': nan,\n",
       "  'attribute_prompt': 'Write a  description. You could try to extract information from the wikipedia and the official website. You may wish to summarize a bit if it is too long',\n",
       "  'example': 'The University of British Columbia (UBC), located in British Columbia, Canada, is a public university and a member of the U15 Group of Canadian Research Universities, the Association of Commonwealth Universities, the Association of Pacific Rim Universities, and Universitas 21. As of now, UBC has produced a total of 8 Nobel Prize laureates.',\n",
       "  'handler': 'LANGCHAIN_TAVILY'},\n",
       " 'ranking_qs_news_2024': {'attribute_format': 'int',\n",
       "  'attribute_reference': '[\"https://www.topuniversities.com/world-university-rankings\",  \"https://www.topuniversities.com/\"]',\n",
       "  'attribute_prompt': nan,\n",
       "  'example': 34,\n",
       "  'handler': 'LANGCHAIN_TAVILY'},\n",
       " 'ranking_us_news_2023': {'attribute_format': 'int',\n",
       "  'attribute_reference': '[\"https://www.usnews.com/education/best-global-universities/\",\"https://www.usnews.com/education/best-global-universities/search\",\"https://www.usnews.com/education/best-global-universities/canada\",]',\n",
       "  'attribute_prompt': nan,\n",
       "  'example': 35,\n",
       "  'handler': 'LANGCHAIN_TAVILY'},\n",
       " 'ranking_times_rank_2024': {'attribute_format': 'int',\n",
       "  'attribute_reference': '[\"https://www.timeshighereducation.com/world-university-rankings/2024/world-ranking\",\"https://www.timeshighereducation.com/world-university-rankings/\"]',\n",
       "  'attribute_prompt': nan,\n",
       "  'example': 41,\n",
       "  'handler': 'LANGCHAIN_TAVILY'},\n",
       " 'ranking_arwu_rank_2023': {'attribute_format': 'int',\n",
       "  'attribute_reference': '[\"https://www.shanghairanking.com/rankings/arwu/2023.html\", \"https://www.shanghairanking.com/institution\"]',\n",
       "  'attribute_prompt': nan,\n",
       "  'example': 44,\n",
       "  'handler': 'LANGCHAIN_TAVILY'},\n",
       " 'website': {'attribute_format': 'string',\n",
       "  'attribute_reference': nan,\n",
       "  'attribute_prompt': 'Link of the official websites',\n",
       "  'example': 'https://www.ubc.ca/',\n",
       "  'handler': 'GPT_BASIC'},\n",
       " 'important_calendar': {'attribute_format': 'string',\n",
       "  'attribute_reference': nan,\n",
       "  'attribute_prompt': 'Try to find the import dates and any websites that it may be helpful. Value heavily on the official website',\n",
       "  'example': 'https://calendar.ubc.ca/',\n",
       "  'handler': 'LANGCHAIN_TAVILY'},\n",
       " 'statistics': {'attribute_format': 'List[str]',\n",
       "  'attribute_reference': '[\"https://www.topuniversities.com/\",\"https://www.timeshighereducation.com/world-university-rankings/2024/world-ranking\",\"https://www.shanghairanking.com/institution\",]',\n",
       "  'attribute_prompt': 'Count the total number of programs that the university provides in undergraduate, master and PhD separately. Try to be specific',\n",
       "  'example': '[\"Undergraduate Programs: 99\", \"Master\\'s and PhD Programs: 84\"]',\n",
       "  'handler': 'LANGCHAIN_TAVILY'},\n",
       " 'faculty': {'attribute_format': 'List[str]',\n",
       "  'attribute_reference': nan,\n",
       "  'attribute_prompt': \"Find all the faculties that the university offers. Don't focus on pages of only one of the faculties. Use the general admin page. Get all of them\",\n",
       "  'example': '[\"Applied Science, Faculty of\", \"Architecture and Landscape Architecture, School of\", \"Arts, Faculty of\", \"Audiology and Speech Sciences, School of\", \"Business, Sauder School of\", \"Community and Regional Planning, School of\", \"Dentistry, Faculty of\", \"Education, Faculty of\", \"Extended Learning\", \"Forestry, Faculty of\", \"Graduate and Postdoctoral Studies\", \"Journalism, School of\", \"Kinesiology, School of\", \"Land and Food Systems, Faculty of\", \"Law, Peter A. Allard School of\", \"Library, Archival and Information Studies, School of\", \"Medicine, Faculty of\", \"Music, School of\", \"Nursing, School of\", \"Pharmaceutical Sciences, Faculty of\", \"Population and Public Health, School of\", \"Public Policy and Global Affairs, School of\", \"Science, Faculty of\", \"Social Work, School of\", \"UBC Vantage College\", \"Vancouver School of Economics\"]',\n",
       "  'handler': 'LANGCHAIN_TAVILY'},\n",
       " 'popular_programs': {'attribute_format': 'List[str]',\n",
       "  'attribute_reference': 'List[str]',\n",
       "  'attribute_prompt': 'You may need to consider factors like, whether the university is doing in some programs, and you may also consider employer feedback. You can also check the QS ranking page of the university.',\n",
       "  'example': '[\"Education Program\", \"Sauder Business School\", \"Engineering Program\"]',\n",
       "  'handler': 'LANGCHAIN_TAVILY'},\n",
       " 'programs': {'attribute_format': 'List[str]',\n",
       "  'attribute_reference': nan,\n",
       "  'attribute_prompt': \"All the names of programs that the university provides. Don't be lazy, return them all\",\n",
       "  'example': nan,\n",
       "  'handler': 'LANGCHAIN_TAVILY'},\n",
       " 'characteristics': {'attribute_format': 'List[str]',\n",
       "  'attribute_reference': nan,\n",
       "  'attribute_prompt': 'Consider some overview and interesting facts about the university',\n",
       "  'example': '[ \"The University of British Columbia (UBC) is distinguished by a variety of unique features and achievements that contribute to its reputation as a leading global center for teaching, learning, and research. Here are some key highlights:  \",  \"Sustainability Leadership: UBC has been named the most sustainable university in Canada, showcasing its commitment to environmental stewardship and innovative sustainable practices. \", \"Rich Biodiversity: The Beaty Biodiversity Museum at UBC is home to Canada\\'s largest blue whale skeleton, offering a unique and close encounter with the world\\'s largest creature.\", \"Diverse Campus Culture: UBC supports a multicultural environment, evident in the bilingual street signs on both campuses. These signs incorporate English and the indigenous Nsyilxcen language at the Okanagan campus and hən̓q̓əmin̓əm̓ language alongside English at the Vancouver campus, reflecting UBC\\'s respect for and integration of local indigenous cultures.\"]\\n',\n",
       "  'handler': 'LANGCHAIN_TAVILY'},\n",
       " 'wikipedia': {'attribute_format': 'string',\n",
       "  'attribute_reference': nan,\n",
       "  'attribute_prompt': 'wikipedia link for the university',\n",
       "  'example': '[\"https://en.wikipedia.org/wiki/University_of_British_Columbia\"]',\n",
       "  'handler': 'LANGCHAIN_TAVILY'},\n",
       " 'others': {'attribute_format': 'string',\n",
       "  'attribute_reference': nan,\n",
       "  'attribute_prompt': 'Anything that you may find interesting',\n",
       "  'example': nan,\n",
       "  'handler': 'LANGCHAIN_TAVILY'}}"
      ]
     },
     "execution_count": 8,
     "metadata": {},
     "output_type": "execute_result"
    }
   ],
   "source": [
    "load_cache(config.UNIVERSITY_ATTRIBUTE_CACHE_FILE_PATH)"
   ]
  },
  {
   "cell_type": "markdown",
   "metadata": {},
   "source": [
    "## Main train logic"
   ]
  },
  {
   "cell_type": "code",
   "execution_count": 9,
   "metadata": {},
   "outputs": [],
   "source": [
    "uni_gen = uni()\n",
    "uni_gen.load_from_file(SavedDictType.ATTRIBUTE, config.UNIVERSITY_ATTRIBUTE_CACHE_FILE_PATH)\n",
    "# uni_gen.load_from_file(SavedDictType.GPT_CACHE, \"./gpt_cache.jsonl\")\n",
    "uni_gen.load_from_file(SavedDictType.UNIVERSITY_BASIC_INFO, \"./university_basic_info.jsonl\")\n",
    "# uni_gen.load_from_file(SavedDictType.UNIVERSITY_INFO, \"./university_info.jsonl\")\n"
   ]
  },
  {
   "cell_type": "code",
   "execution_count": 10,
   "metadata": {},
   "outputs": [
    {
     "name": "stdout",
     "output_type": "stream",
     "text": [
      "{'abbreviation': {'attribute_format': 'string',\n",
      "                  'attribute_prompt': nan,\n",
      "                  'attribute_reference': nan,\n",
      "                  'example': 'UBC',\n",
      "                  'handler': <HandlerType.GPT_BASIC: 1>},\n",
      " 'characteristics': {'attribute_format': 'List[str]',\n",
      "                     'attribute_prompt': 'Consider some overview and '\n",
      "                                         'interesting facts about the '\n",
      "                                         'university',\n",
      "                     'attribute_reference': nan,\n",
      "                     'example': '[ \"The University of British Columbia (UBC) '\n",
      "                                'is distinguished by a variety of unique '\n",
      "                                'features and achievements that contribute to '\n",
      "                                'its reputation as a leading global center for '\n",
      "                                'teaching, learning, and research. Here are '\n",
      "                                'some key highlights:  \",  \"Sustainability '\n",
      "                                'Leadership: UBC has been named the most '\n",
      "                                'sustainable university in Canada, showcasing '\n",
      "                                'its commitment to environmental stewardship '\n",
      "                                'and innovative sustainable practices. \", '\n",
      "                                '\"Rich Biodiversity: The Beaty Biodiversity '\n",
      "                                \"Museum at UBC is home to Canada's largest \"\n",
      "                                'blue whale skeleton, offering a unique and '\n",
      "                                \"close encounter with the world's largest \"\n",
      "                                'creature.\", \"Diverse Campus Culture: UBC '\n",
      "                                'supports a multicultural environment, evident '\n",
      "                                'in the bilingual street signs on both '\n",
      "                                'campuses. These signs incorporate English and '\n",
      "                                'the indigenous Nsyilxcen language at the '\n",
      "                                'Okanagan campus and hən̓q̓əmin̓əm̓ language '\n",
      "                                'alongside English at the Vancouver campus, '\n",
      "                                \"reflecting UBC's respect for and integration \"\n",
      "                                'of local indigenous cultures.\"]\\n',\n",
      "                     'handler': <HandlerType.LANGCHAIN_TAVILY: 2>},\n",
      " 'description': {'attribute_format': 'string',\n",
      "                 'attribute_prompt': 'Write a  description. You could try to '\n",
      "                                     'extract information from the wikipedia '\n",
      "                                     'and the official website. You may wish '\n",
      "                                     'to summarize a bit if it is too long',\n",
      "                 'attribute_reference': nan,\n",
      "                 'example': 'The University of British Columbia (UBC), located '\n",
      "                            'in British Columbia, Canada, is a public '\n",
      "                            'university and a member of the U15 Group of '\n",
      "                            'Canadian Research Universities, the Association '\n",
      "                            'of Commonwealth Universities, the Association of '\n",
      "                            'Pacific Rim Universities, and Universitas 21. As '\n",
      "                            'of now, UBC has produced a total of 8 Nobel Prize '\n",
      "                            'laureates.',\n",
      "                 'handler': <HandlerType.LANGCHAIN_TAVILY: 2>},\n",
      " 'domestic_student_tuition': {'attribute_format': 'string',\n",
      "                              'attribute_prompt': ' find the average '\n",
      "                                                  'undergraduate domestic '\n",
      "                                                  \"student's tuition fee at \"\n",
      "                                                  'that university',\n",
      "                              'attribute_reference': '[\"https://ouinfo.ca/tuition-and-fees\", '\n",
      "                                                     '\"https://universitystudy.ca/canadian-universities/\"]',\n",
      "                              'example': \"$6,128 - $7,946'\",\n",
      "                              'handler': <HandlerType.LANGCHAIN_TAVILY: 2>},\n",
      " 'faculty': {'attribute_format': 'List[str]',\n",
      "             'attribute_prompt': 'Find all the faculties that the university '\n",
      "                                 \"offers. Don't focus on pages of only one of \"\n",
      "                                 'the faculties. Use the general admin page. '\n",
      "                                 'Get all of them',\n",
      "             'attribute_reference': nan,\n",
      "             'example': '[\"Applied Science, Faculty of\", \"Architecture and '\n",
      "                        'Landscape Architecture, School of\", \"Arts, Faculty '\n",
      "                        'of\", \"Audiology and Speech Sciences, School of\", '\n",
      "                        '\"Business, Sauder School of\", \"Community and Regional '\n",
      "                        'Planning, School of\", \"Dentistry, Faculty of\", '\n",
      "                        '\"Education, Faculty of\", \"Extended Learning\", '\n",
      "                        '\"Forestry, Faculty of\", \"Graduate and Postdoctoral '\n",
      "                        'Studies\", \"Journalism, School of\", \"Kinesiology, '\n",
      "                        'School of\", \"Land and Food Systems, Faculty of\", '\n",
      "                        '\"Law, Peter A. Allard School of\", \"Library, Archival '\n",
      "                        'and Information Studies, School of\", \"Medicine, '\n",
      "                        'Faculty of\", \"Music, School of\", \"Nursing, School '\n",
      "                        'of\", \"Pharmaceutical Sciences, Faculty of\", '\n",
      "                        '\"Population and Public Health, School of\", \"Public '\n",
      "                        'Policy and Global Affairs, School of\", \"Science, '\n",
      "                        'Faculty of\", \"Social Work, School of\", \"UBC Vantage '\n",
      "                        'College\", \"Vancouver School of Economics\"]',\n",
      "             'handler': <HandlerType.LANGCHAIN_TAVILY: 2>},\n",
      " 'graduation_rate': {'attribute_format': 'float',\n",
      "                     'attribute_prompt': 'Find the graduation rate. Keep the '\n",
      "                                         'format in two digits, like 89 '\n",
      "                                         'represent 89%',\n",
      "                     'attribute_reference': nan,\n",
      "                     'example': nan,\n",
      "                     'handler': <HandlerType.LANGCHAIN_TAVILY: 2>},\n",
      " 'graduation_year': {'attribute_format': 'int',\n",
      "                     'attribute_prompt': 'The time, years, for general '\n",
      "                                         'students, undergraduate, to '\n",
      "                                         'graduate.',\n",
      "                     'attribute_reference': nan,\n",
      "                     'example': 4,\n",
      "                     'handler': <HandlerType.LANGCHAIN_TAVILY: 2>},\n",
      " 'important_calendar': {'attribute_format': 'string',\n",
      "                        'attribute_prompt': 'Try to find the import dates and '\n",
      "                                            'any websites that it may be '\n",
      "                                            'helpful. Value heavily on the '\n",
      "                                            'official website',\n",
      "                        'attribute_reference': nan,\n",
      "                        'example': 'https://calendar.ubc.ca/',\n",
      "                        'handler': <HandlerType.LANGCHAIN_TAVILY: 2>},\n",
      " 'international_student_tuition': {'attribute_format': 'string',\n",
      "                                   'attribute_prompt': 'find the average '\n",
      "                                                       'undergraduate '\n",
      "                                                       'international '\n",
      "                                                       \"student's tuition fee \"\n",
      "                                                       'at that university',\n",
      "                                   'attribute_reference': '[\"https://ouinfo.ca/tuition-and-fees\", '\n",
      "                                                          '\"https://universitystudy.ca/canadian-universities/\"]',\n",
      "                                   'example': \"$37,038 - $51,448'\",\n",
      "                                   'handler': <HandlerType.LANGCHAIN_TAVILY: 2>},\n",
      " 'location': {'attribute_format': '[\"<city>, <province>, <country>\", \"<city>, '\n",
      "                                  '<province>, <country>\"]\\'',\n",
      "              'attribute_prompt': 'The different locations of the campus in '\n",
      "                                  'different cities.\\n'\n",
      "                                  'You can check location on wikipedia and '\n",
      "                                  'official websites. Find all the campus that '\n",
      "                                  'the university currently have, includes '\n",
      "                                  'main campus and others',\n",
      "              'attribute_reference': nan,\n",
      "              'example': 'Vancouver campus, British Columbia, Canada\\n'\n",
      "                         'Okanagan campus, British Columbia, Canada',\n",
      "              'handler': <HandlerType.LANGCHAIN_TAVILY: 2>},\n",
      " 'others': {'attribute_format': 'string',\n",
      "            'attribute_prompt': 'Anything that you may find interesting',\n",
      "            'attribute_reference': nan,\n",
      "            'example': nan,\n",
      "            'handler': <HandlerType.LANGCHAIN_TAVILY: 2>},\n",
      " 'popular_programs': {'attribute_format': 'List[str]',\n",
      "                      'attribute_prompt': 'You may need to consider factors '\n",
      "                                          'like, whether the university is '\n",
      "                                          'doing in some programs, and you may '\n",
      "                                          'also consider employer feedback. '\n",
      "                                          'You can also check the QS ranking '\n",
      "                                          'page of the university.',\n",
      "                      'attribute_reference': 'List[str]',\n",
      "                      'example': '[\"Education Program\", \"Sauder Business '\n",
      "                                 'School\", \"Engineering Program\"]',\n",
      "                      'handler': <HandlerType.LANGCHAIN_TAVILY: 2>},\n",
      " 'programs': {'attribute_format': 'List[str]',\n",
      "              'attribute_prompt': 'All the names of programs that the '\n",
      "                                  \"university provides. Don't be lazy, return \"\n",
      "                                  'them all',\n",
      "              'attribute_reference': nan,\n",
      "              'example': nan,\n",
      "              'handler': <HandlerType.LANGCHAIN_TAVILY: 2>},\n",
      " 'ranking_arwu_rank_2023': {'attribute_format': 'int',\n",
      "                            'attribute_prompt': nan,\n",
      "                            'attribute_reference': '[\"https://www.shanghairanking.com/rankings/arwu/2023.html\", '\n",
      "                                                   '\"https://www.shanghairanking.com/institution\"]',\n",
      "                            'example': 44,\n",
      "                            'handler': <HandlerType.LANGCHAIN_TAVILY: 2>},\n",
      " 'ranking_qs_news_2024': {'attribute_format': 'int',\n",
      "                          'attribute_prompt': nan,\n",
      "                          'attribute_reference': '[\"https://www.topuniversities.com/world-university-rankings\",  '\n",
      "                                                 '\"https://www.topuniversities.com/\"]',\n",
      "                          'example': 34,\n",
      "                          'handler': <HandlerType.LANGCHAIN_TAVILY: 2>},\n",
      " 'ranking_times_rank_2024': {'attribute_format': 'int',\n",
      "                             'attribute_prompt': nan,\n",
      "                             'attribute_reference': '[\"https://www.timeshighereducation.com/world-university-rankings/2024/world-ranking\",\"https://www.timeshighereducation.com/world-university-rankings/\"]',\n",
      "                             'example': 41,\n",
      "                             'handler': <HandlerType.LANGCHAIN_TAVILY: 2>},\n",
      " 'ranking_us_news_2023': {'attribute_format': 'int',\n",
      "                          'attribute_prompt': nan,\n",
      "                          'attribute_reference': '[\"https://www.usnews.com/education/best-global-universities/\",\"https://www.usnews.com/education/best-global-universities/search\",\"https://www.usnews.com/education/best-global-universities/canada\",]',\n",
      "                          'example': 35,\n",
      "                          'handler': <HandlerType.LANGCHAIN_TAVILY: 2>},\n",
      " 'statistics': {'attribute_format': 'List[str]',\n",
      "                'attribute_prompt': 'Count the total number of programs that '\n",
      "                                    'the university provides in undergraduate, '\n",
      "                                    'master and PhD separately. Try to be '\n",
      "                                    'specific',\n",
      "                'attribute_reference': '[\"https://www.topuniversities.com/\",\"https://www.timeshighereducation.com/world-university-rankings/2024/world-ranking\",\"https://www.shanghairanking.com/institution\",]',\n",
      "                'example': '[\"Undergraduate Programs: 99\", \"Master\\'s and PhD '\n",
      "                           'Programs: 84\"]',\n",
      "                'handler': <HandlerType.LANGCHAIN_TAVILY: 2>},\n",
      " 'university_type': {'attribute_format': 'string',\n",
      "                     'attribute_prompt': 'Focus on whether the university is '\n",
      "                                         'public or private',\n",
      "                     'attribute_reference': nan,\n",
      "                     'example': 'Public University',\n",
      "                     'handler': <HandlerType.GPT_BASIC: 1>},\n",
      " 'website': {'attribute_format': 'string',\n",
      "             'attribute_prompt': 'Link of the official websites',\n",
      "             'attribute_reference': nan,\n",
      "             'example': 'https://www.ubc.ca/',\n",
      "             'handler': <HandlerType.GPT_BASIC: 1>},\n",
      " 'wikipedia': {'attribute_format': 'string',\n",
      "               'attribute_prompt': 'wikipedia link for the university',\n",
      "               'attribute_reference': nan,\n",
      "               'example': '[\"https://en.wikipedia.org/wiki/University_of_British_Columbia\"]',\n",
      "               'handler': <HandlerType.LANGCHAIN_TAVILY: 2>}}\n"
     ]
    }
   ],
   "source": [
    "pprint(uni_gen.attribute_dict)"
   ]
  },
  {
   "cell_type": "code",
   "execution_count": 11,
   "metadata": {},
   "outputs": [
    {
     "name": "stdout",
     "output_type": "stream",
     "text": [
      "{'attribute_format': 'int',\n",
      " 'attribute_prompt': nan,\n",
      " 'attribute_reference': '[\"https://www.usnews.com/education/best-global-universities/\",\"https://www.usnews.com/education/best-global-universities/search\",\"https://www.usnews.com/education/best-global-universities/canada\",]',\n",
      " 'example': 35,\n",
      " 'handler': <HandlerType.LANGCHAIN_TAVILY: 2>}\n"
     ]
    }
   ],
   "source": [
    "pprint(uni_gen.attribute_dict[\"ranking_us_news_2023\"])"
   ]
  },
  {
   "cell_type": "code",
   "execution_count": 12,
   "metadata": {},
   "outputs": [],
   "source": [
    "target_worksheet = get_worksheet()\n"
   ]
  },
  {
   "cell_type": "code",
   "execution_count": 13,
   "metadata": {},
   "outputs": [],
   "source": [
    "target_university = get_worksheet(\n",
    "    spreadsheet_title= \"working_extract_info_output\",\n",
    "    sheetname= \"target_university_list\",\n",
    "    sheet_client= get_sheet_client(),\n",
    ")"
   ]
  },
  {
   "cell_type": "code",
   "execution_count": null,
   "metadata": {},
   "outputs": [],
   "source": [
    "lst = extract_university_names(target_university)[1:][:10]\n",
    "lst.extend([\"UW\", \"UofT\", \"University Of British Columbia\", \"University of Calgary\"])\n",
    "pprint(lst)"
   ]
  },
  {
   "cell_type": "code",
   "execution_count": null,
   "metadata": {
    "notebookRunGroups": {
     "groupValue": "1"
    }
   },
   "outputs": [],
   "source": [
    "for university in lst:\n",
    "    uni_gen.get_university_info(university)\n",
    "# uni_gen.get_info_by_attribute(university_name=\"UW\", attribute_name=\"statistics\")"
   ]
  },
  {
   "cell_type": "code",
   "execution_count": 17,
   "metadata": {
    "notebookRunGroups": {
     "groupValue": "1"
    }
   },
   "outputs": [],
   "source": [
    "uni_gen.save_to_file(SavedDictType.UNIVERSITY_INFO, \"./university_info.jsonl\")"
   ]
  },
  {
   "cell_type": "code",
   "execution_count": 18,
   "metadata": {},
   "outputs": [],
   "source": [
    "# uni_gen.save_to_file(SavedDictType.UNIVERSITY_BASIC_INFO, \"./university_basic_info.jsonl\")"
   ]
  },
  {
   "cell_type": "code",
   "execution_count": 19,
   "metadata": {},
   "outputs": [],
   "source": [
    "uni_gen.save_to_file(SavedDictType.GPT_CACHE, \"./gpt_cache.jsonl\")"
   ]
  },
  {
   "cell_type": "code",
   "execution_count": 24,
   "metadata": {
    "notebookRunGroups": {
     "groupValue": "1"
    }
   },
   "outputs": [
    {
     "name": "stdout",
     "output_type": "stream",
     "text": [
      "Cleared 28 rows and 23 columns.\n"
     ]
    }
   ],
   "source": [
    "clear_worksheet_content(target_worksheet)"
   ]
  },
  {
   "cell_type": "code",
   "execution_count": 25,
   "metadata": {
    "notebookRunGroups": {
     "groupValue": "1"
    }
   },
   "outputs": [],
   "source": [
    "write_cache_to_worksheet(\"university_info.jsonl\", target_worksheet)\n"
   ]
  }
 ],
 "metadata": {
  "kernelspec": {
   "display_name": "gpu",
   "language": "python",
   "name": "python3"
  },
  "language_info": {
   "codemirror_mode": {
    "name": "ipython",
    "version": 3
   },
   "file_extension": ".py",
   "mimetype": "text/x-python",
   "name": "python",
   "nbconvert_exporter": "python",
   "pygments_lexer": "ipython3",
   "version": "3.9.16"
  }
 },
 "nbformat": 4,
 "nbformat_minor": 2
}
