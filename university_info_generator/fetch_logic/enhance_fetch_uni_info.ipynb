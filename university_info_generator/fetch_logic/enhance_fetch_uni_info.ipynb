{
 "cells": [
  {
   "cell_type": "markdown",
   "metadata": {},
   "source": [
    "# Process logic"
   ]
  },
  {
   "cell_type": "markdown",
   "metadata": {},
   "source": [
    "## Setup env"
   ]
  },
  {
   "cell_type": "code",
   "execution_count": 4,
   "metadata": {
    "vscode": {
     "languageId": "shellscript"
    }
   },
   "outputs": [
    {
     "name": "stdout",
     "output_type": "stream",
     "text": [
      "/home/ivan/Uforse/university_crawl\n",
      "Found .bashrc in PROJECT_HOME. Sourcing now...\n",
      "Obtaining file:///home/ivan/Uforse/university_crawl/university_info_generator\n",
      "  Preparing metadata (setup.py): started\n",
      "  Preparing metadata (setup.py): finished with status 'done'\n",
      "Requirement already satisfied: pandas in /home/ivan/anaconda3/envs/gpu/lib/python3.9/site-packages (from university-info-generator==0.0.3) (1.5.2)\n",
      "Requirement already satisfied: numpy in /home/ivan/anaconda3/envs/gpu/lib/python3.9/site-packages (from university-info-generator==0.0.3) (1.26.4)\n",
      "Requirement already satisfied: gspread in /home/ivan/anaconda3/envs/gpu/lib/python3.9/site-packages (from university-info-generator==0.0.3) (6.1.0)\n",
      "Requirement already satisfied: oauth2client in /home/ivan/anaconda3/envs/gpu/lib/python3.9/site-packages (from university-info-generator==0.0.3) (4.1.3)\n",
      "Requirement already satisfied: openai in /home/ivan/anaconda3/envs/gpu/lib/python3.9/site-packages (from university-info-generator==0.0.3) (1.12.0)\n",
      "Requirement already satisfied: python-dotenv in /home/ivan/anaconda3/envs/gpu/lib/python3.9/site-packages (from university-info-generator==0.0.3) (0.21.0)\n",
      "Requirement already satisfied: gspread_dataframe in /home/ivan/anaconda3/envs/gpu/lib/python3.9/site-packages (from university-info-generator==0.0.3) (3.3.1)\n",
      "Requirement already satisfied: bs4 in /home/ivan/anaconda3/envs/gpu/lib/python3.9/site-packages (from university-info-generator==0.0.3) (0.0.2)\n",
      "Requirement already satisfied: tenacity in /home/ivan/anaconda3/envs/gpu/lib/python3.9/site-packages (from university-info-generator==0.0.3) (8.2.3)\n",
      "Requirement already satisfied: langchain in /home/ivan/anaconda3/envs/gpu/lib/python3.9/site-packages (from university-info-generator==0.0.3) (0.1.16)\n",
      "Requirement already satisfied: langchain-openai in /home/ivan/anaconda3/envs/gpu/lib/python3.9/site-packages (from university-info-generator==0.0.3) (0.1.3)\n",
      "Requirement already satisfied: google-api-python-client in /home/ivan/anaconda3/envs/gpu/lib/python3.9/site-packages (from university-info-generator==0.0.3) (2.127.0)\n",
      "Requirement already satisfied: langchain-chroma in /home/ivan/anaconda3/envs/gpu/lib/python3.9/site-packages (from university-info-generator==0.0.3) (0.1.0)\n",
      "Requirement already satisfied: tavily-python in /home/ivan/anaconda3/envs/gpu/lib/python3.9/site-packages (from university-info-generator==0.0.3) (0.3.3)\n",
      "Requirement already satisfied: beautifulsoup4 in /home/ivan/anaconda3/envs/gpu/lib/python3.9/site-packages (from bs4->university-info-generator==0.0.3) (4.11.1)\n",
      "Requirement already satisfied: httplib2<1.dev0,>=0.19.0 in /home/ivan/anaconda3/envs/gpu/lib/python3.9/site-packages (from google-api-python-client->university-info-generator==0.0.3) (0.22.0)\n",
      "Requirement already satisfied: google-auth!=2.24.0,!=2.25.0,<3.0.0.dev0,>=1.32.0 in /home/ivan/anaconda3/envs/gpu/lib/python3.9/site-packages (from google-api-python-client->university-info-generator==0.0.3) (2.27.0)\n",
      "Requirement already satisfied: google-auth-httplib2<1.0.0,>=0.2.0 in /home/ivan/anaconda3/envs/gpu/lib/python3.9/site-packages (from google-api-python-client->university-info-generator==0.0.3) (0.2.0)\n",
      "Requirement already satisfied: google-api-core!=2.0.*,!=2.1.*,!=2.2.*,!=2.3.0,<3.0.0.dev0,>=1.31.5 in /home/ivan/anaconda3/envs/gpu/lib/python3.9/site-packages (from google-api-python-client->university-info-generator==0.0.3) (2.18.0)\n",
      "Requirement already satisfied: uritemplate<5,>=3.0.1 in /home/ivan/anaconda3/envs/gpu/lib/python3.9/site-packages (from google-api-python-client->university-info-generator==0.0.3) (4.1.1)\n",
      "Requirement already satisfied: google-auth-oauthlib>=0.4.1 in /home/ivan/anaconda3/envs/gpu/lib/python3.9/site-packages (from gspread->university-info-generator==0.0.3) (1.2.0)\n",
      "Requirement already satisfied: StrEnum==0.4.15 in /home/ivan/anaconda3/envs/gpu/lib/python3.9/site-packages (from gspread->university-info-generator==0.0.3) (0.4.15)\n",
      "Requirement already satisfied: six>=1.12.0 in /home/ivan/anaconda3/envs/gpu/lib/python3.9/site-packages (from gspread_dataframe->university-info-generator==0.0.3) (1.16.0)\n",
      "Requirement already satisfied: python-dateutil>=2.8.1 in /home/ivan/anaconda3/envs/gpu/lib/python3.9/site-packages (from pandas->university-info-generator==0.0.3) (2.8.2)\n",
      "Requirement already satisfied: pytz>=2020.1 in /home/ivan/anaconda3/envs/gpu/lib/python3.9/site-packages (from pandas->university-info-generator==0.0.3) (2022.7)\n",
      "Requirement already satisfied: PyYAML>=5.3 in /home/ivan/anaconda3/envs/gpu/lib/python3.9/site-packages (from langchain->university-info-generator==0.0.3) (6.0)\n",
      "Requirement already satisfied: SQLAlchemy<3,>=1.4 in /home/ivan/anaconda3/envs/gpu/lib/python3.9/site-packages (from langchain->university-info-generator==0.0.3) (2.0.29)\n",
      "Requirement already satisfied: aiohttp<4.0.0,>=3.8.3 in /home/ivan/anaconda3/envs/gpu/lib/python3.9/site-packages (from langchain->university-info-generator==0.0.3) (3.8.3)\n",
      "Requirement already satisfied: async-timeout<5.0.0,>=4.0.0 in /home/ivan/anaconda3/envs/gpu/lib/python3.9/site-packages (from langchain->university-info-generator==0.0.3) (4.0.2)\n",
      "Requirement already satisfied: dataclasses-json<0.7,>=0.5.7 in /home/ivan/anaconda3/envs/gpu/lib/python3.9/site-packages (from langchain->university-info-generator==0.0.3) (0.6.4)\n",
      "Requirement already satisfied: jsonpatch<2.0,>=1.33 in /home/ivan/anaconda3/envs/gpu/lib/python3.9/site-packages (from langchain->university-info-generator==0.0.3) (1.33)\n",
      "Requirement already satisfied: langchain-community<0.1,>=0.0.32 in /home/ivan/anaconda3/envs/gpu/lib/python3.9/site-packages (from langchain->university-info-generator==0.0.3) (0.0.36)\n",
      "Requirement already satisfied: langchain-core<0.2.0,>=0.1.42 in /home/ivan/anaconda3/envs/gpu/lib/python3.9/site-packages (from langchain->university-info-generator==0.0.3) (0.1.48)\n",
      "Requirement already satisfied: langchain-text-splitters<0.1,>=0.0.1 in /home/ivan/anaconda3/envs/gpu/lib/python3.9/site-packages (from langchain->university-info-generator==0.0.3) (0.0.1)\n",
      "Requirement already satisfied: langsmith<0.2.0,>=0.1.17 in /home/ivan/anaconda3/envs/gpu/lib/python3.9/site-packages (from langchain->university-info-generator==0.0.3) (0.1.50)\n",
      "Requirement already satisfied: pydantic<3,>=1 in /home/ivan/anaconda3/envs/gpu/lib/python3.9/site-packages (from langchain->university-info-generator==0.0.3) (1.10.11)\n",
      "Requirement already satisfied: requests<3,>=2 in /home/ivan/anaconda3/envs/gpu/lib/python3.9/site-packages (from langchain->university-info-generator==0.0.3) (2.28.1)\n",
      "Requirement already satisfied: chromadb<0.5.0,>=0.4.0 in /home/ivan/anaconda3/envs/gpu/lib/python3.9/site-packages (from langchain-chroma->university-info-generator==0.0.3) (0.4.24)\n",
      "Requirement already satisfied: fastapi<1,>=0.95.2 in /home/ivan/anaconda3/envs/gpu/lib/python3.9/site-packages (from langchain-chroma->university-info-generator==0.0.3) (0.110.2)\n",
      "Requirement already satisfied: tiktoken<1,>=0.5.2 in /home/ivan/anaconda3/envs/gpu/lib/python3.9/site-packages (from langchain-openai->university-info-generator==0.0.3) (0.6.0)\n",
      "Requirement already satisfied: anyio<5,>=3.5.0 in /home/ivan/anaconda3/envs/gpu/lib/python3.9/site-packages (from openai->university-info-generator==0.0.3) (3.5.0)\n",
      "Requirement already satisfied: distro<2,>=1.7.0 in /home/ivan/anaconda3/envs/gpu/lib/python3.9/site-packages (from openai->university-info-generator==0.0.3) (1.9.0)\n",
      "Requirement already satisfied: httpx<1,>=0.23.0 in /home/ivan/anaconda3/envs/gpu/lib/python3.9/site-packages (from openai->university-info-generator==0.0.3) (0.27.0)\n",
      "Requirement already satisfied: sniffio in /home/ivan/anaconda3/envs/gpu/lib/python3.9/site-packages (from openai->university-info-generator==0.0.3) (1.2.0)\n",
      "Requirement already satisfied: tqdm>4 in /home/ivan/anaconda3/envs/gpu/lib/python3.9/site-packages (from openai->university-info-generator==0.0.3) (4.66.2)\n",
      "Requirement already satisfied: typing-extensions<5,>=4.7 in /home/ivan/anaconda3/envs/gpu/lib/python3.9/site-packages (from openai->university-info-generator==0.0.3) (4.11.0)\n",
      "Requirement already satisfied: pyasn1>=0.1.7 in /home/ivan/anaconda3/envs/gpu/lib/python3.9/site-packages (from oauth2client->university-info-generator==0.0.3) (0.4.8)\n",
      "Requirement already satisfied: pyasn1-modules>=0.0.5 in /home/ivan/anaconda3/envs/gpu/lib/python3.9/site-packages (from oauth2client->university-info-generator==0.0.3) (0.2.8)\n",
      "Requirement already satisfied: rsa>=3.1.4 in /home/ivan/anaconda3/envs/gpu/lib/python3.9/site-packages (from oauth2client->university-info-generator==0.0.3) (4.9)\n",
      "Requirement already satisfied: attrs>=17.3.0 in /home/ivan/anaconda3/envs/gpu/lib/python3.9/site-packages (from aiohttp<4.0.0,>=3.8.3->langchain->university-info-generator==0.0.3) (22.1.0)\n",
      "Requirement already satisfied: charset-normalizer<3.0,>=2.0 in /home/ivan/anaconda3/envs/gpu/lib/python3.9/site-packages (from aiohttp<4.0.0,>=3.8.3->langchain->university-info-generator==0.0.3) (2.0.4)\n",
      "Requirement already satisfied: multidict<7.0,>=4.5 in /home/ivan/anaconda3/envs/gpu/lib/python3.9/site-packages (from aiohttp<4.0.0,>=3.8.3->langchain->university-info-generator==0.0.3) (6.0.2)\n",
      "Requirement already satisfied: yarl<2.0,>=1.0 in /home/ivan/anaconda3/envs/gpu/lib/python3.9/site-packages (from aiohttp<4.0.0,>=3.8.3->langchain->university-info-generator==0.0.3) (1.8.1)\n",
      "Requirement already satisfied: frozenlist>=1.1.1 in /home/ivan/anaconda3/envs/gpu/lib/python3.9/site-packages (from aiohttp<4.0.0,>=3.8.3->langchain->university-info-generator==0.0.3) (1.3.3)\n",
      "Requirement already satisfied: aiosignal>=1.1.2 in /home/ivan/anaconda3/envs/gpu/lib/python3.9/site-packages (from aiohttp<4.0.0,>=3.8.3->langchain->university-info-generator==0.0.3) (1.2.0)\n",
      "Requirement already satisfied: idna>=2.8 in /home/ivan/anaconda3/envs/gpu/lib/python3.9/site-packages (from anyio<5,>=3.5.0->openai->university-info-generator==0.0.3) (3.4)\n",
      "Requirement already satisfied: build>=1.0.3 in /home/ivan/anaconda3/envs/gpu/lib/python3.9/site-packages (from chromadb<0.5.0,>=0.4.0->langchain-chroma->university-info-generator==0.0.3) (1.2.1)\n",
      "Requirement already satisfied: chroma-hnswlib==0.7.3 in /home/ivan/anaconda3/envs/gpu/lib/python3.9/site-packages (from chromadb<0.5.0,>=0.4.0->langchain-chroma->university-info-generator==0.0.3) (0.7.3)\n",
      "Requirement already satisfied: uvicorn>=0.18.3 in /home/ivan/anaconda3/envs/gpu/lib/python3.9/site-packages (from uvicorn[standard]>=0.18.3->chromadb<0.5.0,>=0.4.0->langchain-chroma->university-info-generator==0.0.3) (0.29.0)\n",
      "Requirement already satisfied: posthog>=2.4.0 in /home/ivan/anaconda3/envs/gpu/lib/python3.9/site-packages (from chromadb<0.5.0,>=0.4.0->langchain-chroma->university-info-generator==0.0.3) (3.5.0)\n",
      "Requirement already satisfied: pulsar-client>=3.1.0 in /home/ivan/anaconda3/envs/gpu/lib/python3.9/site-packages (from chromadb<0.5.0,>=0.4.0->langchain-chroma->university-info-generator==0.0.3) (3.5.0)\n",
      "Requirement already satisfied: onnxruntime>=1.14.1 in /home/ivan/anaconda3/envs/gpu/lib/python3.9/site-packages (from chromadb<0.5.0,>=0.4.0->langchain-chroma->university-info-generator==0.0.3) (1.17.3)\n",
      "Requirement already satisfied: opentelemetry-api>=1.2.0 in /home/ivan/anaconda3/envs/gpu/lib/python3.9/site-packages (from chromadb<0.5.0,>=0.4.0->langchain-chroma->university-info-generator==0.0.3) (1.24.0)\n",
      "Requirement already satisfied: opentelemetry-exporter-otlp-proto-grpc>=1.2.0 in /home/ivan/anaconda3/envs/gpu/lib/python3.9/site-packages (from chromadb<0.5.0,>=0.4.0->langchain-chroma->university-info-generator==0.0.3) (1.24.0)\n",
      "Requirement already satisfied: opentelemetry-instrumentation-fastapi>=0.41b0 in /home/ivan/anaconda3/envs/gpu/lib/python3.9/site-packages (from chromadb<0.5.0,>=0.4.0->langchain-chroma->university-info-generator==0.0.3) (0.45b0)\n",
      "Requirement already satisfied: opentelemetry-sdk>=1.2.0 in /home/ivan/anaconda3/envs/gpu/lib/python3.9/site-packages (from chromadb<0.5.0,>=0.4.0->langchain-chroma->university-info-generator==0.0.3) (1.24.0)\n",
      "Requirement already satisfied: tokenizers>=0.13.2 in /home/ivan/anaconda3/envs/gpu/lib/python3.9/site-packages (from chromadb<0.5.0,>=0.4.0->langchain-chroma->university-info-generator==0.0.3) (0.19.1)\n",
      "Requirement already satisfied: pypika>=0.48.9 in /home/ivan/anaconda3/envs/gpu/lib/python3.9/site-packages (from chromadb<0.5.0,>=0.4.0->langchain-chroma->university-info-generator==0.0.3) (0.48.9)\n",
      "Requirement already satisfied: overrides>=7.3.1 in /home/ivan/anaconda3/envs/gpu/lib/python3.9/site-packages (from chromadb<0.5.0,>=0.4.0->langchain-chroma->university-info-generator==0.0.3) (7.7.0)\n",
      "Requirement already satisfied: importlib-resources in /home/ivan/anaconda3/envs/gpu/lib/python3.9/site-packages (from chromadb<0.5.0,>=0.4.0->langchain-chroma->university-info-generator==0.0.3) (6.4.0)\n",
      "Requirement already satisfied: grpcio>=1.58.0 in /home/ivan/anaconda3/envs/gpu/lib/python3.9/site-packages (from chromadb<0.5.0,>=0.4.0->langchain-chroma->university-info-generator==0.0.3) (1.62.2)\n",
      "Requirement already satisfied: bcrypt>=4.0.1 in /home/ivan/anaconda3/envs/gpu/lib/python3.9/site-packages (from chromadb<0.5.0,>=0.4.0->langchain-chroma->university-info-generator==0.0.3) (4.1.2)\n",
      "Requirement already satisfied: typer>=0.9.0 in /home/ivan/anaconda3/envs/gpu/lib/python3.9/site-packages (from chromadb<0.5.0,>=0.4.0->langchain-chroma->university-info-generator==0.0.3) (0.12.3)\n",
      "Requirement already satisfied: kubernetes>=28.1.0 in /home/ivan/anaconda3/envs/gpu/lib/python3.9/site-packages (from chromadb<0.5.0,>=0.4.0->langchain-chroma->university-info-generator==0.0.3) (29.0.0)\n",
      "Requirement already satisfied: mmh3>=4.0.1 in /home/ivan/anaconda3/envs/gpu/lib/python3.9/site-packages (from chromadb<0.5.0,>=0.4.0->langchain-chroma->university-info-generator==0.0.3) (4.1.0)\n",
      "Requirement already satisfied: orjson>=3.9.12 in /home/ivan/anaconda3/envs/gpu/lib/python3.9/site-packages (from chromadb<0.5.0,>=0.4.0->langchain-chroma->university-info-generator==0.0.3) (3.10.1)\n",
      "Requirement already satisfied: marshmallow<4.0.0,>=3.18.0 in /home/ivan/anaconda3/envs/gpu/lib/python3.9/site-packages (from dataclasses-json<0.7,>=0.5.7->langchain->university-info-generator==0.0.3) (3.21.1)\n",
      "Requirement already satisfied: typing-inspect<1,>=0.4.0 in /home/ivan/anaconda3/envs/gpu/lib/python3.9/site-packages (from dataclasses-json<0.7,>=0.5.7->langchain->university-info-generator==0.0.3) (0.8.0)\n",
      "Requirement already satisfied: starlette<0.38.0,>=0.37.2 in /home/ivan/anaconda3/envs/gpu/lib/python3.9/site-packages (from fastapi<1,>=0.95.2->langchain-chroma->university-info-generator==0.0.3) (0.37.2)\n",
      "Requirement already satisfied: googleapis-common-protos<2.0.dev0,>=1.56.2 in /home/ivan/anaconda3/envs/gpu/lib/python3.9/site-packages (from google-api-core!=2.0.*,!=2.1.*,!=2.2.*,!=2.3.0,<3.0.0.dev0,>=1.31.5->google-api-python-client->university-info-generator==0.0.3) (1.63.0)\n",
      "Requirement already satisfied: protobuf!=3.20.0,!=3.20.1,!=4.21.0,!=4.21.1,!=4.21.2,!=4.21.3,!=4.21.4,!=4.21.5,<5.0.0.dev0,>=3.19.5 in /home/ivan/anaconda3/envs/gpu/lib/python3.9/site-packages (from google-api-core!=2.0.*,!=2.1.*,!=2.2.*,!=2.3.0,<3.0.0.dev0,>=1.31.5->google-api-python-client->university-info-generator==0.0.3) (4.21.12)\n",
      "Requirement already satisfied: proto-plus<2.0.0dev,>=1.22.3 in /home/ivan/anaconda3/envs/gpu/lib/python3.9/site-packages (from google-api-core!=2.0.*,!=2.1.*,!=2.2.*,!=2.3.0,<3.0.0.dev0,>=1.31.5->google-api-python-client->university-info-generator==0.0.3) (1.23.0)\n",
      "Requirement already satisfied: cachetools<6.0,>=2.0.0 in /home/ivan/anaconda3/envs/gpu/lib/python3.9/site-packages (from google-auth!=2.24.0,!=2.25.0,<3.0.0.dev0,>=1.32.0->google-api-python-client->university-info-generator==0.0.3) (5.3.2)\n",
      "Requirement already satisfied: requests-oauthlib>=0.7.0 in /home/ivan/anaconda3/envs/gpu/lib/python3.9/site-packages (from google-auth-oauthlib>=0.4.1->gspread->university-info-generator==0.0.3) (1.3.1)\n",
      "Requirement already satisfied: pyparsing!=3.0.0,!=3.0.1,!=3.0.2,!=3.0.3,<4,>=2.4.2 in /home/ivan/anaconda3/envs/gpu/lib/python3.9/site-packages (from httplib2<1.dev0,>=0.19.0->google-api-python-client->university-info-generator==0.0.3) (3.0.9)\n",
      "Requirement already satisfied: certifi in /home/ivan/anaconda3/envs/gpu/lib/python3.9/site-packages (from httpx<1,>=0.23.0->openai->university-info-generator==0.0.3) (2023.7.22)\n",
      "Requirement already satisfied: httpcore==1.* in /home/ivan/anaconda3/envs/gpu/lib/python3.9/site-packages (from httpx<1,>=0.23.0->openai->university-info-generator==0.0.3) (1.0.4)\n",
      "Requirement already satisfied: h11<0.15,>=0.13 in /home/ivan/anaconda3/envs/gpu/lib/python3.9/site-packages (from httpcore==1.*->httpx<1,>=0.23.0->openai->university-info-generator==0.0.3) (0.14.0)\n",
      "Requirement already satisfied: jsonpointer>=1.9 in /home/ivan/anaconda3/envs/gpu/lib/python3.9/site-packages (from jsonpatch<2.0,>=1.33->langchain->university-info-generator==0.0.3) (2.4)\n",
      "Requirement already satisfied: packaging<24.0,>=23.2 in /home/ivan/anaconda3/envs/gpu/lib/python3.9/site-packages (from langchain-core<0.2.0,>=0.1.42->langchain->university-info-generator==0.0.3) (23.2)\n",
      "Requirement already satisfied: urllib3<1.27,>=1.21.1 in /home/ivan/anaconda3/envs/gpu/lib/python3.9/site-packages (from requests<3,>=2->langchain->university-info-generator==0.0.3) (1.26.14)\n",
      "Requirement already satisfied: greenlet!=0.4.17 in /home/ivan/anaconda3/envs/gpu/lib/python3.9/site-packages (from SQLAlchemy<3,>=1.4->langchain->university-info-generator==0.0.3) (3.0.3)\n",
      "Requirement already satisfied: regex>=2022.1.18 in /home/ivan/anaconda3/envs/gpu/lib/python3.9/site-packages (from tiktoken<1,>=0.5.2->langchain-openai->university-info-generator==0.0.3) (2022.7.9)\n",
      "Requirement already satisfied: soupsieve>1.2 in /home/ivan/anaconda3/envs/gpu/lib/python3.9/site-packages (from beautifulsoup4->bs4->university-info-generator==0.0.3) (2.3.2.post1)\n",
      "Requirement already satisfied: pyproject_hooks in /home/ivan/anaconda3/envs/gpu/lib/python3.9/site-packages (from build>=1.0.3->chromadb<0.5.0,>=0.4.0->langchain-chroma->university-info-generator==0.0.3) (1.0.0)\n",
      "Requirement already satisfied: importlib-metadata>=4.6 in /home/ivan/anaconda3/envs/gpu/lib/python3.9/site-packages (from build>=1.0.3->chromadb<0.5.0,>=0.4.0->langchain-chroma->university-info-generator==0.0.3) (7.0.0)\n",
      "Requirement already satisfied: tomli>=1.1.0 in /home/ivan/anaconda3/envs/gpu/lib/python3.9/site-packages (from build>=1.0.3->chromadb<0.5.0,>=0.4.0->langchain-chroma->university-info-generator==0.0.3) (2.0.1)\n",
      "Requirement already satisfied: websocket-client!=0.40.0,!=0.41.*,!=0.42.*,>=0.32.0 in /home/ivan/anaconda3/envs/gpu/lib/python3.9/site-packages (from kubernetes>=28.1.0->chromadb<0.5.0,>=0.4.0->langchain-chroma->university-info-generator==0.0.3) (0.58.0)\n",
      "Requirement already satisfied: oauthlib>=3.2.2 in /home/ivan/anaconda3/envs/gpu/lib/python3.9/site-packages (from kubernetes>=28.1.0->chromadb<0.5.0,>=0.4.0->langchain-chroma->university-info-generator==0.0.3) (3.2.2)\n",
      "Requirement already satisfied: coloredlogs in /home/ivan/anaconda3/envs/gpu/lib/python3.9/site-packages (from onnxruntime>=1.14.1->chromadb<0.5.0,>=0.4.0->langchain-chroma->university-info-generator==0.0.3) (15.0.1)\n",
      "Requirement already satisfied: flatbuffers in /home/ivan/anaconda3/envs/gpu/lib/python3.9/site-packages (from onnxruntime>=1.14.1->chromadb<0.5.0,>=0.4.0->langchain-chroma->university-info-generator==0.0.3) (23.5.26)\n",
      "Requirement already satisfied: sympy in /home/ivan/anaconda3/envs/gpu/lib/python3.9/site-packages (from onnxruntime>=1.14.1->chromadb<0.5.0,>=0.4.0->langchain-chroma->university-info-generator==0.0.3) (1.11.1)\n",
      "Requirement already satisfied: deprecated>=1.2.6 in /home/ivan/anaconda3/envs/gpu/lib/python3.9/site-packages (from opentelemetry-api>=1.2.0->chromadb<0.5.0,>=0.4.0->langchain-chroma->university-info-generator==0.0.3) (1.2.14)\n",
      "Requirement already satisfied: opentelemetry-exporter-otlp-proto-common==1.24.0 in /home/ivan/anaconda3/envs/gpu/lib/python3.9/site-packages (from opentelemetry-exporter-otlp-proto-grpc>=1.2.0->chromadb<0.5.0,>=0.4.0->langchain-chroma->university-info-generator==0.0.3) (1.24.0)\n",
      "Requirement already satisfied: opentelemetry-proto==1.24.0 in /home/ivan/anaconda3/envs/gpu/lib/python3.9/site-packages (from opentelemetry-exporter-otlp-proto-grpc>=1.2.0->chromadb<0.5.0,>=0.4.0->langchain-chroma->university-info-generator==0.0.3) (1.24.0)\n",
      "Requirement already satisfied: opentelemetry-instrumentation-asgi==0.45b0 in /home/ivan/anaconda3/envs/gpu/lib/python3.9/site-packages (from opentelemetry-instrumentation-fastapi>=0.41b0->chromadb<0.5.0,>=0.4.0->langchain-chroma->university-info-generator==0.0.3) (0.45b0)\n",
      "Requirement already satisfied: opentelemetry-instrumentation==0.45b0 in /home/ivan/anaconda3/envs/gpu/lib/python3.9/site-packages (from opentelemetry-instrumentation-fastapi>=0.41b0->chromadb<0.5.0,>=0.4.0->langchain-chroma->university-info-generator==0.0.3) (0.45b0)\n",
      "Requirement already satisfied: opentelemetry-semantic-conventions==0.45b0 in /home/ivan/anaconda3/envs/gpu/lib/python3.9/site-packages (from opentelemetry-instrumentation-fastapi>=0.41b0->chromadb<0.5.0,>=0.4.0->langchain-chroma->university-info-generator==0.0.3) (0.45b0)\n",
      "Requirement already satisfied: opentelemetry-util-http==0.45b0 in /home/ivan/anaconda3/envs/gpu/lib/python3.9/site-packages (from opentelemetry-instrumentation-fastapi>=0.41b0->chromadb<0.5.0,>=0.4.0->langchain-chroma->university-info-generator==0.0.3) (0.45b0)\n",
      "Requirement already satisfied: setuptools>=16.0 in /home/ivan/anaconda3/envs/gpu/lib/python3.9/site-packages (from opentelemetry-instrumentation==0.45b0->opentelemetry-instrumentation-fastapi>=0.41b0->chromadb<0.5.0,>=0.4.0->langchain-chroma->university-info-generator==0.0.3) (65.6.3)\n",
      "Requirement already satisfied: wrapt<2.0.0,>=1.0.0 in /home/ivan/anaconda3/envs/gpu/lib/python3.9/site-packages (from opentelemetry-instrumentation==0.45b0->opentelemetry-instrumentation-fastapi>=0.41b0->chromadb<0.5.0,>=0.4.0->langchain-chroma->university-info-generator==0.0.3) (1.14.1)\n",
      "Requirement already satisfied: asgiref~=3.0 in /home/ivan/anaconda3/envs/gpu/lib/python3.9/site-packages (from opentelemetry-instrumentation-asgi==0.45b0->opentelemetry-instrumentation-fastapi>=0.41b0->chromadb<0.5.0,>=0.4.0->langchain-chroma->university-info-generator==0.0.3) (3.8.1)\n",
      "Requirement already satisfied: monotonic>=1.5 in /home/ivan/anaconda3/envs/gpu/lib/python3.9/site-packages (from posthog>=2.4.0->chromadb<0.5.0,>=0.4.0->langchain-chroma->university-info-generator==0.0.3) (1.6)\n",
      "Requirement already satisfied: backoff>=1.10.0 in /home/ivan/anaconda3/envs/gpu/lib/python3.9/site-packages (from posthog>=2.4.0->chromadb<0.5.0,>=0.4.0->langchain-chroma->university-info-generator==0.0.3) (2.2.1)\n",
      "Requirement already satisfied: huggingface-hub<1.0,>=0.16.4 in /home/ivan/anaconda3/envs/gpu/lib/python3.9/site-packages (from tokenizers>=0.13.2->chromadb<0.5.0,>=0.4.0->langchain-chroma->university-info-generator==0.0.3) (0.22.2)\n",
      "Requirement already satisfied: click>=8.0.0 in /home/ivan/anaconda3/envs/gpu/lib/python3.9/site-packages (from typer>=0.9.0->chromadb<0.5.0,>=0.4.0->langchain-chroma->university-info-generator==0.0.3) (8.1.7)\n",
      "Requirement already satisfied: shellingham>=1.3.0 in /home/ivan/anaconda3/envs/gpu/lib/python3.9/site-packages (from typer>=0.9.0->chromadb<0.5.0,>=0.4.0->langchain-chroma->university-info-generator==0.0.3) (1.5.4)\n",
      "Requirement already satisfied: rich>=10.11.0 in /home/ivan/anaconda3/envs/gpu/lib/python3.9/site-packages (from typer>=0.9.0->chromadb<0.5.0,>=0.4.0->langchain-chroma->university-info-generator==0.0.3) (13.7.1)\n",
      "Requirement already satisfied: mypy-extensions>=0.3.0 in /home/ivan/anaconda3/envs/gpu/lib/python3.9/site-packages (from typing-inspect<1,>=0.4.0->dataclasses-json<0.7,>=0.5.7->langchain->university-info-generator==0.0.3) (0.4.3)\n",
      "Requirement already satisfied: httptools>=0.5.0 in /home/ivan/anaconda3/envs/gpu/lib/python3.9/site-packages (from uvicorn[standard]>=0.18.3->chromadb<0.5.0,>=0.4.0->langchain-chroma->university-info-generator==0.0.3) (0.6.1)\n",
      "Requirement already satisfied: uvloop!=0.15.0,!=0.15.1,>=0.14.0 in /home/ivan/anaconda3/envs/gpu/lib/python3.9/site-packages (from uvicorn[standard]>=0.18.3->chromadb<0.5.0,>=0.4.0->langchain-chroma->university-info-generator==0.0.3) (0.19.0)\n",
      "Requirement already satisfied: watchfiles>=0.13 in /home/ivan/anaconda3/envs/gpu/lib/python3.9/site-packages (from uvicorn[standard]>=0.18.3->chromadb<0.5.0,>=0.4.0->langchain-chroma->university-info-generator==0.0.3) (0.21.0)\n",
      "Requirement already satisfied: websockets>=10.4 in /home/ivan/anaconda3/envs/gpu/lib/python3.9/site-packages (from uvicorn[standard]>=0.18.3->chromadb<0.5.0,>=0.4.0->langchain-chroma->university-info-generator==0.0.3) (12.0)\n",
      "Requirement already satisfied: zipp>=3.1.0 in /home/ivan/anaconda3/envs/gpu/lib/python3.9/site-packages (from importlib-resources->chromadb<0.5.0,>=0.4.0->langchain-chroma->university-info-generator==0.0.3) (3.11.0)\n",
      "Requirement already satisfied: filelock in /home/ivan/anaconda3/envs/gpu/lib/python3.9/site-packages (from huggingface-hub<1.0,>=0.16.4->tokenizers>=0.13.2->chromadb<0.5.0,>=0.4.0->langchain-chroma->university-info-generator==0.0.3) (3.9.0)\n",
      "Requirement already satisfied: fsspec>=2023.5.0 in /home/ivan/anaconda3/envs/gpu/lib/python3.9/site-packages (from huggingface-hub<1.0,>=0.16.4->tokenizers>=0.13.2->chromadb<0.5.0,>=0.4.0->langchain-chroma->university-info-generator==0.0.3) (2024.3.1)\n",
      "Requirement already satisfied: markdown-it-py>=2.2.0 in /home/ivan/anaconda3/envs/gpu/lib/python3.9/site-packages (from rich>=10.11.0->typer>=0.9.0->chromadb<0.5.0,>=0.4.0->langchain-chroma->university-info-generator==0.0.3) (3.0.0)\n",
      "Requirement already satisfied: pygments<3.0.0,>=2.13.0 in /home/ivan/anaconda3/envs/gpu/lib/python3.9/site-packages (from rich>=10.11.0->typer>=0.9.0->chromadb<0.5.0,>=0.4.0->langchain-chroma->university-info-generator==0.0.3) (2.17.2)\n",
      "Requirement already satisfied: humanfriendly>=9.1 in /home/ivan/anaconda3/envs/gpu/lib/python3.9/site-packages (from coloredlogs->onnxruntime>=1.14.1->chromadb<0.5.0,>=0.4.0->langchain-chroma->university-info-generator==0.0.3) (10.0)\n",
      "Requirement already satisfied: mpmath>=0.19 in /home/ivan/anaconda3/envs/gpu/lib/python3.9/site-packages (from sympy->onnxruntime>=1.14.1->chromadb<0.5.0,>=0.4.0->langchain-chroma->university-info-generator==0.0.3) (1.2.1)\n",
      "Requirement already satisfied: mdurl~=0.1 in /home/ivan/anaconda3/envs/gpu/lib/python3.9/site-packages (from markdown-it-py>=2.2.0->rich>=10.11.0->typer>=0.9.0->chromadb<0.5.0,>=0.4.0->langchain-chroma->university-info-generator==0.0.3) (0.1.2)\n",
      "Installing collected packages: university-info-generator\n",
      "  Attempting uninstall: university-info-generator\n",
      "    Found existing installation: university-info-generator 0.0.3\n",
      "    Uninstalling university-info-generator-0.0.3:\n",
      "      Successfully uninstalled university-info-generator-0.0.3\n",
      "  Running setup.py develop for university-info-generator\n",
      "Successfully installed university-info-generator-0.0.3\n",
      "Directory already exists: /home/ivan/Uforse/university_crawl/cache_repo\n",
      "Environment variables set:\n",
      "PROJECT_HOME=/home/ivan/Uforse/university_crawl\n",
      "PYTHONPATH=/home/ivan/Uforse/university_crawl:\n",
      "API_KEY_PATH=/home/ivan/Uforse/university_crawl\n",
      "CACHE_REPO_PATH=/home/ivan/Uforse/university_crawl/cache_repo\n",
      "LANGCHAIN_API_KEY=ls__3780df60c0ef4fd2b2414f032feb31ce\n",
      "Environment set up for uni_info_generator\n",
      "build executed successfully.\n"
     ]
    }
   ],
   "source": [
    "%%sh\n",
    "current_path=$(pwd)\n",
    "parent_dir=$(dirname \"$current_dir\")\n",
    "export PROJECT_HOME=\"/home/ivan/Uforse/university_crawl\"\n",
    "echo $PROJECT_HOME\n",
    "if [ -f \"${PROJECT_HOME}/build\" ]; then\n",
    "    echo \"Found .bashrc in PROJECT_HOME. Sourcing now...\"\n",
    "    . \"${PROJECT_HOME}/build\"\n",
    "    echo \"build executed successfully.\"\n",
    "else\n",
    "    echo \"Error: build not found in PROJECT_HOME.\"\n",
    "fi"
   ]
  },
  {
   "cell_type": "code",
   "execution_count": 5,
   "metadata": {},
   "outputs": [
    {
     "name": "stdout",
     "output_type": "stream",
     "text": [
      "/home/ivan/anaconda3/envs/gpu/bin/python\n"
     ]
    }
   ],
   "source": [
    "import os\n",
    "import sys\n",
    "from pprint import pprint\n",
    "\n",
    "#'/home/ivan/Uforse/university_crawl/fetch_logic'\n",
    "current_path = os.path.abspath('./')\n",
    "\n",
    "#'/home/ivan/Uforse/university_crawl'\n",
    "parent_path = os.path.dirname(current_path)\n",
    "sys.path.append(parent_path)\n",
    "import sys\n",
    "print(sys.executable)\n",
    "sys.path.append('/home/ivan/Uforse/university_crawl')"
   ]
  },
  {
   "cell_type": "code",
   "execution_count": 6,
   "metadata": {},
   "outputs": [],
   "source": [
    "import university_info_generator"
   ]
  },
  {
   "cell_type": "code",
   "execution_count": 7,
   "metadata": {},
   "outputs": [],
   "source": [
    "from university_info_generator import config\n",
    "from university_info_generator import UniversityInfoGenerator as uni\n",
    "from university_info_generator import BasicInfoType, SavedDictType, GPTMethodType, HandlerType\n",
    "from university_info_generator.utility.google_sheet_utility import *\n",
    "from university_info_generator.utility.save_load_utility import *\n",
    "from university_info_generator.configs import ALL_ATTRIBUTE_NAME"
   ]
  },
  {
   "cell_type": "markdown",
   "metadata": {},
   "source": [
    "## useful methods"
   ]
  },
  {
   "cell_type": "code",
   "execution_count": 8,
   "metadata": {},
   "outputs": [],
   "source": [
    "def filter_jsonl_file(input_filepath, output_filepath, keyword):\n",
    "    \"\"\"\n",
    "    Reads a JSONL file and writes out only those lines that do not contain the specified keyword.\n",
    "\n",
    "    Args:\n",
    "    - input_filepath (str): Path to the input JSONL file.\n",
    "    - output_filepath (str): Path to the output JSONL file where results should be saved.\n",
    "    - keyword (str): Keyword to search for in each JSON object to decide if it should be excluded.\n",
    "    \"\"\"\n",
    "    with open(input_filepath, 'r', encoding='utf-8') as file, open(output_filepath, 'w', encoding='utf-8') as outfile:\n",
    "        for line in file:\n",
    "            if keyword not in line:  # Check if the keyword is in the line\n",
    "                outfile.write(line)  # Write the line to the output file if keyword is not found\n",
    "\n",
    "def extract_university_names(worksheet):\n",
    "    # Get all values in the first column (index 1)\n",
    "    university_names = worksheet.col_values(1)  # This retrieves all data in the first column\n",
    "    # Optionally, you might want to skip the header or any empty values\n",
    "    university_names = [name.strip() for name in university_names if name.strip() != '']\n",
    "    return university_names\n",
    "\n",
    "# # threading template\n",
    "# def fetch_university_info(uni_gen, university_name, results, index):\n",
    "#     # Retrieve university info and store it in the results list at the correct index\n",
    "#     results[index] = uni_gen.get_university_info(university_name)\n",
    "\n",
    "# results = [None] * len(lst)\n",
    "# threads = []\n",
    "# for i, university in enumerate(lst[:3]):\n",
    "#     thread = threading.Thread(target=fetch_university_info, args=(uni_gen, university, results, i))\n",
    "#     threads.append(thread)\n",
    "#     thread.start()\n",
    "\n",
    "# for thread in threads:\n",
    "#     thread.join()"
   ]
  },
  {
   "cell_type": "markdown",
   "metadata": {},
   "source": [
    "## Get Attr list"
   ]
  },
  {
   "cell_type": "code",
   "execution_count": 9,
   "metadata": {},
   "outputs": [],
   "source": [
    "attr_df = get_attribute_df()\n",
    "# attr_df.head(25)"
   ]
  },
  {
   "cell_type": "code",
   "execution_count": 10,
   "metadata": {},
   "outputs": [],
   "source": [
    "store_cache(config.UNIVERSITY_ATTRIBUTE_CACHE_FILE_PATH, get_attribute_dict())"
   ]
  },
  {
   "cell_type": "markdown",
   "metadata": {},
   "source": [
    "## Main train logic"
   ]
  },
  {
   "cell_type": "code",
   "execution_count": 11,
   "metadata": {},
   "outputs": [],
   "source": [
    "uni_gen = uni()\n",
    "uni_gen.load_from_file(SavedDictType.ATTRIBUTE, config.UNIVERSITY_ATTRIBUTE_CACHE_FILE_PATH)\n",
    "# uni_gen.load_from_file(SavedDictType.GPT_CACHE, \"./gpt_cache.jsonl\")\n",
    "uni_gen.load_from_file(SavedDictType.UNIVERSITY_BASIC_INFO, \"./university_basic_info.jsonl\")\n",
    "# uni_gen.load_from_file(SavedDictType.UNIVERSITY_INFO, \"./university_info.jsonl\")\n"
   ]
  },
  {
   "cell_type": "code",
   "execution_count": 12,
   "metadata": {},
   "outputs": [],
   "source": [
    "# pprint(uni_gen.attribute_dict)"
   ]
  },
  {
   "cell_type": "code",
   "execution_count": 13,
   "metadata": {},
   "outputs": [
    {
     "name": "stdout",
     "output_type": "stream",
     "text": [
      "dict_keys(['attribute_format', 'attribute_reference', 'attribute_prompt', 'example', 'handler', 'k_value', 'mapping'])\n"
     ]
    }
   ],
   "source": [
    "pprint(uni_gen.attribute_dict[\"location\"].keys())"
   ]
  },
  {
   "cell_type": "code",
   "execution_count": 14,
   "metadata": {},
   "outputs": [
    {
     "name": "stdout",
     "output_type": "stream",
     "text": [
      "{'attribute_format': 'Union[int, str]',\n",
      " 'attribute_prompt': '',\n",
      " 'attribute_reference': '[\"https://www.shanghairanking.com/rankings/arwu/2023.html\", '\n",
      "                        '\"https://www.shanghairanking.com/institution\"]',\n",
      " 'example': '\"44\", \"100-200\"',\n",
      " 'handler': <HandlerType.LANGCHAIN_TAVILY: 16>,\n",
      " 'k_value': 3.0,\n",
      " 'mapping': '2023 Academic Ranking of World Universities, ShanghaiRanking'}\n"
     ]
    }
   ],
   "source": [
    "pprint(uni_gen.attribute_dict[\"ranking_arwu_rank_2023\"])"
   ]
  },
  {
   "cell_type": "code",
   "execution_count": 15,
   "metadata": {},
   "outputs": [],
   "source": [
    "target_worksheet = get_worksheet()\n"
   ]
  },
  {
   "cell_type": "code",
   "execution_count": 16,
   "metadata": {},
   "outputs": [],
   "source": [
    "target_university = get_worksheet(\n",
    "    spreadsheet_title= \"working_extract_info_output\",\n",
    "    sheetname= \"target_university_list\",\n",
    "    sheet_client= get_sheet_client(),\n",
    ")\n"
   ]
  },
  {
   "cell_type": "code",
   "execution_count": 17,
   "metadata": {},
   "outputs": [
    {
     "name": "stdout",
     "output_type": "stream",
     "text": [
      "['Adler Graduate Professional School',\n",
      " 'Alberta Business School - University of Alberta',\n",
      " 'Algoma University',\n",
      " 'Algonquin College',\n",
      " 'Asper School of Business - University of Manitoba',\n",
      " 'Assiniboine Community College',\n",
      " 'Athabasca University',\n",
      " 'Beedie School of Business - Simon Fraser University',\n",
      " \"Bishop's University\",\n",
      " 'Bow Valley College',\n",
      " 'UW',\n",
      " 'UofT',\n",
      " 'University Of British Columbia',\n",
      " 'University of Calgary']\n"
     ]
    }
   ],
   "source": [
    "lst = extract_university_names(target_university)[1:][:10]\n",
    "lst.extend([\"UW\", \"UofT\", \"University Of British Columbia\", \"University of Calgary\"])\n",
    "pprint(lst)"
   ]
  },
  {
   "cell_type": "code",
   "execution_count": 18,
   "metadata": {},
   "outputs": [
    {
     "name": "stdout",
     "output_type": "stream",
     "text": [
      "('[\"https://www.shanghairanking.com/rankings/arwu/2023.html\", '\n",
      " '\"https://www.shanghairanking.com/institution\"]')\n"
     ]
    }
   ],
   "source": [
    "pprint(uni_gen.attribute_dict[\"ranking_arwu_rank_2023\"][\"attribute_reference\"])"
   ]
  },
  {
   "cell_type": "code",
   "execution_count": 19,
   "metadata": {},
   "outputs": [],
   "source": [
    "from university_info_generator.configs.enum_class import GeneralInfoType, AttributeColumnType"
   ]
  },
  {
   "cell_type": "code",
   "execution_count": 20,
   "metadata": {},
   "outputs": [
    {
     "name": "stdout",
     "output_type": "stream",
     "text": [
      "10\n"
     ]
    }
   ],
   "source": [
    "print(AttributeColumnType.K_VALUE.get_default_value())"
   ]
  },
  {
   "cell_type": "code",
   "execution_count": 21,
   "metadata": {},
   "outputs": [],
   "source": [
    "import threading\n"
   ]
  },
  {
   "cell_type": "code",
   "execution_count": 22,
   "metadata": {},
   "outputs": [],
   "source": [
    "import time"
   ]
  },
  {
   "cell_type": "code",
   "execution_count": null,
   "metadata": {
    "notebookRunGroups": {
     "groupValue": "1"
    }
   },
   "outputs": [
    {
     "name": "stdout",
     "output_type": "stream",
     "text": [
      "('[\"https://www.shanghairanking.com/rankings/arwu/2023.html\", '\n",
      " '\"https://www.shanghairanking.com/institution\"]')\n"
     ]
    }
   ],
   "source": [
    "# def fetch_university_info(uni_gen, university_name, results, index):\n",
    "#     # Retrieve university info and store it in the results list at the correct index\n",
    "#     results[index] = uni_gen.get_university_info(university_name)\n",
    "\n",
    "# results = [None] * len(lst)\n",
    "# threads = []\n",
    "# for i, university in enumerate(lst[:3]):\n",
    "#     thread = threading.Thread(target=fetch_university_info, args=(uni_gen, university, results, i))\n",
    "#     threads.append(thread)\n",
    "#     time.sleep(30)\n",
    "#     thread.start()\n",
    "\n",
    "# for thread in threads:\n",
    "#     thread.join()\n",
    "# result = uni_gen.get_university_info(lst[0])\n",
    "\n",
    "# for uni in lst:\n",
    "#     uni_gen.get_university_info(uni)\n",
    "\n",
    "# uni_gen.get_info_by_attribute(university_name=\"UW\", attribute_name=\"location\")\n",
    "uni_gen.get_info_by_attribute(university_name=\"UW\", attribute_name=GeneralInfoType.LOCATION.value, handler=HandlerType.LANGCHAIN_SERPER, params={\"transformer\":  \"RecursiveURL\"})"
   ]
  },
  {
   "cell_type": "markdown",
   "metadata": {},
   "source": [
    "## Saving Logic"
   ]
  },
  {
   "cell_type": "code",
   "execution_count": null,
   "metadata": {
    "notebookRunGroups": {
     "groupValue": "1"
    }
   },
   "outputs": [],
   "source": [
    "uni_gen.save_to_file(SavedDictType.UNIVERSITY_INFO, \"./university_info.jsonl\")"
   ]
  },
  {
   "cell_type": "code",
   "execution_count": null,
   "metadata": {},
   "outputs": [],
   "source": [
    "# uni_gen.save_to_file(SavedDictType.UNIVERSITY_BASIC_INFO, \"./university_basic_info.jsonl\")"
   ]
  },
  {
   "cell_type": "code",
   "execution_count": null,
   "metadata": {},
   "outputs": [],
   "source": [
    "uni_gen.save_to_file(SavedDictType.GPT_CACHE, \"./gpt_cache.jsonl\")"
   ]
  },
  {
   "cell_type": "code",
   "execution_count": null,
   "metadata": {},
   "outputs": [],
   "source": [
    "uni_gen.save_to_file(SavedDictType.TROUBLE_PRODUCED, \"./trouble_produced.jsonl\")"
   ]
  },
  {
   "cell_type": "code",
   "execution_count": null,
   "metadata": {
    "notebookRunGroups": {
     "groupValue": "1"
    }
   },
   "outputs": [],
   "source": [
    "clear_worksheet_content(target_worksheet)"
   ]
  },
  {
   "cell_type": "code",
   "execution_count": null,
   "metadata": {
    "notebookRunGroups": {
     "groupValue": "1"
    }
   },
   "outputs": [
    {
     "name": "stdout",
     "output_type": "stream",
     "text": [
      "An error occurred: Missing columns in DataFrame that are expected in the worksheet: {'graduation_rate', 'ranking_times_rank_2024', 'characteristics', 'university_type', 'popular_programs', 'description', 'website', 'domestic_student_tuition', 'international_student_tuition', 'others', 'abbreviation', 'statistics', 'ranking_us_news_2023', 'ranking_qs_news_2024', 'location', 'important_calendar', 'programs', 'faculty', 'id_', 'ranking_arwu_rank_2023', 'graduation_year', 'university_name', 'wikipedia'}\n"
     ]
    }
   ],
   "source": [
    "write_cache_to_worksheet(\"university_info.jsonl\", target_worksheet)\n"
   ]
  }
 ],
 "metadata": {
  "kernelspec": {
   "display_name": "gpu",
   "language": "python",
   "name": "python3"
  },
  "language_info": {
   "codemirror_mode": {
    "name": "ipython",
    "version": 3
   },
   "file_extension": ".py",
   "mimetype": "text/x-python",
   "name": "python",
   "nbconvert_exporter": "python",
   "pygments_lexer": "ipython3",
   "version": "3.9.16"
  }
 },
 "nbformat": 4,
 "nbformat_minor": 2
}
