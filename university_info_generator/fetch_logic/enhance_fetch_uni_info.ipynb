{
 "cells": [
  {
   "cell_type": "markdown",
   "metadata": {},
   "source": [
    "# Process logic"
   ]
  },
  {
   "cell_type": "markdown",
   "metadata": {},
   "source": [
    "## Setup env"
   ]
  },
  {
   "cell_type": "code",
   "execution_count": 1,
   "metadata": {
    "vscode": {
     "languageId": "shellscript"
    }
   },
   "outputs": [
    {
     "name": "stdout",
     "output_type": "stream",
     "text": [
      "/home/ivan/Uforse/university_crawl\n",
      "Found build in PROJECT_HOME. Sourcing now...\n",
      "Obtaining file:///home/ivan/Uforse/university_crawl/university_info_generator\n",
      "  Preparing metadata (setup.py): started\n",
      "  Preparing metadata (setup.py): finished with status 'done'\n",
      "Requirement already satisfied: pandas in /home/ivan/anaconda3/envs/university_crawl/lib/python3.12/site-packages (from university_info_generator==0.0.3) (2.2.2)\n",
      "Requirement already satisfied: numpy in /home/ivan/anaconda3/envs/university_crawl/lib/python3.12/site-packages (from university_info_generator==0.0.3) (1.26.4)\n",
      "Requirement already satisfied: gspread in /home/ivan/anaconda3/envs/university_crawl/lib/python3.12/site-packages (from university_info_generator==0.0.3) (6.1.0)\n",
      "Requirement already satisfied: oauth2client in /home/ivan/anaconda3/envs/university_crawl/lib/python3.12/site-packages (from university_info_generator==0.0.3) (4.1.3)\n",
      "Requirement already satisfied: openai in /home/ivan/anaconda3/envs/university_crawl/lib/python3.12/site-packages (from university_info_generator==0.0.3) (1.28.1)\n",
      "Requirement already satisfied: python-dotenv in /home/ivan/anaconda3/envs/university_crawl/lib/python3.12/site-packages (from university_info_generator==0.0.3) (1.0.1)\n",
      "Requirement already satisfied: gspread_dataframe in /home/ivan/anaconda3/envs/university_crawl/lib/python3.12/site-packages (from university_info_generator==0.0.3) (3.3.1)\n",
      "Requirement already satisfied: bs4 in /home/ivan/anaconda3/envs/university_crawl/lib/python3.12/site-packages (from university_info_generator==0.0.3) (0.0.2)\n",
      "Requirement already satisfied: tenacity in /home/ivan/anaconda3/envs/university_crawl/lib/python3.12/site-packages (from university_info_generator==0.0.3) (8.3.0)\n",
      "Requirement already satisfied: langchain in /home/ivan/anaconda3/envs/university_crawl/lib/python3.12/site-packages (from university_info_generator==0.0.3) (0.1.20)\n",
      "Requirement already satisfied: langchain-openai in /home/ivan/anaconda3/envs/university_crawl/lib/python3.12/site-packages (from university_info_generator==0.0.3) (0.1.6)\n",
      "Requirement already satisfied: google-api-python-client in /home/ivan/anaconda3/envs/university_crawl/lib/python3.12/site-packages (from university_info_generator==0.0.3) (2.129.0)\n",
      "Requirement already satisfied: langchain-chroma in /home/ivan/anaconda3/envs/university_crawl/lib/python3.12/site-packages (from university_info_generator==0.0.3) (0.1.0)\n",
      "Requirement already satisfied: tavily-python in /home/ivan/anaconda3/envs/university_crawl/lib/python3.12/site-packages (from university_info_generator==0.0.3) (0.3.3)\n",
      "Requirement already satisfied: selenium in /home/ivan/anaconda3/envs/university_crawl/lib/python3.12/site-packages (from university_info_generator==0.0.3) (4.20.0)\n",
      "Requirement already satisfied: g4f in /home/ivan/anaconda3/envs/university_crawl/lib/python3.12/site-packages (from university_info_generator==0.0.3) (0.3.1.0)\n",
      "Requirement already satisfied: beautifulsoup4 in /home/ivan/anaconda3/envs/university_crawl/lib/python3.12/site-packages (from bs4->university_info_generator==0.0.3) (4.12.3)\n",
      "Requirement already satisfied: requests in /home/ivan/anaconda3/envs/university_crawl/lib/python3.12/site-packages (from g4f->university_info_generator==0.0.3) (2.31.0)\n",
      "Requirement already satisfied: aiohttp in /home/ivan/anaconda3/envs/university_crawl/lib/python3.12/site-packages (from g4f->university_info_generator==0.0.3) (3.9.5)\n",
      "Requirement already satisfied: brotli in /home/ivan/anaconda3/envs/university_crawl/lib/python3.12/site-packages (from g4f->university_info_generator==0.0.3) (1.1.0)\n",
      "Requirement already satisfied: pycryptodome in /home/ivan/anaconda3/envs/university_crawl/lib/python3.12/site-packages (from g4f->university_info_generator==0.0.3) (3.20.0)\n",
      "Requirement already satisfied: httplib2<1.dev0,>=0.19.0 in /home/ivan/anaconda3/envs/university_crawl/lib/python3.12/site-packages (from google-api-python-client->university_info_generator==0.0.3) (0.22.0)\n",
      "Requirement already satisfied: google-auth!=2.24.0,!=2.25.0,<3.0.0.dev0,>=1.32.0 in /home/ivan/anaconda3/envs/university_crawl/lib/python3.12/site-packages (from google-api-python-client->university_info_generator==0.0.3) (2.29.0)\n",
      "Requirement already satisfied: google-auth-httplib2<1.0.0,>=0.2.0 in /home/ivan/anaconda3/envs/university_crawl/lib/python3.12/site-packages (from google-api-python-client->university_info_generator==0.0.3) (0.2.0)\n",
      "Requirement already satisfied: google-api-core!=2.0.*,!=2.1.*,!=2.2.*,!=2.3.0,<3.0.0.dev0,>=1.31.5 in /home/ivan/anaconda3/envs/university_crawl/lib/python3.12/site-packages (from google-api-python-client->university_info_generator==0.0.3) (2.19.0)\n",
      "Requirement already satisfied: uritemplate<5,>=3.0.1 in /home/ivan/anaconda3/envs/university_crawl/lib/python3.12/site-packages (from google-api-python-client->university_info_generator==0.0.3) (4.1.1)\n",
      "Requirement already satisfied: google-auth-oauthlib>=0.4.1 in /home/ivan/anaconda3/envs/university_crawl/lib/python3.12/site-packages (from gspread->university_info_generator==0.0.3) (1.2.0)\n",
      "Requirement already satisfied: StrEnum==0.4.15 in /home/ivan/anaconda3/envs/university_crawl/lib/python3.12/site-packages (from gspread->university_info_generator==0.0.3) (0.4.15)\n",
      "Requirement already satisfied: six>=1.12.0 in /home/ivan/anaconda3/envs/university_crawl/lib/python3.12/site-packages (from gspread_dataframe->university_info_generator==0.0.3) (1.16.0)\n",
      "Requirement already satisfied: python-dateutil>=2.8.2 in /home/ivan/anaconda3/envs/university_crawl/lib/python3.12/site-packages (from pandas->university_info_generator==0.0.3) (2.9.0)\n",
      "Requirement already satisfied: pytz>=2020.1 in /home/ivan/anaconda3/envs/university_crawl/lib/python3.12/site-packages (from pandas->university_info_generator==0.0.3) (2024.1)\n",
      "Requirement already satisfied: tzdata>=2022.7 in /home/ivan/anaconda3/envs/university_crawl/lib/python3.12/site-packages (from pandas->university_info_generator==0.0.3) (2024.1)\n",
      "Requirement already satisfied: PyYAML>=5.3 in /home/ivan/anaconda3/envs/university_crawl/lib/python3.12/site-packages (from langchain->university_info_generator==0.0.3) (6.0.1)\n",
      "Requirement already satisfied: SQLAlchemy<3,>=1.4 in /home/ivan/anaconda3/envs/university_crawl/lib/python3.12/site-packages (from langchain->university_info_generator==0.0.3) (2.0.30)\n",
      "Requirement already satisfied: dataclasses-json<0.7,>=0.5.7 in /home/ivan/anaconda3/envs/university_crawl/lib/python3.12/site-packages (from langchain->university_info_generator==0.0.3) (0.6.6)\n",
      "Requirement already satisfied: langchain-community<0.1,>=0.0.38 in /home/ivan/anaconda3/envs/university_crawl/lib/python3.12/site-packages (from langchain->university_info_generator==0.0.3) (0.0.38)\n",
      "Requirement already satisfied: langchain-core<0.2.0,>=0.1.52 in /home/ivan/anaconda3/envs/university_crawl/lib/python3.12/site-packages (from langchain->university_info_generator==0.0.3) (0.1.52)\n",
      "Requirement already satisfied: langchain-text-splitters<0.1,>=0.0.1 in /home/ivan/anaconda3/envs/university_crawl/lib/python3.12/site-packages (from langchain->university_info_generator==0.0.3) (0.0.1)\n",
      "Requirement already satisfied: langsmith<0.2.0,>=0.1.17 in /home/ivan/anaconda3/envs/university_crawl/lib/python3.12/site-packages (from langchain->university_info_generator==0.0.3) (0.1.57)\n",
      "Requirement already satisfied: pydantic<3,>=1 in /home/ivan/anaconda3/envs/university_crawl/lib/python3.12/site-packages (from langchain->university_info_generator==0.0.3) (2.7.1)\n",
      "Requirement already satisfied: chromadb<0.5.0,>=0.4.0 in /home/ivan/anaconda3/envs/university_crawl/lib/python3.12/site-packages (from langchain-chroma->university_info_generator==0.0.3) (0.4.24)\n",
      "Requirement already satisfied: fastapi<1,>=0.95.2 in /home/ivan/anaconda3/envs/university_crawl/lib/python3.12/site-packages (from langchain-chroma->university_info_generator==0.0.3) (0.111.0)\n",
      "Requirement already satisfied: tiktoken<1,>=0.5.2 in /home/ivan/anaconda3/envs/university_crawl/lib/python3.12/site-packages (from langchain-openai->university_info_generator==0.0.3) (0.6.0)\n",
      "Requirement already satisfied: anyio<5,>=3.5.0 in /home/ivan/anaconda3/envs/university_crawl/lib/python3.12/site-packages (from openai->university_info_generator==0.0.3) (4.3.0)\n",
      "Requirement already satisfied: distro<2,>=1.7.0 in /home/ivan/anaconda3/envs/university_crawl/lib/python3.12/site-packages (from openai->university_info_generator==0.0.3) (1.9.0)\n",
      "Requirement already satisfied: httpx<1,>=0.23.0 in /home/ivan/anaconda3/envs/university_crawl/lib/python3.12/site-packages (from openai->university_info_generator==0.0.3) (0.27.0)\n",
      "Requirement already satisfied: sniffio in /home/ivan/anaconda3/envs/university_crawl/lib/python3.12/site-packages (from openai->university_info_generator==0.0.3) (1.3.1)\n",
      "Requirement already satisfied: tqdm>4 in /home/ivan/anaconda3/envs/university_crawl/lib/python3.12/site-packages (from openai->university_info_generator==0.0.3) (4.66.4)\n",
      "Requirement already satisfied: typing-extensions<5,>=4.7 in /home/ivan/anaconda3/envs/university_crawl/lib/python3.12/site-packages (from openai->university_info_generator==0.0.3) (4.11.0)\n",
      "Requirement already satisfied: pyasn1>=0.1.7 in /home/ivan/anaconda3/envs/university_crawl/lib/python3.12/site-packages (from oauth2client->university_info_generator==0.0.3) (0.6.0)\n",
      "Requirement already satisfied: pyasn1-modules>=0.0.5 in /home/ivan/anaconda3/envs/university_crawl/lib/python3.12/site-packages (from oauth2client->university_info_generator==0.0.3) (0.4.0)\n",
      "Requirement already satisfied: rsa>=3.1.4 in /home/ivan/anaconda3/envs/university_crawl/lib/python3.12/site-packages (from oauth2client->university_info_generator==0.0.3) (4.9)\n",
      "Requirement already satisfied: urllib3<3,>=1.26 in /home/ivan/anaconda3/envs/university_crawl/lib/python3.12/site-packages (from urllib3[socks]<3,>=1.26->selenium->university_info_generator==0.0.3) (2.2.1)\n",
      "Requirement already satisfied: trio~=0.17 in /home/ivan/anaconda3/envs/university_crawl/lib/python3.12/site-packages (from selenium->university_info_generator==0.0.3) (0.25.0)\n",
      "Requirement already satisfied: trio-websocket~=0.9 in /home/ivan/anaconda3/envs/university_crawl/lib/python3.12/site-packages (from selenium->university_info_generator==0.0.3) (0.11.1)\n",
      "Requirement already satisfied: certifi>=2021.10.8 in /home/ivan/anaconda3/envs/university_crawl/lib/python3.12/site-packages (from selenium->university_info_generator==0.0.3) (2024.2.2)\n",
      "Requirement already satisfied: aiosignal>=1.1.2 in /home/ivan/anaconda3/envs/university_crawl/lib/python3.12/site-packages (from aiohttp->g4f->university_info_generator==0.0.3) (1.3.1)\n",
      "Requirement already satisfied: attrs>=17.3.0 in /home/ivan/anaconda3/envs/university_crawl/lib/python3.12/site-packages (from aiohttp->g4f->university_info_generator==0.0.3) (23.2.0)\n",
      "Requirement already satisfied: frozenlist>=1.1.1 in /home/ivan/anaconda3/envs/university_crawl/lib/python3.12/site-packages (from aiohttp->g4f->university_info_generator==0.0.3) (1.4.1)\n",
      "Requirement already satisfied: multidict<7.0,>=4.5 in /home/ivan/anaconda3/envs/university_crawl/lib/python3.12/site-packages (from aiohttp->g4f->university_info_generator==0.0.3) (6.0.5)\n",
      "Requirement already satisfied: yarl<2.0,>=1.0 in /home/ivan/anaconda3/envs/university_crawl/lib/python3.12/site-packages (from aiohttp->g4f->university_info_generator==0.0.3) (1.9.4)\n",
      "Requirement already satisfied: idna>=2.8 in /home/ivan/anaconda3/envs/university_crawl/lib/python3.12/site-packages (from anyio<5,>=3.5.0->openai->university_info_generator==0.0.3) (3.7)\n",
      "Requirement already satisfied: build>=1.0.3 in /home/ivan/anaconda3/envs/university_crawl/lib/python3.12/site-packages (from chromadb<0.5.0,>=0.4.0->langchain-chroma->university_info_generator==0.0.3) (1.2.1)\n",
      "Requirement already satisfied: chroma-hnswlib==0.7.3 in /home/ivan/anaconda3/envs/university_crawl/lib/python3.12/site-packages (from chromadb<0.5.0,>=0.4.0->langchain-chroma->university_info_generator==0.0.3) (0.7.3)\n",
      "Requirement already satisfied: uvicorn>=0.18.3 in /home/ivan/anaconda3/envs/university_crawl/lib/python3.12/site-packages (from uvicorn[standard]>=0.18.3->chromadb<0.5.0,>=0.4.0->langchain-chroma->university_info_generator==0.0.3) (0.29.0)\n",
      "Requirement already satisfied: posthog>=2.4.0 in /home/ivan/anaconda3/envs/university_crawl/lib/python3.12/site-packages (from chromadb<0.5.0,>=0.4.0->langchain-chroma->university_info_generator==0.0.3) (3.5.0)\n",
      "Requirement already satisfied: pulsar-client>=3.1.0 in /home/ivan/anaconda3/envs/university_crawl/lib/python3.12/site-packages (from chromadb<0.5.0,>=0.4.0->langchain-chroma->university_info_generator==0.0.3) (3.5.0)\n",
      "Requirement already satisfied: onnxruntime>=1.14.1 in /home/ivan/anaconda3/envs/university_crawl/lib/python3.12/site-packages (from chromadb<0.5.0,>=0.4.0->langchain-chroma->university_info_generator==0.0.3) (1.17.3)\n",
      "Requirement already satisfied: opentelemetry-api>=1.2.0 in /home/ivan/anaconda3/envs/university_crawl/lib/python3.12/site-packages (from chromadb<0.5.0,>=0.4.0->langchain-chroma->university_info_generator==0.0.3) (1.24.0)\n",
      "Requirement already satisfied: opentelemetry-exporter-otlp-proto-grpc>=1.2.0 in /home/ivan/anaconda3/envs/university_crawl/lib/python3.12/site-packages (from chromadb<0.5.0,>=0.4.0->langchain-chroma->university_info_generator==0.0.3) (1.24.0)\n",
      "Requirement already satisfied: opentelemetry-instrumentation-fastapi>=0.41b0 in /home/ivan/anaconda3/envs/university_crawl/lib/python3.12/site-packages (from chromadb<0.5.0,>=0.4.0->langchain-chroma->university_info_generator==0.0.3) (0.45b0)\n",
      "Requirement already satisfied: opentelemetry-sdk>=1.2.0 in /home/ivan/anaconda3/envs/university_crawl/lib/python3.12/site-packages (from chromadb<0.5.0,>=0.4.0->langchain-chroma->university_info_generator==0.0.3) (1.24.0)\n",
      "Requirement already satisfied: tokenizers>=0.13.2 in /home/ivan/anaconda3/envs/university_crawl/lib/python3.12/site-packages (from chromadb<0.5.0,>=0.4.0->langchain-chroma->university_info_generator==0.0.3) (0.19.1)\n",
      "Requirement already satisfied: pypika>=0.48.9 in /home/ivan/anaconda3/envs/university_crawl/lib/python3.12/site-packages (from chromadb<0.5.0,>=0.4.0->langchain-chroma->university_info_generator==0.0.3) (0.48.9)\n",
      "Requirement already satisfied: overrides>=7.3.1 in /home/ivan/anaconda3/envs/university_crawl/lib/python3.12/site-packages (from chromadb<0.5.0,>=0.4.0->langchain-chroma->university_info_generator==0.0.3) (7.7.0)\n",
      "Requirement already satisfied: importlib-resources in /home/ivan/anaconda3/envs/university_crawl/lib/python3.12/site-packages (from chromadb<0.5.0,>=0.4.0->langchain-chroma->university_info_generator==0.0.3) (6.4.0)\n",
      "Requirement already satisfied: grpcio>=1.58.0 in /home/ivan/anaconda3/envs/university_crawl/lib/python3.12/site-packages (from chromadb<0.5.0,>=0.4.0->langchain-chroma->university_info_generator==0.0.3) (1.63.0)\n",
      "Requirement already satisfied: bcrypt>=4.0.1 in /home/ivan/anaconda3/envs/university_crawl/lib/python3.12/site-packages (from chromadb<0.5.0,>=0.4.0->langchain-chroma->university_info_generator==0.0.3) (4.1.3)\n",
      "Requirement already satisfied: typer>=0.9.0 in /home/ivan/anaconda3/envs/university_crawl/lib/python3.12/site-packages (from chromadb<0.5.0,>=0.4.0->langchain-chroma->university_info_generator==0.0.3) (0.12.3)\n",
      "Requirement already satisfied: kubernetes>=28.1.0 in /home/ivan/anaconda3/envs/university_crawl/lib/python3.12/site-packages (from chromadb<0.5.0,>=0.4.0->langchain-chroma->university_info_generator==0.0.3) (29.0.0)\n",
      "Requirement already satisfied: mmh3>=4.0.1 in /home/ivan/anaconda3/envs/university_crawl/lib/python3.12/site-packages (from chromadb<0.5.0,>=0.4.0->langchain-chroma->university_info_generator==0.0.3) (4.1.0)\n",
      "Requirement already satisfied: orjson>=3.9.12 in /home/ivan/anaconda3/envs/university_crawl/lib/python3.12/site-packages (from chromadb<0.5.0,>=0.4.0->langchain-chroma->university_info_generator==0.0.3) (3.10.3)\n",
      "Requirement already satisfied: marshmallow<4.0.0,>=3.18.0 in /home/ivan/anaconda3/envs/university_crawl/lib/python3.12/site-packages (from dataclasses-json<0.7,>=0.5.7->langchain->university_info_generator==0.0.3) (3.21.2)\n",
      "Requirement already satisfied: typing-inspect<1,>=0.4.0 in /home/ivan/anaconda3/envs/university_crawl/lib/python3.12/site-packages (from dataclasses-json<0.7,>=0.5.7->langchain->university_info_generator==0.0.3) (0.9.0)\n",
      "Requirement already satisfied: starlette<0.38.0,>=0.37.2 in /home/ivan/anaconda3/envs/university_crawl/lib/python3.12/site-packages (from fastapi<1,>=0.95.2->langchain-chroma->university_info_generator==0.0.3) (0.37.2)\n",
      "Requirement already satisfied: fastapi-cli>=0.0.2 in /home/ivan/anaconda3/envs/university_crawl/lib/python3.12/site-packages (from fastapi<1,>=0.95.2->langchain-chroma->university_info_generator==0.0.3) (0.0.3)\n",
      "Requirement already satisfied: jinja2>=2.11.2 in /home/ivan/anaconda3/envs/university_crawl/lib/python3.12/site-packages (from fastapi<1,>=0.95.2->langchain-chroma->university_info_generator==0.0.3) (3.1.4)\n",
      "Requirement already satisfied: python-multipart>=0.0.7 in /home/ivan/anaconda3/envs/university_crawl/lib/python3.12/site-packages (from fastapi<1,>=0.95.2->langchain-chroma->university_info_generator==0.0.3) (0.0.9)\n",
      "Requirement already satisfied: ujson!=4.0.2,!=4.1.0,!=4.2.0,!=4.3.0,!=5.0.0,!=5.1.0,>=4.0.1 in /home/ivan/anaconda3/envs/university_crawl/lib/python3.12/site-packages (from fastapi<1,>=0.95.2->langchain-chroma->university_info_generator==0.0.3) (5.9.0)\n",
      "Requirement already satisfied: email_validator>=2.0.0 in /home/ivan/anaconda3/envs/university_crawl/lib/python3.12/site-packages (from fastapi<1,>=0.95.2->langchain-chroma->university_info_generator==0.0.3) (2.1.1)\n",
      "Requirement already satisfied: googleapis-common-protos<2.0.dev0,>=1.56.2 in /home/ivan/anaconda3/envs/university_crawl/lib/python3.12/site-packages (from google-api-core!=2.0.*,!=2.1.*,!=2.2.*,!=2.3.0,<3.0.0.dev0,>=1.31.5->google-api-python-client->university_info_generator==0.0.3) (1.63.0)\n",
      "Requirement already satisfied: protobuf!=3.20.0,!=3.20.1,!=4.21.0,!=4.21.1,!=4.21.2,!=4.21.3,!=4.21.4,!=4.21.5,<5.0.0.dev0,>=3.19.5 in /home/ivan/anaconda3/envs/university_crawl/lib/python3.12/site-packages (from google-api-core!=2.0.*,!=2.1.*,!=2.2.*,!=2.3.0,<3.0.0.dev0,>=1.31.5->google-api-python-client->university_info_generator==0.0.3) (4.25.3)\n",
      "Requirement already satisfied: proto-plus<2.0.0dev,>=1.22.3 in /home/ivan/anaconda3/envs/university_crawl/lib/python3.12/site-packages (from google-api-core!=2.0.*,!=2.1.*,!=2.2.*,!=2.3.0,<3.0.0.dev0,>=1.31.5->google-api-python-client->university_info_generator==0.0.3) (1.23.0)\n",
      "Requirement already satisfied: cachetools<6.0,>=2.0.0 in /home/ivan/anaconda3/envs/university_crawl/lib/python3.12/site-packages (from google-auth!=2.24.0,!=2.25.0,<3.0.0.dev0,>=1.32.0->google-api-python-client->university_info_generator==0.0.3) (5.3.3)\n",
      "Requirement already satisfied: requests-oauthlib>=0.7.0 in /home/ivan/anaconda3/envs/university_crawl/lib/python3.12/site-packages (from google-auth-oauthlib>=0.4.1->gspread->university_info_generator==0.0.3) (2.0.0)\n",
      "Requirement already satisfied: pyparsing!=3.0.0,!=3.0.1,!=3.0.2,!=3.0.3,<4,>=2.4.2 in /home/ivan/anaconda3/envs/university_crawl/lib/python3.12/site-packages (from httplib2<1.dev0,>=0.19.0->google-api-python-client->university_info_generator==0.0.3) (3.1.2)\n",
      "Requirement already satisfied: httpcore==1.* in /home/ivan/anaconda3/envs/university_crawl/lib/python3.12/site-packages (from httpx<1,>=0.23.0->openai->university_info_generator==0.0.3) (1.0.5)\n",
      "Requirement already satisfied: h11<0.15,>=0.13 in /home/ivan/anaconda3/envs/university_crawl/lib/python3.12/site-packages (from httpcore==1.*->httpx<1,>=0.23.0->openai->university_info_generator==0.0.3) (0.14.0)\n",
      "Requirement already satisfied: jsonpatch<2.0,>=1.33 in /home/ivan/anaconda3/envs/university_crawl/lib/python3.12/site-packages (from langchain-core<0.2.0,>=0.1.52->langchain->university_info_generator==0.0.3) (1.33)\n",
      "Requirement already satisfied: packaging<24.0,>=23.2 in /home/ivan/anaconda3/envs/university_crawl/lib/python3.12/site-packages (from langchain-core<0.2.0,>=0.1.52->langchain->university_info_generator==0.0.3) (23.2)\n",
      "Requirement already satisfied: annotated-types>=0.4.0 in /home/ivan/anaconda3/envs/university_crawl/lib/python3.12/site-packages (from pydantic<3,>=1->langchain->university_info_generator==0.0.3) (0.6.0)\n",
      "Requirement already satisfied: pydantic-core==2.18.2 in /home/ivan/anaconda3/envs/university_crawl/lib/python3.12/site-packages (from pydantic<3,>=1->langchain->university_info_generator==0.0.3) (2.18.2)\n",
      "Requirement already satisfied: charset-normalizer<4,>=2 in /home/ivan/anaconda3/envs/university_crawl/lib/python3.12/site-packages (from requests->g4f->university_info_generator==0.0.3) (3.3.2)\n",
      "Requirement already satisfied: greenlet!=0.4.17 in /home/ivan/anaconda3/envs/university_crawl/lib/python3.12/site-packages (from SQLAlchemy<3,>=1.4->langchain->university_info_generator==0.0.3) (3.0.3)\n",
      "Requirement already satisfied: regex>=2022.1.18 in /home/ivan/anaconda3/envs/university_crawl/lib/python3.12/site-packages (from tiktoken<1,>=0.5.2->langchain-openai->university_info_generator==0.0.3) (2024.5.10)\n",
      "Requirement already satisfied: sortedcontainers in /home/ivan/anaconda3/envs/university_crawl/lib/python3.12/site-packages (from trio~=0.17->selenium->university_info_generator==0.0.3) (2.4.0)\n",
      "Requirement already satisfied: outcome in /home/ivan/anaconda3/envs/university_crawl/lib/python3.12/site-packages (from trio~=0.17->selenium->university_info_generator==0.0.3) (1.3.0.post0)\n",
      "Requirement already satisfied: wsproto>=0.14 in /home/ivan/anaconda3/envs/university_crawl/lib/python3.12/site-packages (from trio-websocket~=0.9->selenium->university_info_generator==0.0.3) (1.2.0)\n",
      "Requirement already satisfied: pysocks!=1.5.7,<2.0,>=1.5.6 in /home/ivan/anaconda3/envs/university_crawl/lib/python3.12/site-packages (from urllib3[socks]<3,>=1.26->selenium->university_info_generator==0.0.3) (1.7.1)\n",
      "Requirement already satisfied: soupsieve>1.2 in /home/ivan/anaconda3/envs/university_crawl/lib/python3.12/site-packages (from beautifulsoup4->bs4->university_info_generator==0.0.3) (2.5)\n",
      "Requirement already satisfied: pyproject_hooks in /home/ivan/anaconda3/envs/university_crawl/lib/python3.12/site-packages (from build>=1.0.3->chromadb<0.5.0,>=0.4.0->langchain-chroma->university_info_generator==0.0.3) (1.1.0)\n",
      "Requirement already satisfied: dnspython>=2.0.0 in /home/ivan/anaconda3/envs/university_crawl/lib/python3.12/site-packages (from email_validator>=2.0.0->fastapi<1,>=0.95.2->langchain-chroma->university_info_generator==0.0.3) (2.6.1)\n",
      "Requirement already satisfied: MarkupSafe>=2.0 in /home/ivan/anaconda3/envs/university_crawl/lib/python3.12/site-packages (from jinja2>=2.11.2->fastapi<1,>=0.95.2->langchain-chroma->university_info_generator==0.0.3) (2.1.5)\n",
      "Requirement already satisfied: jsonpointer>=1.9 in /home/ivan/anaconda3/envs/university_crawl/lib/python3.12/site-packages (from jsonpatch<2.0,>=1.33->langchain-core<0.2.0,>=0.1.52->langchain->university_info_generator==0.0.3) (2.4)\n",
      "Requirement already satisfied: websocket-client!=0.40.0,!=0.41.*,!=0.42.*,>=0.32.0 in /home/ivan/anaconda3/envs/university_crawl/lib/python3.12/site-packages (from kubernetes>=28.1.0->chromadb<0.5.0,>=0.4.0->langchain-chroma->university_info_generator==0.0.3) (1.8.0)\n",
      "Requirement already satisfied: oauthlib>=3.2.2 in /home/ivan/anaconda3/envs/university_crawl/lib/python3.12/site-packages (from kubernetes>=28.1.0->chromadb<0.5.0,>=0.4.0->langchain-chroma->university_info_generator==0.0.3) (3.2.2)\n",
      "Requirement already satisfied: coloredlogs in /home/ivan/anaconda3/envs/university_crawl/lib/python3.12/site-packages (from onnxruntime>=1.14.1->chromadb<0.5.0,>=0.4.0->langchain-chroma->university_info_generator==0.0.3) (15.0.1)\n",
      "Requirement already satisfied: flatbuffers in /home/ivan/anaconda3/envs/university_crawl/lib/python3.12/site-packages (from onnxruntime>=1.14.1->chromadb<0.5.0,>=0.4.0->langchain-chroma->university_info_generator==0.0.3) (24.3.25)\n",
      "Requirement already satisfied: sympy in /home/ivan/anaconda3/envs/university_crawl/lib/python3.12/site-packages (from onnxruntime>=1.14.1->chromadb<0.5.0,>=0.4.0->langchain-chroma->university_info_generator==0.0.3) (1.12)\n",
      "Requirement already satisfied: deprecated>=1.2.6 in /home/ivan/anaconda3/envs/university_crawl/lib/python3.12/site-packages (from opentelemetry-api>=1.2.0->chromadb<0.5.0,>=0.4.0->langchain-chroma->university_info_generator==0.0.3) (1.2.14)\n",
      "Requirement already satisfied: importlib-metadata<=7.0,>=6.0 in /home/ivan/anaconda3/envs/university_crawl/lib/python3.12/site-packages (from opentelemetry-api>=1.2.0->chromadb<0.5.0,>=0.4.0->langchain-chroma->university_info_generator==0.0.3) (7.0.0)\n",
      "Requirement already satisfied: opentelemetry-exporter-otlp-proto-common==1.24.0 in /home/ivan/anaconda3/envs/university_crawl/lib/python3.12/site-packages (from opentelemetry-exporter-otlp-proto-grpc>=1.2.0->chromadb<0.5.0,>=0.4.0->langchain-chroma->university_info_generator==0.0.3) (1.24.0)\n",
      "Requirement already satisfied: opentelemetry-proto==1.24.0 in /home/ivan/anaconda3/envs/university_crawl/lib/python3.12/site-packages (from opentelemetry-exporter-otlp-proto-grpc>=1.2.0->chromadb<0.5.0,>=0.4.0->langchain-chroma->university_info_generator==0.0.3) (1.24.0)\n",
      "Requirement already satisfied: opentelemetry-instrumentation-asgi==0.45b0 in /home/ivan/anaconda3/envs/university_crawl/lib/python3.12/site-packages (from opentelemetry-instrumentation-fastapi>=0.41b0->chromadb<0.5.0,>=0.4.0->langchain-chroma->university_info_generator==0.0.3) (0.45b0)\n",
      "Requirement already satisfied: opentelemetry-instrumentation==0.45b0 in /home/ivan/anaconda3/envs/university_crawl/lib/python3.12/site-packages (from opentelemetry-instrumentation-fastapi>=0.41b0->chromadb<0.5.0,>=0.4.0->langchain-chroma->university_info_generator==0.0.3) (0.45b0)\n",
      "Requirement already satisfied: opentelemetry-semantic-conventions==0.45b0 in /home/ivan/anaconda3/envs/university_crawl/lib/python3.12/site-packages (from opentelemetry-instrumentation-fastapi>=0.41b0->chromadb<0.5.0,>=0.4.0->langchain-chroma->university_info_generator==0.0.3) (0.45b0)\n",
      "Requirement already satisfied: opentelemetry-util-http==0.45b0 in /home/ivan/anaconda3/envs/university_crawl/lib/python3.12/site-packages (from opentelemetry-instrumentation-fastapi>=0.41b0->chromadb<0.5.0,>=0.4.0->langchain-chroma->university_info_generator==0.0.3) (0.45b0)\n",
      "Requirement already satisfied: setuptools>=16.0 in /home/ivan/anaconda3/envs/university_crawl/lib/python3.12/site-packages (from opentelemetry-instrumentation==0.45b0->opentelemetry-instrumentation-fastapi>=0.41b0->chromadb<0.5.0,>=0.4.0->langchain-chroma->university_info_generator==0.0.3) (69.5.1)\n",
      "Requirement already satisfied: wrapt<2.0.0,>=1.0.0 in /home/ivan/anaconda3/envs/university_crawl/lib/python3.12/site-packages (from opentelemetry-instrumentation==0.45b0->opentelemetry-instrumentation-fastapi>=0.41b0->chromadb<0.5.0,>=0.4.0->langchain-chroma->university_info_generator==0.0.3) (1.16.0)\n",
      "Requirement already satisfied: asgiref~=3.0 in /home/ivan/anaconda3/envs/university_crawl/lib/python3.12/site-packages (from opentelemetry-instrumentation-asgi==0.45b0->opentelemetry-instrumentation-fastapi>=0.41b0->chromadb<0.5.0,>=0.4.0->langchain-chroma->university_info_generator==0.0.3) (3.8.1)\n",
      "Requirement already satisfied: monotonic>=1.5 in /home/ivan/anaconda3/envs/university_crawl/lib/python3.12/site-packages (from posthog>=2.4.0->chromadb<0.5.0,>=0.4.0->langchain-chroma->university_info_generator==0.0.3) (1.6)\n",
      "Requirement already satisfied: backoff>=1.10.0 in /home/ivan/anaconda3/envs/university_crawl/lib/python3.12/site-packages (from posthog>=2.4.0->chromadb<0.5.0,>=0.4.0->langchain-chroma->university_info_generator==0.0.3) (2.2.1)\n",
      "Requirement already satisfied: huggingface-hub<1.0,>=0.16.4 in /home/ivan/anaconda3/envs/university_crawl/lib/python3.12/site-packages (from tokenizers>=0.13.2->chromadb<0.5.0,>=0.4.0->langchain-chroma->university_info_generator==0.0.3) (0.23.0)\n",
      "Requirement already satisfied: click>=8.0.0 in /home/ivan/anaconda3/envs/university_crawl/lib/python3.12/site-packages (from typer>=0.9.0->chromadb<0.5.0,>=0.4.0->langchain-chroma->university_info_generator==0.0.3) (8.1.7)\n",
      "Requirement already satisfied: shellingham>=1.3.0 in /home/ivan/anaconda3/envs/university_crawl/lib/python3.12/site-packages (from typer>=0.9.0->chromadb<0.5.0,>=0.4.0->langchain-chroma->university_info_generator==0.0.3) (1.5.4)\n",
      "Requirement already satisfied: rich>=10.11.0 in /home/ivan/anaconda3/envs/university_crawl/lib/python3.12/site-packages (from typer>=0.9.0->chromadb<0.5.0,>=0.4.0->langchain-chroma->university_info_generator==0.0.3) (13.7.1)\n",
      "Requirement already satisfied: mypy-extensions>=0.3.0 in /home/ivan/anaconda3/envs/university_crawl/lib/python3.12/site-packages (from typing-inspect<1,>=0.4.0->dataclasses-json<0.7,>=0.5.7->langchain->university_info_generator==0.0.3) (1.0.0)\n",
      "Requirement already satisfied: httptools>=0.5.0 in /home/ivan/anaconda3/envs/university_crawl/lib/python3.12/site-packages (from uvicorn[standard]>=0.18.3->chromadb<0.5.0,>=0.4.0->langchain-chroma->university_info_generator==0.0.3) (0.6.1)\n",
      "Requirement already satisfied: uvloop!=0.15.0,!=0.15.1,>=0.14.0 in /home/ivan/anaconda3/envs/university_crawl/lib/python3.12/site-packages (from uvicorn[standard]>=0.18.3->chromadb<0.5.0,>=0.4.0->langchain-chroma->university_info_generator==0.0.3) (0.19.0)\n",
      "Requirement already satisfied: watchfiles>=0.13 in /home/ivan/anaconda3/envs/university_crawl/lib/python3.12/site-packages (from uvicorn[standard]>=0.18.3->chromadb<0.5.0,>=0.4.0->langchain-chroma->university_info_generator==0.0.3) (0.21.0)\n",
      "Requirement already satisfied: websockets>=10.4 in /home/ivan/anaconda3/envs/university_crawl/lib/python3.12/site-packages (from uvicorn[standard]>=0.18.3->chromadb<0.5.0,>=0.4.0->langchain-chroma->university_info_generator==0.0.3) (12.0)\n",
      "Requirement already satisfied: filelock in /home/ivan/anaconda3/envs/university_crawl/lib/python3.12/site-packages (from huggingface-hub<1.0,>=0.16.4->tokenizers>=0.13.2->chromadb<0.5.0,>=0.4.0->langchain-chroma->university_info_generator==0.0.3) (3.14.0)\n",
      "Requirement already satisfied: fsspec>=2023.5.0 in /home/ivan/anaconda3/envs/university_crawl/lib/python3.12/site-packages (from huggingface-hub<1.0,>=0.16.4->tokenizers>=0.13.2->chromadb<0.5.0,>=0.4.0->langchain-chroma->university_info_generator==0.0.3) (2024.3.1)\n",
      "Requirement already satisfied: zipp>=0.5 in /home/ivan/anaconda3/envs/university_crawl/lib/python3.12/site-packages (from importlib-metadata<=7.0,>=6.0->opentelemetry-api>=1.2.0->chromadb<0.5.0,>=0.4.0->langchain-chroma->university_info_generator==0.0.3) (3.17.0)\n",
      "Requirement already satisfied: markdown-it-py>=2.2.0 in /home/ivan/anaconda3/envs/university_crawl/lib/python3.12/site-packages (from rich>=10.11.0->typer>=0.9.0->chromadb<0.5.0,>=0.4.0->langchain-chroma->university_info_generator==0.0.3) (3.0.0)\n",
      "Requirement already satisfied: pygments<3.0.0,>=2.13.0 in /home/ivan/anaconda3/envs/university_crawl/lib/python3.12/site-packages (from rich>=10.11.0->typer>=0.9.0->chromadb<0.5.0,>=0.4.0->langchain-chroma->university_info_generator==0.0.3) (2.18.0)\n",
      "Requirement already satisfied: humanfriendly>=9.1 in /home/ivan/anaconda3/envs/university_crawl/lib/python3.12/site-packages (from coloredlogs->onnxruntime>=1.14.1->chromadb<0.5.0,>=0.4.0->langchain-chroma->university_info_generator==0.0.3) (10.0)\n",
      "Requirement already satisfied: mpmath>=0.19 in /home/ivan/anaconda3/envs/university_crawl/lib/python3.12/site-packages (from sympy->onnxruntime>=1.14.1->chromadb<0.5.0,>=0.4.0->langchain-chroma->university_info_generator==0.0.3) (1.3.0)\n",
      "Requirement already satisfied: mdurl~=0.1 in /home/ivan/anaconda3/envs/university_crawl/lib/python3.12/site-packages (from markdown-it-py>=2.2.0->rich>=10.11.0->typer>=0.9.0->chromadb<0.5.0,>=0.4.0->langchain-chroma->university_info_generator==0.0.3) (0.1.2)\n",
      "Installing collected packages: university_info_generator\n",
      "  Attempting uninstall: university_info_generator\n",
      "    Found existing installation: university_info_generator 0.0.3\n",
      "    Uninstalling university_info_generator-0.0.3:\n",
      "      Successfully uninstalled university_info_generator-0.0.3\n",
      "  Running setup.py develop for university_info_generator\n",
      "Successfully installed university_info_generator-0.0.3\n",
      "Directory already exists: /home/ivan/Uforse/university_crawl/cache_repo\n",
      "Environment variables set:\n",
      "PROJECT_HOME=/home/ivan/Uforse/university_crawl\n",
      "PYTHONPATH=/home/ivan/Uforse/university_crawl:\n",
      "API_KEY_PATH=/home/ivan/Uforse/university_crawl\n",
      "CACHE_REPO_PATH=/home/ivan/Uforse/university_crawl/cache_repo\n",
      "LANGCHAIN_API_KEY=ls__3780df60c0ef4fd2b2414f032feb31ce\n",
      "Environment set up for uni_info_generator\n",
      "build executed successfully.\n"
     ]
    }
   ],
   "source": [
    "%%sh\n",
    "# current_path=$(pwd)\n",
    "# parent_dir=$(dirname \"$current_dir\")\n",
    "export PROJECT_HOME=\"/home/ivan/Uforse/university_crawl\"\n",
    "echo $PROJECT_HOME\n",
    "if [ -f \"${PROJECT_HOME}/build\" ]; then\n",
    "    echo \"Found build in PROJECT_HOME. Sourcing now...\"\n",
    "    . \"${PROJECT_HOME}/build\"\n",
    "    echo \"build executed successfully.\"\n",
    "else\n",
    "    echo \"Error: build not found in PROJECT_HOME.\"\n",
    "fi"
   ]
  },
  {
   "cell_type": "code",
   "execution_count": 4,
   "metadata": {},
   "outputs": [
    {
     "name": "stdout",
     "output_type": "stream",
     "text": [
      "Hi there! How can I assist you today? 😊\n"
     ]
    }
   ],
   "source": [
    "from g4f.client import Client\n",
    "\n",
    "client = Client()\n",
    "response = client.chat.completions.create(\n",
    "    model=\"gpt-4-turbo\",\n",
    "    messages=[{\"role\": \"user\", \"content\": \"Hello\"}],\n",
    ")\n",
    "print(response.choices[0].message.content)"
   ]
  },
  {
   "cell_type": "code",
   "execution_count": 2,
   "metadata": {},
   "outputs": [
    {
     "name": "stdout",
     "output_type": "stream",
     "text": [
      "/home/ivan/anaconda3/envs/university_crawl/bin/python\n"
     ]
    }
   ],
   "source": [
    "import os\n",
    "import sys\n",
    "from pprint import pprint\n",
    "\n",
    "#'/home/ivan/Uforse/university_crawl/fetch_logic'\n",
    "current_path = os.path.abspath('./')\n",
    "\n",
    "#'/home/ivan/Uforse/university_crawl'\n",
    "parent_path = os.path.dirname(current_path)\n",
    "sys.path.append(parent_path)\n",
    "import sys\n",
    "print(sys.executable)\n",
    "sys.path.append('/home/ivan/Uforse/university_crawl')"
   ]
  },
  {
   "cell_type": "code",
   "execution_count": 3,
   "metadata": {},
   "outputs": [],
   "source": [
    "import university_info_generator"
   ]
  },
  {
   "cell_type": "code",
   "execution_count": 4,
   "metadata": {},
   "outputs": [],
   "source": [
    "from university_info_generator import config\n",
    "from university_info_generator import UniversityInfoGenerator\n",
    "from university_info_generator import UniversityBasicInfoType, UniversitySavedDictType, GPTMethodType, HandlerType\n",
    "from university_info_generator.utility.google_sheet_utility import *\n",
    "from university_info_generator.utility.save_load_utility import *\n",
    "from university_info_generator.configs import ALL_ATTRIBUTE_NAME"
   ]
  },
  {
   "cell_type": "markdown",
   "metadata": {},
   "source": [
    "## useful methods"
   ]
  },
  {
   "cell_type": "code",
   "execution_count": 5,
   "metadata": {},
   "outputs": [],
   "source": [
    "def filter_jsonl_file(input_filepath, output_filepath, keyword):\n",
    "    \"\"\"\n",
    "    Reads a JSONL file and writes out only those lines that do not contain the specified keyword.\n",
    "\n",
    "    Args:\n",
    "    - input_filepath (str): Path to the input JSONL file.\n",
    "    - output_filepath (str): Path to the output JSONL file where results should be saved.\n",
    "    - keyword (str): Keyword to search for in each JSON object to decide if it should be excluded.\n",
    "    \"\"\"\n",
    "    with open(input_filepath, 'r', encoding='utf-8') as file, open(output_filepath, 'w', encoding='utf-8') as outfile:\n",
    "        for line in file:\n",
    "            if keyword not in line:  # Check if the keyword is in the line\n",
    "                outfile.write(line)  # Write the line to the output file if keyword is not found\n",
    "\n",
    "def extract_university_data(worksheet):\n",
    "    \"\"\"\n",
    "    Extracts university names and their corresponding IDs from a worksheet.\n",
    "\n",
    "    Args:\n",
    "        worksheet: A gspread worksheet object with university data.\n",
    "\n",
    "    Returns:\n",
    "        List[tuple]: A list of tuples, each containing the university name and its ID.\n",
    "    \"\"\"\n",
    "    # Get all values in the first column for university names\n",
    "    university_names = worksheet.col_values(2)[1:]  # Assuming the first row is a header\n",
    "    # Get all values in the second column for IDs\n",
    "    university_ids = worksheet.col_values(1)[1:]  # Assuming the first row is a header\n",
    "\n",
    "    # Combine the names and IDs, stripping any extra whitespace and skipping any empty entries\n",
    "    university_data = [(id_.strip(), name.strip()) for name, id_ in zip(university_names, university_ids) if name.strip() and id_.strip()]\n",
    "    return university_data\n",
    "\n",
    "\n",
    "# # threading template\n",
    "# def fetch_university_info(uni_gen, university_name, results, index):\n",
    "#     # Retrieve university info and store it in the results list at the correct index\n",
    "#     results[index] = uni_gen.get_university_info(university_name)\n",
    "\n",
    "# results = [None] * len(lst)\n",
    "# threads = []\n",
    "# for i, university in enumerate(lst[:3]):\n",
    "#     thread = threading.Thread(target=fetch_university_info, args=(uni_gen, university, results, i))\n",
    "#     threads.append(thread)\n",
    "#     thread.start()\n",
    "\n",
    "# for thread in threads:\n",
    "#     thread.join()"
   ]
  },
  {
   "cell_type": "markdown",
   "metadata": {},
   "source": [
    "## Get Attr list"
   ]
  },
  {
   "cell_type": "code",
   "execution_count": 6,
   "metadata": {},
   "outputs": [],
   "source": [
    "attr_df = get_attribute_df()\n",
    "# attr_df.head(25)"
   ]
  },
  {
   "cell_type": "code",
   "execution_count": 7,
   "metadata": {},
   "outputs": [],
   "source": [
    "store_cache(config.UNIVERSITY_ATTRIBUTE_CACHE_FILE_PATH, get_attribute_dict())"
   ]
  },
  {
   "cell_type": "markdown",
   "metadata": {
    "notebookRunGroups": {
     "groupValue": "1"
    }
   },
   "source": [
    "## Main train logic"
   ]
  },
  {
   "cell_type": "code",
   "execution_count": 8,
   "metadata": {},
   "outputs": [],
   "source": [
    "uni_gen = UniversityInfoGenerator()\n",
    "uni_gen.load_from_file(UniversitySavedDictType.ATTRIBUTE, config.UNIVERSITY_ATTRIBUTE_CACHE_FILE_PATH)\n",
    "uni_gen.load_from_file(UniversitySavedDictType.GPT_CACHE, \"./gpt_cache.jsonl\")\n",
    "uni_gen.load_from_file(UniversitySavedDictType.UNIVERSITY_BASIC_INFO, \"./university_basic_info.jsonl\")\n",
    "uni_gen.load_from_file(UniversitySavedDictType.UNIVERSITY_INFO, \"./university_info.jsonl\")\n"
   ]
  },
  {
   "cell_type": "code",
   "execution_count": 9,
   "metadata": {},
   "outputs": [
    {
     "name": "stdout",
     "output_type": "stream",
     "text": [
      "dict_keys(['attribute_format', 'attribute_reference', 'attribute_prompt', 'example', 'handler', 'k_value', 'mapping'])\n"
     ]
    }
   ],
   "source": [
    "pprint(uni_gen.attribute_dict[\"location\"].keys())"
   ]
  },
  {
   "cell_type": "code",
   "execution_count": 10,
   "metadata": {},
   "outputs": [
    {
     "name": "stdout",
     "output_type": "stream",
     "text": [
      "{'attribute_format': '<graduate_rate>%',\n",
      " 'attribute_prompt': 'Find the graduation rate. Keep the format in two digits, '\n",
      "                     'like 89 represent 89%',\n",
      " 'attribute_reference': '',\n",
      " 'example': '89%',\n",
      " 'handler': <HandlerType.LANGCHAIN_TAVILY: 16>,\n",
      " 'k_value': '',\n",
      " 'mapping': ''}\n"
     ]
    }
   ],
   "source": [
    "pprint(uni_gen.attribute_dict[\"graduation_rate\"])"
   ]
  },
  {
   "cell_type": "code",
   "execution_count": 11,
   "metadata": {},
   "outputs": [],
   "source": [
    "target_worksheet = get_worksheet()\n"
   ]
  },
  {
   "cell_type": "code",
   "execution_count": 12,
   "metadata": {},
   "outputs": [],
   "source": [
    "# canada\n",
    "target_university_ca = get_worksheet(\n",
    "    spreadsheet_title= \"working_extract_info_output\",\n",
    "    sheetname= \"target_university_canada_stat\",\n",
    "    sheet_client= get_sheet_client(),\n",
    ")\n",
    "\n",
    "# states\n",
    "target_university_usa = get_worksheet(\n",
    "    spreadsheet_title= \"working_extract_info_output\",\n",
    "    sheetname= \"target_university_list_usa\",\n",
    "    sheet_client= get_sheet_client(),\n",
    ")\n"
   ]
  },
  {
   "cell_type": "code",
   "execution_count": 13,
   "metadata": {},
   "outputs": [
    {
     "name": "stdout",
     "output_type": "stream",
     "text": [
      "[('92', 'University of Calgary - Including medical and dental'), ('93', 'Burman University'), ('94', 'Concordia University of Edmonton'), ('95', 'University of Lethbridge'), ('96', \"The King's University College\"), ('97', 'Ambrose University'), ('98', 'Grant MacEwan University'), ('99', 'Mount Royal University'), ('100', 'University of British Columbia - Including medical and dental'), ('101', 'University of Northern British Columbia'), ('102', 'Royal Roads University'), ('103', 'Simon Fraser University'), ('104', 'University of Victoria'), ('105', 'Thompson Rivers University'), ('106', 'Capilano University'), ('107', 'Vancouver Island University'), ('108', 'Emily Carr University of Art and Design'), ('109', 'Kwantlen Polytechnic University'), ('110', 'University of the Fraser Valley'), ('111', 'Yukon University')]\n"
     ]
    }
   ],
   "source": [
    "lst = extract_university_data(target_university_ca)\n",
    "print(lst[-20:])"
   ]
  },
  {
   "cell_type": "code",
   "execution_count": 14,
   "metadata": {},
   "outputs": [],
   "source": [
    "usa_lst = extract_university_data(target_university_usa)\n",
    "df = pd.DataFrame.from_dict(dict(usa_lst), orient=\"index\").reset_index()\n",
    "df.columns = [\"university_name\", \"id_\"]\n",
    "file_path = \"all_universities_usa.csv\"\n",
    "df.to_csv(file_path, index=False, encoding=\"utf-8\")"
   ]
  },
  {
   "cell_type": "code",
   "execution_count": 15,
   "metadata": {},
   "outputs": [],
   "source": [
    "df = pd.DataFrame.from_dict(dict(lst), orient=\"index\").reset_index()\n",
    "df.columns = [\"university_name\", \"id_\"]\n",
    "file_path = \"all_universities_canada.csv\"\n",
    "df.to_csv(file_path, index=False, encoding=\"utf-8\")"
   ]
  },
  {
   "cell_type": "code",
   "execution_count": 16,
   "metadata": {},
   "outputs": [
    {
     "data": {
      "text/plain": [
       "0        1\n",
       "1        2\n",
       "2        3\n",
       "3        4\n",
       "4        5\n",
       "      ... \n",
       "106    107\n",
       "107    108\n",
       "108    109\n",
       "109    110\n",
       "110    111\n",
       "Name: university_name, Length: 111, dtype: object"
      ]
     },
     "execution_count": 16,
     "metadata": {},
     "output_type": "execute_result"
    }
   ],
   "source": [
    "df[\"university_name\"]"
   ]
  },
  {
   "cell_type": "code",
   "execution_count": 17,
   "metadata": {},
   "outputs": [],
   "source": [
    "from university_info_generator.configs.enum_class import UniversityGeneralInfoType, UniversityAttributeColumnType"
   ]
  },
  {
   "cell_type": "code",
   "execution_count": 18,
   "metadata": {},
   "outputs": [],
   "source": [
    "import threading\n"
   ]
  },
  {
   "cell_type": "code",
   "execution_count": 19,
   "metadata": {},
   "outputs": [],
   "source": [
    "import time"
   ]
  },
  {
   "cell_type": "code",
   "execution_count": 20,
   "metadata": {},
   "outputs": [
    {
     "name": "stdout",
     "output_type": "stream",
     "text": [
      "[('1', 'Memorial University of Newfoundland - Including medical and dental'), ('2', 'University of Prince Edward Island'), ('3', 'Acadia University'), ('4', 'Acadia Divinity College'), ('5', 'Atlantic School of Theology'), ('6', 'Cape Breton University'), ('7', 'Dalhousie University - Including medical and dental'), ('8', \"University of King's College\"), ('9', 'Mount Saint Vincent University'), ('10', 'Nova Scotia College of Art and Design University (NSCAD)'), ('11', 'Université Sainte-Anne'), ('12', 'St. Francis Xavier University'), ('13', \"Saint Mary's University\"), ('14', 'Mount Allison University'), ('15', 'University of New Brunswick'), ('16', 'Université de Moncton (parent)'), ('17', 'St. Thomas University'), ('18', \"Bishop's University\"), ('19', 'McGill University - Including medical and dental'), ('20', 'Université de Montréal - Including medical and dental'), ('21', 'Polytechnique Montréal'), ('22', 'École des hautes études commerciales'), ('23', 'Université Laval - Including medical and dental'), ('24', 'Université de Sherbrooke - Including medical and dental'), ('25', 'Concordia University'), ('26', 'Université du Québec à Chicoutimi'), ('27', 'Université du Québec à Montréal'), ('28', 'Université du Québec en Abitibi-Témiscamingue'), ('29', 'Université du Québec à Trois-Rivières'), ('30', 'Université du Québec en Outaouais'), ('31', \"Université du Québec, École nationale d'administration publique (ENAP)\"), ('32', 'Université du Québec, Institut national de la recherche scientifique'), ('33', 'Université du Québec à Rimouski'), ('34', 'Université du Québec, École de technologie supérieure'), ('35', 'Université du Québec, Télé-université du Québec (TÉLUQ)'), ('36', 'Brock University'), ('37', 'Concordia Lutheran Theological Seminary'), ('38', 'Carleton University'), ('39', 'Dominican University College/Collège Universitaire Dominicain'), ('40', 'University of Guelph'), ('41', 'Lakehead University'), ('42', 'Laurentian University of Sudbury/Université Laurentienne de Sudbury'), ('43', 'McMaster University - Including medical and dental'), ('44', 'Nipissing University'), ('45', 'University of Ottawa - Including medical and dental'), ('46', 'Saint-Paul University/Université Saint-Paul'), ('47', \"Queen's University - Including medical and dental\"), ('48', 'Ryerson University'), ('49', 'University of Toronto - Including medical and dental'), ('50', \"St. Augustine's Seminary\"), ('51', \"University of St. Michael's College\"), ('52', 'University of Trinity College'), ('53', 'Victoria University'), ('54', 'Knox College'), ('55', 'Wycliffe College'), ('56', 'Regis College'), ('57', 'Trent University'), ('58', 'University of Waterloo'), ('59', \"St. Jerome's University\"), ('60', 'Renison University College'), ('61', 'Conrad Grebel University College'), ('62', 'University of Western Ontario - Including medical and dental'), ('63', 'Brescia University College'), ('64', 'Huron University College'), ('65', \"King's College\"), ('66', 'Wilfred Laurier University'), ('67', 'University of Windsor'), ('68', 'York University'), ('69', 'Ontario College of Art and Design'), ('70', 'University of Ontario Institute of Technology'), ('71', 'Algoma University College'), ('72', 'University of Sudbury'), ('73', 'Université de Hearst'), ('74', 'Huntington University'), ('75', 'Thorneloe University'), ('76', 'Brandon University'), ('77', 'Canadian Mennonite University'), ('78', 'University of Manitoba - Including medical and dental'), ('79', 'Université de Saint-Boniface'), ('80', 'University of Winnipeg'), ('81', 'University of Regina'), ('82', 'Campion College'), ('83', 'Luther College'), ('84', 'University of Saskatchewan - Including medical and dental'), ('85', 'College of Emmanuel and St. Chad'), ('86', 'Lutheran Theological Seminary'), ('87', \"St. Andrew's College\"), ('88', 'St. Thomas More College'), ('89', 'Horizon College & Seminary'), ('90', 'University of Alberta - Including medical and dental'), ('91', 'Athabasca University'), ('92', 'University of Calgary - Including medical and dental'), ('93', 'Burman University'), ('94', 'Concordia University of Edmonton'), ('95', 'University of Lethbridge'), ('96', \"The King's University College\"), ('97', 'Ambrose University'), ('98', 'Grant MacEwan University'), ('99', 'Mount Royal University'), ('100', 'University of British Columbia - Including medical and dental'), ('101', 'University of Northern British Columbia'), ('102', 'Royal Roads University'), ('103', 'Simon Fraser University'), ('104', 'University of Victoria'), ('105', 'Thompson Rivers University'), ('106', 'Capilano University'), ('107', 'Vancouver Island University'), ('108', 'Emily Carr University of Art and Design'), ('109', 'Kwantlen Polytechnic University'), ('110', 'University of the Fraser Valley'), ('111', 'Yukon University')]\n",
      "111\n"
     ]
    }
   ],
   "source": [
    "lst = extract_university_data(target_university_ca)\n",
    "\n",
    "# target_name = [\"toronto\", \"calgary\", \"british colombia\", \"victory\", \"simon fraser\", \"guelph\", \"waterloo\"]\n",
    "\n",
    "# def my_filter(x):\n",
    "#     return any(name in x[0].lower() for name in target_name)\n",
    "\n",
    "# lst = list(filter(my_filter, lst))\n",
    "print(lst)\n",
    "print(len(lst))"
   ]
  },
  {
   "cell_type": "code",
   "execution_count": 21,
   "metadata": {},
   "outputs": [
    {
     "name": "stdout",
     "output_type": "stream",
     "text": [
      "{'id_': '58', 'university_name': 'University of Waterloo', 'abbreviation': 'UW', 'website': 'https://uwaterloo.ca', 'wikipedia': 'https://en.wikipedia.org/wiki/University_of_Waterloo'}\n"
     ]
    }
   ],
   "source": [
    "print(list(uni_gen.university_basic_info_dict.values())[106])"
   ]
  },
  {
   "cell_type": "code",
   "execution_count": null,
   "metadata": {
    "notebookRunGroups": {
     "groupValue": "1"
    }
   },
   "outputs": [
    {
     "name": "stderr",
     "output_type": "stream",
     "text": [
      "Failed to batch ingest runs: LangSmithRateLimitError('Rate limit exceeded for https://api.smith.langchain.com/runs/batch. HTTPError(\\'429 Client Error: Too Many Requests for url: https://api.smith.langchain.com/runs/batch\\', \\'{\"detail\":\"Monthly unique traces usage limit exceeded\"}\\')')\n",
      "Failed to batch ingest runs: LangSmithRateLimitError('Rate limit exceeded for https://api.smith.langchain.com/runs/batch. HTTPError(\\'429 Client Error: Too Many Requests for url: https://api.smith.langchain.com/runs/batch\\', \\'{\"detail\":\"Monthly unique traces usage limit exceeded\"}\\')')\n"
     ]
    }
   ],
   "source": [
    "# # def fetch_university_info(uni_gen, university_name, results, index):\n",
    "# #     # Retrieve university info and store it in the results list at the correct index\n",
    "# #     results[index] = uni_gen.get_university_info(university_name)\n",
    "\n",
    "# # results = [None] * len(lst)\n",
    "# # threads = []\n",
    "# # for i, university in enumerate(lst[:3]):\n",
    "# #     thread = threading.Thread(target=fetch_university_info, args=(uni_gen, university, results, i))\n",
    "# #     threads.append(thread)\n",
    "# #     thread.start()\n",
    "# #     time.sleep(20)\n",
    "\n",
    "# # for thread in threads:\n",
    "# #     time.sleep(10)\n",
    "# #     thread.join()\n",
    "# # result = uni_gen.get_university_info(lst[0])\n",
    "# for uni_name in uni_gen.university_basic_info_dict:\n",
    "#     id_ = uni_gen.university_basic_info_dict[uni_name][\"id_\"]\n",
    "#     print(uni_name, id_)\n",
    "#     uni_gen.get_university_info(uni_name, id_)\n",
    "uni_gen.get_university_info(\"Academy of Art University\", -1)\n",
    "# uni_gen.get_info_by_attribute(university_name=\"UW\", attribute_name=\"location\")\n",
    "# uni_gen.get_info_by_attribute(university_name=\"UW\", attribute_name=GeneralInfoType.LOCATION.value, handler=HandlerType.LANGCHAIN_SERPER, params={\"transformer\":  \"RecursiveURL\"})\n",
    "# uni_gen.get_info_by_attribute(university_name=\"Adler Graduate Professional School\", attribute_name=GeneralInfoType.DOMESTIC_STUDENT_TUITION.value, handler=HandlerType.LANGCHAIN_SERPER, params={\"transformer\":  \"RecursiveURL\"})\n",
    "# uni_gen.get_university_basic_info('University of Waterloo', 58, BasicInfoType.ABBREVIATION)"
   ]
  },
  {
   "cell_type": "code",
   "execution_count": null,
   "metadata": {},
   "outputs": [
    {
     "data": {
      "text/plain": [
       "{'id_': -1,\n",
       " 'university_name': 'Academy of Art University',\n",
       " 'abbreviation': 'AAU',\n",
       " 'website': 'https://www.academyart.edu',\n",
       " 'wikipedia': 'https://en.wikipedia.org/wiki/Academy_of_Art_University',\n",
       " 'university_type': 'Private University',\n",
       " 'graduation_year': '4',\n",
       " 'location': 'San Francisco, California, United States',\n",
       " 'graduation_rate': '34%',\n",
       " 'domestic_student_tuition': 'Attribute: domestic_student_tuition\\nOutput format: CAD $3,378 / CAD $3,378 - $3,378',\n",
       " 'international_student_tuition': '$1,272 per unit',\n",
       " 'ranking_qs_news_2024': '',\n",
       " 'description': 'The Academy of Art University, located in San Francisco, California, is a privately owned for-profit art school. It was founded in 1929 by Richard S. Stephens and offers undergraduate and graduate programs in a wide array of art and design fields. The university is known for its inclusive admission policy, extensive online courses, and a commitment to preparing students for professional careers in the arts. The Academy of Art University also participates in NCAA Division II sports and hosts an annual automobile museum show featuring classic and significant cars from history.',\n",
       " 'ranking_us_news_2023': '',\n",
       " 'ranking_times_rank_2024': '',\n",
       " 'ranking_arwu_rank_2023': '',\n",
       " 'important_calendar': 'https://my.academyart.edu/calendar',\n",
       " 'statistics': \"Undergraduate Programs: 99\\nMaster's and PhD Programs: 84\",\n",
       " 'faculty': 'Music Production & Sound Design Faculty\\nVisual Development Faculty\\nArchitecture Faculty',\n",
       " 'popular_programs': 'Art and Art History Programs\\nAnimation Programs\\nGraphic Design Programs\\nInteraction & UI/UX Design Programs',\n",
       " 'programs': \"Fine Art Degrees\\nCertificates\\nAssociate degrees\\nBachelor's degrees\\nMaster's degrees\\nNon-degree art programs\\nOnline Fine Arts Degree\\nOnline Graphic Design Degree\\nOnline Illustration Degree\",\n",
       " 'others': '',\n",
       " 'characteristics': 'Academy of Art University is a prominent institution dedicated to art and design, offering a rich educational experience in the heart of San Francisco. Here are some key characteristics:\\nLarge Private Art and Design School: It stands as one of the largest private, accredited art and design schools in the nation, providing a vast array of programs and resources.\\nProfessional Focus: The university emphasizes professional training, helping students to master their craft with a focus on real-world application and success in their respective fields.\\nDiverse Program Offerings: With over 900 art and design classes, 22 different schools, and 14 STEM programs, the Academy offers a comprehensive educational path for a variety of interests and careers.\\nUrban Campus Experience: Located in San Francisco, the university offers an urban campus experience, complete with shuttle services for easy transportation, and proximity to the vibrant cultural and artistic scenes of the city.\\nInnovative Exhibitions: The university hosts exciting events like the Spring Show 2024 Virtual Exhibition, showcasing the creativity and innovation of its students.\\nHistorical Significance: Since its founding in 1929, the Academy has been a family-owned institution that has contributed significantly to the arts community in San Francisco and beyond.'}"
      ]
     },
     "execution_count": 38,
     "metadata": {},
     "output_type": "execute_result"
    }
   ],
   "source": [
    "uni_gen.university_info_dict[\"Academy of Art University\"].to_dict_en()"
   ]
  },
  {
   "cell_type": "markdown",
   "metadata": {},
   "source": [
    "## df result"
   ]
  },
  {
   "cell_type": "code",
   "execution_count": null,
   "metadata": {},
   "outputs": [],
   "source": [
    "# print(uni_gen.university_basic_info_dict[\"University of Waterloo\"])"
   ]
  },
  {
   "cell_type": "code",
   "execution_count": null,
   "metadata": {},
   "outputs": [],
   "source": [
    "from typing import Any\n",
    "result_dict:Dict[str, Dict[str, Any]] = {}\n",
    "for k in uni_gen.university_info_dict:\n",
    "    value = uni_gen.university_info_dict[k]\n",
    "    if type(value) == dict:\n",
    "        result_dict[k] = value\n",
    "    elif type(value) == University:\n",
    "        result_dict[k] = value.to_dict_en()"
   ]
  },
  {
   "cell_type": "code",
   "execution_count": null,
   "metadata": {},
   "outputs": [
    {
     "name": "stderr",
     "output_type": "stream",
     "text": [
      "Failed to batch ingest runs: LangSmithRateLimitError('Rate limit exceeded for https://api.smith.langchain.com/runs/batch. HTTPError(\\'429 Client Error: Too Many Requests for url: https://api.smith.langchain.com/runs/batch\\', \\'{\"detail\":\"Monthly unique traces usage limit exceeded\"}\\')')\n",
      "Failed to batch ingest runs: LangSmithRateLimitError('Rate limit exceeded for https://api.smith.langchain.com/runs/batch. HTTPError(\\'429 Client Error: Too Many Requests for url: https://api.smith.langchain.com/runs/batch\\', \\'{\"detail\":\"Monthly unique traces usage limit exceeded\"}\\')')\n",
      "Failed to batch ingest runs: LangSmithRateLimitError('Rate limit exceeded for https://api.smith.langchain.com/runs/batch. HTTPError(\\'429 Client Error: Too Many Requests for url: https://api.smith.langchain.com/runs/batch\\', \\'{\"detail\":\"Monthly unique traces usage limit exceeded\"}\\')')\n",
      "Failed to batch ingest runs: LangSmithRateLimitError('Rate limit exceeded for https://api.smith.langchain.com/runs/batch. HTTPError(\\'429 Client Error: Too Many Requests for url: https://api.smith.langchain.com/runs/batch\\', \\'{\"detail\":\"Monthly unique traces usage limit exceeded\"}\\')')\n",
      "Failed to batch ingest runs: LangSmithRateLimitError('Rate limit exceeded for https://api.smith.langchain.com/runs/batch. HTTPError(\\'429 Client Error: Too Many Requests for url: https://api.smith.langchain.com/runs/batch\\', \\'{\"detail\":\"Monthly unique traces usage limit exceeded\"}\\')')\n",
      "Failed to batch ingest runs: LangSmithRateLimitError('Rate limit exceeded for https://api.smith.langchain.com/runs/batch. HTTPError(\\'429 Client Error: Too Many Requests for url: https://api.smith.langchain.com/runs/batch\\', \\'{\"detail\":\"Monthly unique traces usage limit exceeded\"}\\')')\n"
     ]
    }
   ],
   "source": [
    "df = pd.DataFrame.from_dict(result_dict, orient=\"index\").reset_index()\n",
    "df.head()\n",
    "df.to_csv(\"./fetch_data/all_universities_canada_info.csv\", index=False)"
   ]
  },
  {
   "cell_type": "code",
   "execution_count": null,
   "metadata": {},
   "outputs": [],
   "source": [
    "# df.columns = [\"index\", \" id_\", \"university_name\", \"abbreviation\", \"website\", \"wikipedia\"]\n",
    "\n",
    "# df.drop(columns=\"index\", inplace=True)\n",
    "# df.drop(columns=\"abbreviation\", inplace=True)"
   ]
  },
  {
   "cell_type": "code",
   "execution_count": null,
   "metadata": {},
   "outputs": [],
   "source": []
  },
  {
   "cell_type": "markdown",
   "metadata": {
    "notebookRunGroups": {
     "groupValue": "1"
    }
   },
   "source": [
    "## Saving Logic"
   ]
  },
  {
   "cell_type": "code",
   "execution_count": null,
   "metadata": {
    "notebookRunGroups": {
     "groupValue": "1"
    }
   },
   "outputs": [
    {
     "name": "stdout",
     "output_type": "stream",
     "text": [
      "An error occurred: APIError: [429]: Quota exceeded for quota metric 'Write requests' and limit 'Write requests per minute per user' of service 'sheets.googleapis.com' for consumer 'project_number:239229069911'.\n"
     ]
    }
   ],
   "source": [
    "uni_gen.save_to_file(UniversitySavedDictType.UNIVERSITY_INFO, \"./university_info.jsonl\")\n",
    "uni_gen.save_to_file(UniversitySavedDictType.UNIVERSITY_BASIC_INFO, \"./university_basic_info.jsonl\")\n",
    "uni_gen.save_to_file(UniversitySavedDictType.GPT_CACHE, \"./gpt_cache.jsonl\")\n",
    "uni_gen.save_to_file(UniversitySavedDictType.TROUBLE_PRODUCED, \"./trouble_produced.jsonl\")\n",
    "clear_worksheet_content(target_worksheet)\n",
    "write_cache_to_worksheet(\"university_info.jsonl\", target_worksheet)"
   ]
  },
  {
   "cell_type": "code",
   "execution_count": null,
   "metadata": {
    "notebookRunGroups": {
     "groupValue": "1"
    }
   },
   "outputs": [],
   "source": [
    "# uni_gen.save_to_file(UniversitySavedDictType.UNIVERSITY_BASIC_INFO, \"./university_basic_info.jsonl\")"
   ]
  },
  {
   "cell_type": "code",
   "execution_count": null,
   "metadata": {
    "notebookRunGroups": {
     "groupValue": "1"
    }
   },
   "outputs": [],
   "source": [
    "# uni_gen.save_to_file(UniversitySavedDictType.GPT_CACHE, \"./gpt_cache.jsonl\")"
   ]
  },
  {
   "cell_type": "code",
   "execution_count": null,
   "metadata": {},
   "outputs": [],
   "source": [
    "# uni_gen.save_to_file(UniversitySavedDictType.TROUBLE_PRODUCED, \"./trouble_produced.jsonl\")"
   ]
  },
  {
   "cell_type": "code",
   "execution_count": null,
   "metadata": {
    "notebookRunGroups": {
     "groupValue": "1"
    }
   },
   "outputs": [],
   "source": [
    "# clear_worksheet_content(target_worksheet)"
   ]
  },
  {
   "cell_type": "code",
   "execution_count": null,
   "metadata": {
    "notebookRunGroups": {
     "groupValue": "1"
    }
   },
   "outputs": [],
   "source": [
    "# write_cache_to_worksheet(\"university_info.jsonl\", target_worksheet)\n"
   ]
  }
 ],
 "metadata": {
  "kernelspec": {
   "display_name": "gpu",
   "language": "python",
   "name": "python3"
  },
  "language_info": {
   "codemirror_mode": {
    "name": "ipython",
    "version": 3
   },
   "file_extension": ".py",
   "mimetype": "text/x-python",
   "name": "python",
   "nbconvert_exporter": "python",
   "pygments_lexer": "ipython3",
   "version": "3.12.3"
  }
 },
 "nbformat": 4,
 "nbformat_minor": 2
}
