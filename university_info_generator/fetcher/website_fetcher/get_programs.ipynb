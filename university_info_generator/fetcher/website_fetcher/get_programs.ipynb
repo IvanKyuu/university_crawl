{
 "cells": [
  {
   "cell_type": "code",
   "execution_count": 5,
   "metadata": {},
   "outputs": [
    {
     "name": "stdout",
     "output_type": "stream",
     "text": [
      "test\n"
     ]
    }
   ],
   "source": [
    "from selenium import webdriver\n",
    "from selenium.webdriver.chrome.options import Options\n",
    "chrome_options = Options()\n",
    "chrome_options.add_argument(\"--headless\")\n",
    "chrome_options.add_argument('--no-sandbox')\n",
    "driver = webdriver.Chrome( options=chrome_options)\n",
    "driver.get('http://www.google.com')\n",
    "print('test')\n",
    "driver.close()"
   ]
  },
  {
   "cell_type": "code",
   "execution_count": 6,
   "metadata": {},
   "outputs": [],
   "source": [
    "    def filter_canada(target_uni_canada):\n",
    "        arwu_data_frame = self.to_dataframe()\n",
    "        # target_uni_canada = pd.read_csv(path_to_csv)\n",
    "        arwu_data_frame[\"university_name\"] = arwu_data_frame[\"university_name\"].str.lower()\n",
    "        target_uni_canada[\"university_name\"] = target_uni_canada[\"university_name\"].str.lower()\n",
    "        matched_df = pd.DataFrame(columns=['arwu_name', 'arwu_rank', 'arwu_link', 'canada_name', 'canada_id'])\n",
    "        for index, arwu_row in arwu_data_frame.iterrows():\n",
    "            arwu_name = arwu_row['university_name_lower']\n",
    "            \n",
    "            # Check each university in the Canadian DataFrame for a substring match\n",
    "            for _, canada_row in target_uni_canada.iterrows():\n",
    "                canada_name = canada_row['university_name_lower']\n",
    "                # Check if one name is a substring of the other\n",
    "                if arwu_name in canada_name or canada_name in arwu_name:\n",
    "                    # Add the match to the DataFrame\n",
    "                    matched_df = matched_df.append({\n",
    "                        'arwu_name': arwu_row['university_name'],\n",
    "                        'arwu_rank': arwu_row['rank'],\n",
    "                        'arwu_link': arwu_row['arwu_uni_link'],\n",
    "                        'canada_name': canada_row['university_name'],\n",
    "                        'canada_id': canada_row['id_']\n",
    "                    }, ignore_index=True)\n",
    "\n",
    "        return matched_df"
   ]
  }
 ],
 "metadata": {
  "kernelspec": {
   "display_name": "gpu",
   "language": "python",
   "name": "python3"
  },
  "language_info": {
   "codemirror_mode": {
    "name": "ipython",
    "version": 3
   },
   "file_extension": ".py",
   "mimetype": "text/x-python",
   "name": "python",
   "nbconvert_exporter": "python",
   "pygments_lexer": "ipython3",
   "version": "3.9.16"
  }
 },
 "nbformat": 4,
 "nbformat_minor": 2
}
